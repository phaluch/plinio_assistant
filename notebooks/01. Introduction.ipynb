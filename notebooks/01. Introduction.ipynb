{
 "cells": [
  {
   "cell_type": "markdown",
   "metadata": {},
   "source": [
    "# Intruduction to LangGraph   \n",
    "https://github.com/langchain-ai/langgraph/blob/main/examples/introduction.ipynb"
   ]
  },
  {
   "cell_type": "code",
   "execution_count": 2,
   "metadata": {},
   "outputs": [
    {
     "data": {
      "text/plain": [
       "True"
      ]
     },
     "execution_count": 2,
     "metadata": {},
     "output_type": "execute_result"
    }
   ],
   "source": [
    "# Setting up environment\n",
    "from dotenv import load_dotenv\n",
    "load_dotenv(r'D:\\git\\plinio_assistant\\.env')"
   ]
  },
  {
   "cell_type": "code",
   "execution_count": 3,
   "metadata": {},
   "outputs": [],
   "source": [
    "from typing import Annotated # This is what will allow us to pass the reductor function to our State class\n",
    "\n",
    "from typing_extensions import TypedDict # So we can better 'lock' the datatypes for our state attributes\n",
    "\n",
    "from langgraph.graph import StateGraph # The main structure of our graph\n",
    "from langgraph.graph.message import add_messages # This is a prebuilt function that does the reductor job. Could be manually implemented."
   ]
  },
  {
   "cell_type": "code",
   "execution_count": 4,
   "metadata": {},
   "outputs": [],
   "source": [
    "# Creating the State class\n",
    "class State(TypedDict):\n",
    "    \"\"\"\n",
    "    The State class is a TypedDict that will hold the attributes of our state.\n",
    "    The add_messages reductor function will guarantee that when a node simply returns the new message, it is appended instead of replacing the previous ones.\n",
    "    \"\"\"\n",
    "    messages: Annotated[list, add_messages]\n",
    "\n",
    "# As an additional consideration, the states should always have a a key-value structure.\n",
    "# The reason to use TypedDicts or Pydantic models is to create additional validation when needed."
   ]
  },
  {
   "cell_type": "code",
   "execution_count": 5,
   "metadata": {},
   "outputs": [],
   "source": [
    "# This is the main structure of our graph. \n",
    "# We first create the 'scafolding' for it, so we can add the nodes and edges later.\n",
    "# When we're done, we will .compile() it.\n",
    "# These are based on NetworkX, so there's some graph traversal logic that makes sense here.\n",
    "\n",
    "graph_builder = StateGraph(State)\n",
    "# Ok, so what does this do: it prepares said 'scafolding'.\n",
    "# But more importantly, is says that every node in the graph MUST receive the state as an input.\n",
    "# Secondly, the nodes should return just the UPDATEs to the state, that'll be applied using the reductor function.\n",
    "# They shouldnt return the whole state, just the updates."
   ]
  },
  {
   "cell_type": "code",
   "execution_count": 6,
   "metadata": {},
   "outputs": [],
   "source": [
    "# Now for an llm itself.\n",
    "# The tutorial uses Anthropic, I'll use OpenAI\n",
    "\n",
    "from langchain_openai import ChatOpenAI\n",
    "\n",
    "llm = ChatOpenAI(model='gpt-4o')"
   ]
  },
  {
   "cell_type": "code",
   "execution_count": 7,
   "metadata": {},
   "outputs": [],
   "source": [
    "# This will be the first node of our graph.\n",
    "# Nodes are callables. That's it.\n",
    "# If it happens to be a model, good for them.\n",
    "\n",
    "def chatbot_node_callable(state: State):\n",
    "    \"\"\"\n",
    "    This will 'simply' invoke the model. The tutorial defines it in one line:\n",
    "    return {\"messages\":[llm.invoke(state[\"messages\"])]}\n",
    "    but I'll split it up for clarity.\n",
    "\n",
    "    Inputs:\n",
    "    state: State > Note that it receives the FULL state. The graph is responsible for passing the correct attributes to the node (in this case, the state).\n",
    "\n",
    "    Outputs:\n",
    "    A key-value pair that'll be 'applied' to the state using the reductor function.\n",
    "    There is no need to return the entire state schema, just the updates.\n",
    "    In this case, we're updating the messages attribute, so:\n",
    "    return {\"messages\": [The output of the model]}\n",
    "\n",
    "    Note: The value should be a list, because the add_message reductor function is a beefed up version of list.extend().\n",
    "    \"\"\"\n",
    "    # Models except a list of messages when invoked, at least in this context.\n",
    "    messages = state[\"messages\"] # They are stored here, so we get them\n",
    "    response = llm.invoke(messages) # And pass them to the model\n",
    "    # The response for these messages is an instance of BaseMessage, implemented in the langchain library.\n",
    "    # Since langchain takes care of handling different types of messages (AIMessage, HumanMessage etc) we can use that abstraction\n",
    "    # and simply append it.\n",
    "    return {\"messages\": [response]} # Remembering to send it back as a list.\n",
    "\n",
    "    # Later addition: from reading the add_message docs it _apparently_ accepts a single message as well.\n",
    "    # Will try this when we run the graph."
   ]
  },
  {
   "cell_type": "code",
   "execution_count": 8,
   "metadata": {},
   "outputs": [],
   "source": [
    "# Now we start building on top of the scafolding.\n",
    "# We add the node to the graph.\n",
    "\n",
    "graph_builder.add_node('chatbot', chatbot_node_callable)"
   ]
  },
  {
   "cell_type": "code",
   "execution_count": 9,
   "metadata": {},
   "outputs": [],
   "source": [
    "# We need to set the entry and finish points of our graph.\n",
    "# Pretty sure the finish point is optional, and the graph just infers it from the last node in a sequence.\n",
    "# But being explicit is always a good idea.\n",
    "\n",
    "graph_builder.set_entry_point('chatbot') # A good convenience (courtesy of NetworkX) is that we can use the node name instead of the callable.\n",
    "graph_builder.set_finish_point('chatbot')"
   ]
  },
  {
   "cell_type": "code",
   "execution_count": 10,
   "metadata": {},
   "outputs": [],
   "source": [
    "# Great. Now its time to compile the graph.\n",
    "# This'll allow us to actually use it.\n",
    "\n",
    "graph = graph_builder.compile()"
   ]
  },
  {
   "cell_type": "code",
   "execution_count": 11,
   "metadata": {},
   "outputs": [
    {
     "data": {
      "image/jpeg": "[encoded data removed]",
      "text/plain": [
       "<IPython.core.display.Image object>"
      ]
     },
     "metadata": {},
     "output_type": "display_data"
    }
   ],
   "source": [
    "# Now this is a great helper function to visualize the graph.\n",
    "# Should probably wrap it in a callable as well at some point.\n",
    "\n",
    "from IPython.display import Image, display # Also, these imports should be at the top of an official .py; This is just a notebook tho.\n",
    "\n",
    "try:\n",
    "    display(Image(graph.get_graph().draw_mermaid_png())) # Also notice the get_graph() method is from the CompiledGraph class, not the StateGraph one.\n",
    "except Exception:\n",
    "    # This requires some extra dependencies and is optional\n",
    "    pass"
   ]
  },
  {
   "cell_type": "code",
   "execution_count": 16,
   "metadata": {},
   "outputs": [
    {
     "name": "stdout",
     "output_type": "stream",
     "text": [
      "{'messages': [HumanMessage(content='Hello, how are you?', id='05bd5810-26f7-4718-9c28-d83abd9e2dfb'),\n",
      "              AIMessage(content=\"Hello! I'm just a computer program, so I don't have feelings, but I'm here and ready to help you with whatever you need. How can I assist you today?\", response_metadata={'token_usage': {'completion_tokens': 34, 'prompt_tokens': 13, 'total_tokens': 47}, 'model_name': 'gpt-4o-2024-05-13', 'system_fingerprint': 'fp_ce0793330f', 'finish_reason': 'stop', 'logprobs': None}, id='run-5bcc3e7e-4b4b-4002-bd4a-2801830a00af-0', usage_metadata={'input_tokens': 13, 'output_tokens': 34, 'total_tokens': 47})]}\n"
     ]
    }
   ],
   "source": [
    "# Adapting a bit the tutorial, I'll use both the invoke and the stream methods.\n",
    "# Invoking runs everything before returning.\n",
    "\n",
    "# To start, we need the user input\n",
    "# In this first try I'll use langchain's HumanMessage class.\n",
    "from langchain_core.messages import HumanMessage\n",
    "\n",
    "user_input = HumanMessage(\"Hello, how are you?\")\n",
    "\n",
    "# Now remember, we must respect the schema the State class is expecting.\n",
    "# In this case, it's a dictionary with a list of messages, so the reductor function can work its magic.\n",
    "# I'm being unecessarily verbose here, but it's for clarity.\n",
    "first_input = {\"messages\": [user_input]}\n",
    "invocation_response = graph.invoke(first_input)\n",
    "\n",
    "# Now we can print the response.\n",
    "# Also for clarity, let's print the entire thing in a more pretty way.\n",
    "\n",
    "from pprint import pprint\n",
    "pprint(invocation_response)"
   ]
  },
  {
   "cell_type": "code",
   "execution_count": 18,
   "metadata": {},
   "outputs": [
    {
     "name": "stdout",
     "output_type": "stream",
     "text": [
      "<class 'langgraph.pregel.io.AddableValuesDict'>\n"
     ]
    }
   ],
   "source": [
    "# Great. The response is also there, with the usual metadata.\n",
    "# Just for clarity, what was returned was not a dict, it was the datatype from the state, but NOT the state.\n",
    "# Pretty messy.\n",
    "# TODO: Figure this out.\n",
    "\n",
    "print(type(invocation_response))"
   ]
  },
  {
   "cell_type": "code",
   "execution_count": 19,
   "metadata": {},
   "outputs": [],
   "source": [
    "# As I mentioned when building the graph, apparently the add_message reductor function can accept a single message.\n",
    "# Let's try that, but that means I'll have to rebuild the graph to use the different node.\n",
    "single_message_graph_builder = StateGraph(State)\n",
    "def chatbot_node_single_message_callable(state: State):\n",
    "    messages = state[\"messages\"]\n",
    "    response = llm.invoke(messages)\n",
    "    return {\"messages\": response} # This is the difference.\n",
    "\n",
    "single_message_graph_builder.add_node('chatbot', chatbot_node_single_message_callable)\n",
    "single_message_graph_builder.set_entry_point('chatbot')\n",
    "single_message_graph_builder.set_finish_point('chatbot')\n",
    "single_message_graph = single_message_graph_builder.compile()\n",
    "\n",
    "# Now we can invoke it again.\n",
    "first_input_single_message = {\"messages\": user_input} # I can use the same input as before.\n",
    "invocation_response_single_message = single_message_graph.invoke(first_input_single_message)"
   ]
  },
  {
   "cell_type": "code",
   "execution_count": 20,
   "metadata": {},
   "outputs": [
    {
     "name": "stdout",
     "output_type": "stream",
     "text": [
      "{'messages': [HumanMessage(content='Hello, how are you?', id='05bd5810-26f7-4718-9c28-d83abd9e2dfb'), AIMessage(content=\"Hello! I'm just a computer program, so I don't have feelings, but I'm here and ready to help you. How can I assist you today?\", response_metadata={'token_usage': {'completion_tokens': 30, 'prompt_tokens': 13, 'total_tokens': 43}, 'model_name': 'gpt-4o-2024-05-13', 'system_fingerprint': 'fp_ce0793330f', 'finish_reason': 'stop', 'logprobs': None}, id='run-54411f4e-87ba-4e84-b52f-4acdbeddc5e0-0', usage_metadata={'input_tokens': 13, 'output_tokens': 30, 'total_tokens': 43})]}\n"
     ]
    }
   ],
   "source": [
    "# Wouldn't you know it, it worked.\n",
    "print(invocation_response_single_message)"
   ]
  },
  {
   "cell_type": "code",
   "execution_count": 22,
   "metadata": {},
   "outputs": [],
   "source": [
    "# This is also an insane convenience given the Annotated nature of the State, plus the BaseMessage class:\n",
    "# we can simply pass a tuple of (role, message) and it'll figure it out.\n",
    "# I GUESS it is using this method behind the scenes: \n",
    "# https://api.python.langchain.com/en/latest/messages/langchain_core.messages.utils.convert_to_messages.html#langchain_core.messages.utils.convert_to_messages\n",
    "# But I'm not sure how it is identifying the need to use it.\n",
    "\n",
    "# Let's use the latter graph, to see if the convenience works in conjunction with the reductor function.\n",
    "first_input_tuple = {\"messages\": ('user','Howdy, good sir!')} # The tuple.\n",
    "\n",
    "invocation_response_tuple = single_message_graph.invoke(first_input_tuple)"
   ]
  },
  {
   "cell_type": "code",
   "execution_count": 23,
   "metadata": {},
   "outputs": [
    {
     "name": "stdout",
     "output_type": "stream",
     "text": [
      "{'messages': [HumanMessage(content='Howdy, good sir!', id='4090cc66-bffc-4442-863f-1ad2c6447ab3'), AIMessage(content='Well, howdy to you too! How can I assist you today?', response_metadata={'token_usage': {'completion_tokens': 15, 'prompt_tokens': 12, 'total_tokens': 27}, 'model_name': 'gpt-4o-2024-05-13', 'system_fingerprint': 'fp_ce0793330f', 'finish_reason': 'stop', 'logprobs': None}, id='run-4abfde2d-19a1-4328-820f-cd84320d72fe-0', usage_metadata={'input_tokens': 12, 'output_tokens': 15, 'total_tokens': 27})]}\n"
     ]
    }
   ],
   "source": [
    "# Apparently also worked. God bless abstractions.\n",
    "print(invocation_response_tuple)"
   ]
  },
  {
   "cell_type": "code",
   "execution_count": 24,
   "metadata": {},
   "outputs": [
    {
     "name": "stdout",
     "output_type": "stream",
     "text": [
      "{'chatbot': {'messages': AIMessage(content=\"Hello! I'm just a computer program, so I don't have feelings, but I'm here and ready to help you! How can I assist you today?\", response_metadata={'token_usage': {'completion_tokens': 30, 'prompt_tokens': 13, 'total_tokens': 43}, 'model_name': 'gpt-4o-2024-05-13', 'system_fingerprint': 'fp_4008e3b719', 'finish_reason': 'stop', 'logprobs': None}, id='run-da35e920-27b4-4e5b-bafd-8901e35c87bd-0', usage_metadata={'input_tokens': 13, 'output_tokens': 30, 'total_tokens': 43})}}\n"
     ]
    }
   ],
   "source": [
    "# Now for the streaming method.\n",
    "# Expecting the same behavior, so I'll focus on the second example: using a BaseMessage subclass, but adding without a list.\n",
    "\n",
    "# The .stream() method returns an iterator.\n",
    "for event in single_message_graph.stream(first_input_single_message): # Using the single message graph, and the original input\n",
    "    print(event) # The introduction notebook prints a .value attribute, but for starters I'll just print the event itself."
   ]
  },
  {
   "cell_type": "code",
   "execution_count": 25,
   "metadata": {},
   "outputs": [],
   "source": [
    "# Not that exciting for a single node graph.\n",
    "\n",
    "# This concludes the basic graph building and invocation."
   ]
  },
  {
   "cell_type": "code",
   "execution_count": null,
   "metadata": {},
   "outputs": [],
   "source": [
    "# Part 2: TOOLS!\n",
    "# The tutorial uses pre-built tools (namely, TavilySearch).\n",
    "# I'll do that, but also will try to implement a custom tool since that is what I'll need for my actual project."
   ]
  }
 ],
 "metadata": {
  "kernelspec": {
   "display_name": "Python 3",
   "language": "python",
   "name": "python3"
  },
  "language_info": {
   "codemirror_mode": {
    "name": "ipython",
    "version": 3
   },
   "file_extension": ".py",
   "mimetype": "text/x-python",
   "name": "python",
   "nbconvert_exporter": "python",
   "pygments_lexer": "ipython3",
   "version": "3.11.9"
  }
 },
 "nbformat": 4,
 "nbformat_minor": 2
}
