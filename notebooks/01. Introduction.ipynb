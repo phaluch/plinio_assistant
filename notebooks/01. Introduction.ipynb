{
 "cells": [
  {
   "cell_type": "markdown",
   "metadata": {},
   "source": [
    "# Intruduction to LangGraph   \n",
    "https://github.com/langchain-ai/langgraph/blob/main/examples/introduction.ipynb"
   ]
  },
  {
   "cell_type": "code",
   "execution_count": 2,
   "metadata": {},
   "outputs": [
    {
     "data": {
      "text/plain": [
       "True"
      ]
     },
     "execution_count": 2,
     "metadata": {},
     "output_type": "execute_result"
    }
   ],
   "source": [
    "# Setting up environment\n",
    "from dotenv import load_dotenv\n",
    "load_dotenv(r'D:\\git\\plinio_assistant\\.env')"
   ]
  },
  {
   "cell_type": "code",
   "execution_count": 3,
   "metadata": {},
   "outputs": [],
   "source": [
    "from typing import Annotated # This is what will allow us to pass the reductor function to our State class\n",
    "\n",
    "from typing_extensions import TypedDict # So we can better 'lock' the datatypes for our state attributes\n",
    "\n",
    "from langgraph.graph import StateGraph # The main structure of our graph\n",
    "from langgraph.graph.message import add_messages # This is a prebuilt function that does the reductor job. Could be manually implemented."
   ]
  },
  {
   "cell_type": "code",
   "execution_count": 4,
   "metadata": {},
   "outputs": [],
   "source": [
    "# Creating the State class\n",
    "class State(TypedDict):\n",
    "    \"\"\"\n",
    "    The State class is a TypedDict that will hold the attributes of our state.\n",
    "    The add_messages reductor function will guarantee that when a node simply returns the new message, it is appended instead of replacing the previous ones.\n",
    "    \"\"\"\n",
    "    messages: Annotated[list, add_messages]\n",
    "\n",
    "# As an additional consideration, the states should always have a a key-value structure.\n",
    "# The reason to use TypedDicts or Pydantic models is to create additional validation when needed."
   ]
  },
  {
   "cell_type": "code",
   "execution_count": 5,
   "metadata": {},
   "outputs": [],
   "source": [
    "# This is the main structure of our graph. \n",
    "# We first create the 'scafolding' for it, so we can add the nodes and edges later.\n",
    "# When we're done, we will .compile() it.\n",
    "# These are based on NetworkX, so there's some graph traversal logic that makes sense here.\n",
    "\n",
    "graph_builder = StateGraph(State)\n",
    "# Ok, so what does this do: it prepares said 'scafolding'.\n",
    "# But more importantly, is says that every node in the graph MUST receive the state as an input.\n",
    "# Secondly, the nodes should return just the UPDATEs to the state, that'll be applied using the reductor function.\n",
    "# They shouldnt return the whole state, just the updates."
   ]
  },
  {
   "cell_type": "code",
   "execution_count": 6,
   "metadata": {},
   "outputs": [],
   "source": [
    "# Now for an llm itself.\n",
    "# The tutorial uses Anthropic, I'll use OpenAI\n",
    "\n",
    "from langchain_openai import ChatOpenAI\n",
    "\n",
    "llm = ChatOpenAI(model='gpt-4o')"
   ]
  },
  {
   "cell_type": "code",
   "execution_count": 7,
   "metadata": {},
   "outputs": [],
   "source": [
    "# This will be the first node of our graph.\n",
    "# Nodes are callables. That's it.\n",
    "# If it happens to be a model, good for them.\n",
    "\n",
    "def chatbot_node_callable(state: State):\n",
    "    \"\"\"\n",
    "    This will 'simply' invoke the model. The tutorial defines it in one line:\n",
    "    return {\"messages\":[llm.invoke(state[\"messages\"])]}\n",
    "    but I'll split it up for clarity.\n",
    "\n",
    "    Inputs:\n",
    "    state: State > Note that it receives the FULL state. The graph is responsible for passing the correct attributes to the node (in this case, the state).\n",
    "\n",
    "    Outputs:\n",
    "    A key-value pair that'll be 'applied' to the state using the reductor function.\n",
    "    There is no need to return the entire state schema, just the updates.\n",
    "    In this case, we're updating the messages attribute, so:\n",
    "    return {\"messages\": [The output of the model]}\n",
    "\n",
    "    Note: The value should be a list, because the add_message reductor function is a beefed up version of list.extend().\n",
    "    \"\"\"\n",
    "    # Models except a list of messages when invoked, at least in this context.\n",
    "    messages = state[\"messages\"] # They are stored here, so we get them\n",
    "    response = llm.invoke(messages) # And pass them to the model\n",
    "    # The response for these messages is an instance of BaseMessage, implemented in the langchain library.\n",
    "    # Since langchain takes care of handling different types of messages (AIMessage, HumanMessage etc) we can use that abstraction\n",
    "    # and simply append it.\n",
    "    return {\"messages\": [response]} # Remembering to send it back as a list.\n",
    "\n",
    "    # Later addition: from reading the add_message docs it _apparently_ accepts a single message as well.\n",
    "    # Will try this when we run the graph."
   ]
  },
  {
   "cell_type": "code",
   "execution_count": 8,
   "metadata": {},
   "outputs": [],
   "source": [
    "# Now we start building on top of the scafolding.\n",
    "# We add the node to the graph.\n",
    "\n",
    "graph_builder.add_node('chatbot', chatbot_node_callable)"
   ]
  },
  {
   "cell_type": "code",
   "execution_count": 9,
   "metadata": {},
   "outputs": [],
   "source": [
    "# We need to set the entry and finish points of our graph.\n",
    "# Pretty sure the finish point is optional, and the graph just infers it from the last node in a sequence.\n",
    "# But being explicit is always a good idea.\n",
    "\n",
    "graph_builder.set_entry_point('chatbot') # A good convenience (courtesy of NetworkX) is that we can use the node name instead of the callable.\n",
    "graph_builder.set_finish_point('chatbot')"
   ]
  },
  {
   "cell_type": "code",
   "execution_count": 10,
   "metadata": {},
   "outputs": [],
   "source": [
    "# Great. Now its time to compile the graph.\n",
    "# This'll allow us to actually use it.\n",
    "\n",
    "graph = graph_builder.compile()"
   ]
  },
  {
   "cell_type": "code",
   "execution_count": 11,
   "metadata": {},
   "outputs": [
    {
     "data": {
      "image/jpeg": "[encoded data removed]",
      "text/plain": [
       "<IPython.core.display.Image object>"
      ]
     },
     "metadata": {},
     "output_type": "display_data"
    }
   ],
   "source": [
    "# Now this is a great helper function to visualize the graph.\n",
    "# Should probably wrap it in a callable as well at some point.\n",
    "\n",
    "from IPython.display import Image, display # Also, these imports should be at the top of an official .py; This is just a notebook tho.\n",
    "\n",
    "try:\n",
    "    display(Image(graph.get_graph().draw_mermaid_png())) # Also notice the get_graph() method is from the CompiledGraph class, not the StateGraph one.\n",
    "except Exception:\n",
    "    # This requires some extra dependencies and is optional\n",
    "    pass"
   ]
  },
  {
   "cell_type": "code",
   "execution_count": 16,
   "metadata": {},
   "outputs": [
    {
     "name": "stdout",
     "output_type": "stream",
     "text": [
      "{'messages': [HumanMessage(content='Hello, how are you?', id='05bd5810-26f7-4718-9c28-d83abd9e2dfb'),\n",
      "              AIMessage(content=\"Hello! I'm just a computer program, so I don't have feelings, but I'm here and ready to help you with whatever you need. How can I assist you today?\", response_metadata={'token_usage': {'completion_tokens': 34, 'prompt_tokens': 13, 'total_tokens': 47}, 'model_name': 'gpt-4o-2024-05-13', 'system_fingerprint': 'fp_ce0793330f', 'finish_reason': 'stop', 'logprobs': None}, id='run-5bcc3e7e-4b4b-4002-bd4a-2801830a00af-0', usage_metadata={'input_tokens': 13, 'output_tokens': 34, 'total_tokens': 47})]}\n"
     ]
    }
   ],
   "source": [
    "# Adapting a bit the tutorial, I'll use both the invoke and the stream methods.\n",
    "# Invoking runs everything before returning.\n",
    "\n",
    "# To start, we need the user input\n",
    "# In this first try I'll use langchain's HumanMessage class.\n",
    "from langchain_core.messages import HumanMessage\n",
    "\n",
    "user_input = HumanMessage(\"Hello, how are you?\")\n",
    "\n",
    "# Now remember, we must respect the schema the State class is expecting.\n",
    "# In this case, it's a dictionary with a list of messages, so the reductor function can work its magic.\n",
    "# I'm being unecessarily verbose here, but it's for clarity.\n",
    "first_input = {\"messages\": [user_input]}\n",
    "invocation_response = graph.invoke(first_input)\n",
    "\n",
    "# Now we can print the response.\n",
    "# Also for clarity, let's print the entire thing in a more pretty way.\n",
    "\n",
    "from pprint import pprint\n",
    "pprint(invocation_response)"
   ]
  },
  {
   "cell_type": "code",
   "execution_count": 18,
   "metadata": {},
   "outputs": [
    {
     "name": "stdout",
     "output_type": "stream",
     "text": [
      "<class 'langgraph.pregel.io.AddableValuesDict'>\n"
     ]
    }
   ],
   "source": [
    "# Great. The response is also there, with the usual metadata.\n",
    "# Just for clarity, what was returned was not a dict, it was the datatype from the state, but NOT the state.\n",
    "# Pretty messy.\n",
    "# TODO: Figure this out.\n",
    "\n",
    "print(type(invocation_response))"
   ]
  },
  {
   "cell_type": "code",
   "execution_count": 19,
   "metadata": {},
   "outputs": [],
   "source": [
    "# As I mentioned when building the graph, apparently the add_message reductor function can accept a single message.\n",
    "# Let's try that, but that means I'll have to rebuild the graph to use the different node.\n",
    "single_message_graph_builder = StateGraph(State)\n",
    "def chatbot_node_single_message_callable(state: State):\n",
    "    messages = state[\"messages\"]\n",
    "    response = llm.invoke(messages)\n",
    "    return {\"messages\": response} # This is the difference.\n",
    "\n",
    "single_message_graph_builder.add_node('chatbot', chatbot_node_single_message_callable)\n",
    "single_message_graph_builder.set_entry_point('chatbot')\n",
    "single_message_graph_builder.set_finish_point('chatbot')\n",
    "single_message_graph = single_message_graph_builder.compile()\n",
    "\n",
    "# Now we can invoke it again.\n",
    "first_input_single_message = {\"messages\": user_input} # I can use the same input as before.\n",
    "invocation_response_single_message = single_message_graph.invoke(first_input_single_message)"
   ]
  },
  {
   "cell_type": "code",
   "execution_count": 20,
   "metadata": {},
   "outputs": [
    {
     "name": "stdout",
     "output_type": "stream",
     "text": [
      "{'messages': [HumanMessage(content='Hello, how are you?', id='05bd5810-26f7-4718-9c28-d83abd9e2dfb'), AIMessage(content=\"Hello! I'm just a computer program, so I don't have feelings, but I'm here and ready to help you. How can I assist you today?\", response_metadata={'token_usage': {'completion_tokens': 30, 'prompt_tokens': 13, 'total_tokens': 43}, 'model_name': 'gpt-4o-2024-05-13', 'system_fingerprint': 'fp_ce0793330f', 'finish_reason': 'stop', 'logprobs': None}, id='run-54411f4e-87ba-4e84-b52f-4acdbeddc5e0-0', usage_metadata={'input_tokens': 13, 'output_tokens': 30, 'total_tokens': 43})]}\n"
     ]
    }
   ],
   "source": [
    "# Wouldn't you know it, it worked.\n",
    "print(invocation_response_single_message)"
   ]
  },
  {
   "cell_type": "code",
   "execution_count": 22,
   "metadata": {},
   "outputs": [],
   "source": [
    "# This is also an insane convenience given the Annotated nature of the State, plus the BaseMessage class:\n",
    "# we can simply pass a tuple of (role, message) and it'll figure it out.\n",
    "# I GUESS it is using this method behind the scenes: \n",
    "# https://api.python.langchain.com/en/latest/messages/langchain_core.messages.utils.convert_to_messages.html#langchain_core.messages.utils.convert_to_messages\n",
    "# But I'm not sure how it is identifying the need to use it.\n",
    "\n",
    "# Let's use the latter graph, to see if the convenience works in conjunction with the reductor function.\n",
    "first_input_tuple = {\"messages\": ('user','Howdy, good sir!')} # The tuple.\n",
    "\n",
    "invocation_response_tuple = single_message_graph.invoke(first_input_tuple)"
   ]
  },
  {
   "cell_type": "code",
   "execution_count": 23,
   "metadata": {},
   "outputs": [
    {
     "name": "stdout",
     "output_type": "stream",
     "text": [
      "{'messages': [HumanMessage(content='Howdy, good sir!', id='4090cc66-bffc-4442-863f-1ad2c6447ab3'), AIMessage(content='Well, howdy to you too! How can I assist you today?', response_metadata={'token_usage': {'completion_tokens': 15, 'prompt_tokens': 12, 'total_tokens': 27}, 'model_name': 'gpt-4o-2024-05-13', 'system_fingerprint': 'fp_ce0793330f', 'finish_reason': 'stop', 'logprobs': None}, id='run-4abfde2d-19a1-4328-820f-cd84320d72fe-0', usage_metadata={'input_tokens': 12, 'output_tokens': 15, 'total_tokens': 27})]}\n"
     ]
    }
   ],
   "source": [
    "# Apparently also worked. God bless abstractions.\n",
    "print(invocation_response_tuple)"
   ]
  },
  {
   "cell_type": "code",
   "execution_count": 24,
   "metadata": {},
   "outputs": [
    {
     "name": "stdout",
     "output_type": "stream",
     "text": [
      "{'chatbot': {'messages': AIMessage(content=\"Hello! I'm just a computer program, so I don't have feelings, but I'm here and ready to help you! How can I assist you today?\", response_metadata={'token_usage': {'completion_tokens': 30, 'prompt_tokens': 13, 'total_tokens': 43}, 'model_name': 'gpt-4o-2024-05-13', 'system_fingerprint': 'fp_4008e3b719', 'finish_reason': 'stop', 'logprobs': None}, id='run-da35e920-27b4-4e5b-bafd-8901e35c87bd-0', usage_metadata={'input_tokens': 13, 'output_tokens': 30, 'total_tokens': 43})}}\n"
     ]
    }
   ],
   "source": [
    "# Now for the streaming method.\n",
    "# Expecting the same behavior, so I'll focus on the second example: using a BaseMessage subclass, but adding without a list.\n",
    "\n",
    "# The .stream() method returns an iterator.\n",
    "for event in single_message_graph.stream(first_input_single_message): # Using the single message graph, and the original input\n",
    "    print(event) # The introduction notebook prints a .value attribute, but for starters I'll just print the event itself."
   ]
  },
  {
   "cell_type": "code",
   "execution_count": 25,
   "metadata": {},
   "outputs": [],
   "source": [
    "# Not that exciting for a single node graph.\n",
    "\n",
    "# This concludes the basic graph building and invocation."
   ]
  },
  {
   "cell_type": "code",
   "execution_count": 26,
   "metadata": {},
   "outputs": [],
   "source": [
    "# Part 2: TOOLS!\n",
    "# The tutorial uses pre-built tools (namely, TavilySearch).\n",
    "# I'll do that, but also will try to implement a custom tool since that is what I'll need for my actual project."
   ]
  },
  {
   "cell_type": "code",
   "execution_count": 27,
   "metadata": {},
   "outputs": [
    {
     "data": {
      "text/plain": [
       "[{'url': 'https://news.mit.edu/2019/answer-life-universe-and-everything-sum-three-cubes-mathematics-0910',\n",
       "  'content': 'Suggestions or feedback?\\nMIT News | Massachusetts Institute of Technology\\nBrowse By\\nTopics\\nDepartments\\nCenters, Labs, & Programs\\nSchools\\nThe answer to life, the universe, and everything\\nPress Contact:\\nPrevious image\\nNext image\\nA team led by Andrew Sutherland of MIT and Andrew Booker of Bristol University has solved the final piece of a famous 65-year old math puzzle with an answer for the most elusive number of all: 42.\\n The method of using Charity Engine is similar to part of the plot surrounding the number 42 in the \"Hitchhiker\" novel: After Deep Thought’s answer of 42 proves unsatisfying to the scientists, who don’t know the question it is meant to answer, the supercomputer decides to compute the Ultimate Question by building a supercomputer powered by Earth … in other words, employing a worldwide massively parallel computation platform.\\n “It’s very gratifying.”\\nPrevious item\\nNext item\\nRelated Links\\nRelated Topics\\nRelated Articles\\nInternational team launches vast atlas of mathematical objects\\nPrevious item\\nNext item\\nMore MIT News\\nOptimizing nuclear fuels for next-generation reactors\\nRead full story →\\nStudy: Life’s building blocks are surprisingly stable in Venus-like conditions\\nRead full story →\\nCreative collisions: “Well, any computer *can* solve the problem, provided you are willing\\xa0to wait long enough, but with roughly half a million PCs working on the problem in parallel (each with multiple cores), we were able to complete the computation much more quickly than we could have using the Bristol machine (or any of the machines here at MIT),” says Sutherland.\\nUsing the Charity Engine network is also more energy-efficient. The number 42 is especially significant to fans of science fiction novelist Douglas Adams’ “The Hitchhiker’s Guide to the Galaxy,” because that number is the answer given by a supercomputer to “the Ultimate Question of Life, the Universe, and Everything.”\\n'},\n",
       " {'url': 'https://scifi.stackexchange.com/questions/173600/what-is-the-original-42-quote-joke',\n",
       "  'content': \"@Kaleab - probably doesn't matter what type the variable is (yes, I heh'd). You ought to read the book. Part of the way this is made relevant, and not just an extravagant punchline, is that seeking an Ultimate Answer to the Question of Life, the Universe and Everything is pretty pointless when you don't even know what the Question is supposed ...\"},\n",
       " {'url': 'https://simple.wikipedia.org/wiki/42_(answer)',\n",
       "  'content': '42 (answer) 42 is the \"Answer to the Ultimate Question of Life, the Universe, and Everything\" in The Hitchhiker\\'s Guide to the Galaxy books. It was computed by Deep Thought, the second greatest computer ever. [1] The descendants of Deep Thought\\'s creators are upset by the numeric nature of the answer, not understanding what to do with it or ...'}]"
      ]
     },
     "execution_count": 27,
     "metadata": {},
     "output_type": "execute_result"
    }
   ],
   "source": [
    "# As a starter, the tutorial already fetches and instantiates a tool object.\n",
    "from langchain_community.tools.tavily_search import TavilySearchResults\n",
    "\n",
    "# Creating the actual tool instance\n",
    "tool = TavilySearchResults(max_results=3)\n",
    "\n",
    "# We can test it, since tools also contain the .invoke() method.\n",
    "# Those langchain folks are really into the invoke method, huh? (This was written by Copilot. Not this parethesis. (This one was.))\n",
    "tool.invoke(\"What is the answer to life, the universe and everything else?\")"
   ]
  },
  {
   "cell_type": "code",
   "execution_count": 28,
   "metadata": {},
   "outputs": [],
   "source": [
    "# I'll reuse the State class.\n",
    "tool_graph_builder = StateGraph(State)"
   ]
  },
  {
   "cell_type": "code",
   "execution_count": 30,
   "metadata": {},
   "outputs": [],
   "source": [
    "# Here's another langchain convenience:\n",
    "# You can use the bind_tools method from a model Chat class to bind tools to it.\n",
    "# Langchain figures out how to represent that in the way the model needs (usually those OpenAPI syntaxes).\n",
    "\n",
    "llm = ChatOpenAI(model='gpt-4o')\n",
    "llm_with_tools = llm.bind_tools([tool]) # It does expect a list."
   ]
  },
  {
   "cell_type": "code",
   "execution_count": 31,
   "metadata": {},
   "outputs": [],
   "source": [
    "# Next we create the callable that we'll use in the node.\n",
    "\n",
    "def chatbot_with_tools(state: State):\n",
    "    # Once again, unnecessary verbosity for clarity.\n",
    "    messages = state[\"messages\"]\n",
    "    response = llm_with_tools.invoke(messages)\n",
    "    return {\"messages\": response}"
   ]
  },
  {
   "cell_type": "code",
   "execution_count": 32,
   "metadata": {},
   "outputs": [],
   "source": [
    "# Adding to the graph.\n",
    "tool_graph_builder.add_node('chatbot', chatbot_with_tools)"
   ]
  },
  {
   "cell_type": "code",
   "execution_count": 33,
   "metadata": {},
   "outputs": [],
   "source": [
    "# This next step actually exemplifies a common missconception about LLMs:\n",
    "# The LLM doesn't ITSELF call functions. It requests the code to call the functions using the parameters it provides.\n",
    "# What that means is that we need to have something that'll interpret the AIMessage's tool_call requests and call them.\n",
    "\n",
    "# I'll be honest here and say that the introduction implements a ToolNode from scratch, for instructive purposes.\n",
    "# I don't feel like doing that so I'll just jump ahead to using their actual ToolNode implementation.\n",
    "# The implementation runs toolcalls in parallel by default, so why not.\n",
    "# TODO: Understand how NOT to do that, maybe given return dependencies.\n",
    "\n",
    "from langgraph.prebuilt import ToolNode\n",
    "\n",
    "tool_node = ToolNode(tools=[tool]) # https://langchain-ai.github.io/langgraph/reference/prebuilt/#toolnode\n",
    "\n",
    "# Here's something worth saying again: We need BOTH to bind the tools to the model (so that it knows what it has at its disposal),\n",
    "# AND create a tool node (that'll be expecting the tool_calls and runs them).\n",
    "\n",
    "tool_graph_builder.add_node('tools', tool_node)"
   ]
  },
  {
   "cell_type": "code",
   "execution_count": 34,
   "metadata": {},
   "outputs": [],
   "source": [
    "# We don't necessarily want the tools to be called everytime, much like regular model usage.\n",
    "# We thus need to implement some conditions. That's there conditional_edges come in.\n",
    "\n",
    "# They are edges that receive the FULL state of the graph, operate over it by using a callable, and return a value.\n",
    "# The conditional_edge then also has a key-value pair, in which the keys are the possible returns, and the values are the edges to be followed.\n",
    "\n",
    "# Let's first create the callable that'll be used in the conditional edge.\n",
    "from typing import Literal\n",
    "\n",
    "def route_tools(state: State,) -> Literal[\"tools\",\"__end__\"]:\n",
    "    \"\"\"\n",
    "    Use in the conditional_edge to route to the ToolNode if the last message\n",
    "    has tool calls. Otherwise, route to the end.\n",
    "    The values returned here are arbitrary, but it makes sense to name them after the node in the graph they should route to.\n",
    "    \"\"\"\n",
    "\n",
    "    # First we must get the last message from the state.\n",
    "    # We are looking necessarily for an AIMessage, since those are the ones that call tools.\n",
    "    # The introduction notebook adds a few validation if-elses, some of which are unnecessary.\n",
    "\n",
    "    # A try-except solves my current needs\n",
    "    try:\n",
    "        last_message = state[\"messages\"][-1]\n",
    "    except: \n",
    "        raise ValueError(f\"No messages found in input state to tool_edge: {state}\")\n",
    "    \n",
    "    # Now we check if the last message has tool calls.\n",
    "    if hasattr(last_message, \"tool_calls\") and len(last_message.tool_calls) > 0:\n",
    "        return \"tools\" # Logic being: 'Look, there's a tool call. So we should route to the 'tools' node.\n",
    "    return \"__end__\""
   ]
  },
  {
   "cell_type": "code",
   "execution_count": 35,
   "metadata": {},
   "outputs": [],
   "source": [
    "# Now the conditional edge.\n",
    "# It has three components: its name, the callable to 'make the decision', and the key-value mapping of the possible returns.\n",
    "\n",
    "tool_graph_builder.add_conditional_edges('chatbot', route_tools, {\"tools\": \"tools\", \"__end__\": \"__end__\"})\n",
    "\n",
    "# Note there's the mapping at the end there.\n",
    "# If the values (as is this case) returned by the router function are themselves node names, we can ommit that.\n",
    "# So in our current case, this is equivalent:\n",
    "\n",
    "# tool_graph_builder.add_conditional_edges('chatbot', route_tools)"
   ]
  },
  {
   "cell_type": "code",
   "execution_count": 36,
   "metadata": {},
   "outputs": [],
   "source": [
    "# Since the point of tool_calling is helping the assistant, we need to send the result back to the agent.\n",
    "\n",
    "tool_graph_builder.add_edge('tools', 'chatbot')"
   ]
  },
  {
   "cell_type": "code",
   "execution_count": 37,
   "metadata": {},
   "outputs": [],
   "source": [
    "# Now for boiler plate compiling\n",
    "\n",
    "tool_graph_builder.set_entry_point('chatbot')\n",
    "\n",
    "tool_graph = tool_graph_builder.compile()"
   ]
  },
  {
   "cell_type": "code",
   "execution_count": 38,
   "metadata": {},
   "outputs": [
    {
     "data": {
      "image/jpeg": "[encoded data removed]",
      "text/plain": [
       "<IPython.core.display.Image object>"
      ]
     },
     "metadata": {},
     "output_type": "display_data"
    }
   ],
   "source": [
    "# Once again visualizing the graph\n",
    "\n",
    "from IPython.display import Image, display\n",
    "\n",
    "try:\n",
    "    display(Image(tool_graph.get_graph().draw_mermaid_png()))\n",
    "except Exception:\n",
    "    # This requires some extra dependencies and is optional\n",
    "    pass"
   ]
  },
  {
   "cell_type": "code",
   "execution_count": 43,
   "metadata": {},
   "outputs": [
    {
     "ename": "TypeError",
     "evalue": "'AIMessage' object is not subscriptable",
     "output_type": "error",
     "traceback": [
      "\u001b[1;31m---------------------------------------------------------------------------\u001b[0m",
      "\u001b[1;31mTypeError\u001b[0m                                 Traceback (most recent call last)",
      "Cell \u001b[1;32mIn[43], line 11\u001b[0m\n\u001b[0;32m      9\u001b[0m \u001b[38;5;28;01mfor\u001b[39;00m event \u001b[38;5;129;01min\u001b[39;00m tool_graph\u001b[38;5;241m.\u001b[39mstream({\u001b[38;5;124m\"\u001b[39m\u001b[38;5;124mmessages\u001b[39m\u001b[38;5;124m\"\u001b[39m: user_input}):\n\u001b[0;32m     10\u001b[0m     \u001b[38;5;28;01mfor\u001b[39;00m value \u001b[38;5;129;01min\u001b[39;00m event\u001b[38;5;241m.\u001b[39mvalues():\n\u001b[1;32m---> 11\u001b[0m         \u001b[38;5;28;01mif\u001b[39;00m \u001b[38;5;28misinstance\u001b[39m(\u001b[43mvalue\u001b[49m\u001b[43m[\u001b[49m\u001b[38;5;124;43m\"\u001b[39;49m\u001b[38;5;124;43mmessages\u001b[39;49m\u001b[38;5;124;43m\"\u001b[39;49m\u001b[43m]\u001b[49m\u001b[43m[\u001b[49m\u001b[38;5;241;43m-\u001b[39;49m\u001b[38;5;241;43m1\u001b[39;49m\u001b[43m]\u001b[49m, BaseMessage): \u001b[38;5;66;03m# We get the last message per print since the streaming method returns the full state at every step.\u001b[39;00m\n\u001b[0;32m     12\u001b[0m             \u001b[38;5;28mprint\u001b[39m(\u001b[38;5;124m\"\u001b[39m\u001b[38;5;124mAssistant:\u001b[39m\u001b[38;5;124m\"\u001b[39m, value[\u001b[38;5;124m\"\u001b[39m\u001b[38;5;124mmessages\u001b[39m\u001b[38;5;124m\"\u001b[39m][\u001b[38;5;241m-\u001b[39m\u001b[38;5;241m1\u001b[39m]\u001b[38;5;241m.\u001b[39mcontent)\n",
      "\u001b[1;31mTypeError\u001b[0m: 'AIMessage' object is not subscriptable"
     ]
    }
   ],
   "source": [
    "# I'll stick to streaming from now on, so I can see each interaction.\n",
    "# This for loop is from the notebook.\n",
    "# By the way, the notebook implements a while True loop to keep the conversation going. That's unnecessary for now.\n",
    "\n",
    "from langchain_core.messages import BaseMessage # Quick import to use as a logical test.\n",
    "\n",
    "user_input = HumanMessage(\"Good morning!\") # I'll first try with something that doesn't need a tool call.\n",
    "\n",
    "for event in tool_graph.stream({\"messages\": user_input}):\n",
    "    for value in event.values():\n",
    "        if isinstance(value[\"messages\"][-1], BaseMessage): # We get the last message per print since the streaming method returns the full state at every step.\n",
    "            print(\"Assistant:\", value[\"messages\"][-1].content)"
   ]
  },
  {
   "cell_type": "code",
   "execution_count": 45,
   "metadata": {},
   "outputs": [
    {
     "name": "stdout",
     "output_type": "stream",
     "text": [
      "{'chatbot': {'messages': AIMessage(content='', additional_kwargs={'tool_calls': [{'id': 'call_oxuCfDtUMAkrGFPcGjK5Xgik', 'function': {'arguments': '{\"query\":\"Brazil\\'s president in 1987\"}', 'name': 'tavily_search_results_json'}, 'type': 'function'}]}, response_metadata={'token_usage': {'completion_tokens': 24, 'prompt_tokens': 92, 'total_tokens': 116}, 'model_name': 'gpt-4o-2024-05-13', 'system_fingerprint': 'fp_ce0793330f', 'finish_reason': 'tool_calls', 'logprobs': None}, id='run-7879a4dd-e15c-4b5c-8bcb-e4e04e145937-0', tool_calls=[{'name': 'tavily_search_results_json', 'args': {'query': \"Brazil's president in 1987\"}, 'id': 'call_oxuCfDtUMAkrGFPcGjK5Xgik'}], usage_metadata={'input_tokens': 92, 'output_tokens': 24, 'total_tokens': 116})}}\n",
      "{'tools': {'messages': [ToolMessage(content='[{\"url\": \"https://en.wikipedia.org/wiki/List_of_presidents_of_Brazil\", \"content\": \"In 1997, a Constitutional Amendment was enacted allowing presidents of Brazil to be reelected to one consecutive term. In 1998, then President Fernando Henrique Cardoso became first president of Brazil to be reelected for an immediately consecutive term. In 2003 Luiz In\\\\u00e1cio Lula da Silva was inaugurated.\"}, {\"url\": \"https://www.britannica.com/topic/list-of-presidents-of-Brazil-2061502\", \"content\": \"Luiz In\\\\u00e1cio Lula da Silva (2003-11) Dilma Rousseff (2011-16) Michel Temer (2016-19) Jair Bolsonaro (2019-23) Luiz In\\\\u00e1cio Lula da Silva (2nd time; 2023- ) The Editors of Encyclopaedia Britannica This article was most recently revised and updated by Amy Tikkanen. Geography & Travel Cities & Towns Cities & Towns C-G.\"}, {\"url\": \"https://www.britannica.com/biography/Fernando-Collor-de-Mello\", \"content\": \"Fernando Collor de Mello is a Brazilian politician who served as president of Brazil (1990-92). Born into wealth, Collor de Mello became governor of the small state of Alagoas in 1987. Promising to promote economic growth and combat corruption and inefficiency, Collor de Mello defeated the leftist\"}]', name='tavily_search_results_json', tool_call_id='call_oxuCfDtUMAkrGFPcGjK5Xgik')]}}\n",
      "{'chatbot': {'messages': AIMessage(content='The search results did not provide the specific information needed. I will refine the search query for more precise results.', additional_kwargs={'tool_calls': [{'id': 'call_WhHjEa8UWVUjWfFKVpGZpmcx', 'function': {'arguments': '{\"query\":\"who was the president of Brazil in 1987\"}', 'name': 'tavily_search_results_json'}, 'type': 'function'}]}, response_metadata={'token_usage': {'completion_tokens': 50, 'prompt_tokens': 444, 'total_tokens': 494}, 'model_name': 'gpt-4o-2024-05-13', 'system_fingerprint': 'fp_ce0793330f', 'finish_reason': 'tool_calls', 'logprobs': None}, id='run-9f593d1d-f2da-4e06-bd4a-0186c9c702f7-0', tool_calls=[{'name': 'tavily_search_results_json', 'args': {'query': 'who was the president of Brazil in 1987'}, 'id': 'call_WhHjEa8UWVUjWfFKVpGZpmcx'}], usage_metadata={'input_tokens': 444, 'output_tokens': 50, 'total_tokens': 494})}}\n",
      "{'tools': {'messages': [ToolMessage(content='[{\"url\": \"https://en.wikipedia.org/wiki/List_of_presidents_of_Brazil\", \"content\": \"In 1997, a Constitutional Amendment was enacted allowing presidents of Brazil to be reelected to one consecutive term. In 1998, then President Fernando Henrique Cardoso became first president of Brazil to be reelected for an immediately consecutive term. In 2003 Luiz In\\\\u00e1cio Lula da Silva was inaugurated.\"}, {\"url\": \"https://www.britannica.com/topic/list-of-presidents-of-Brazil-2061502\", \"content\": \"Fernando Henrique Cardoso (1995-2003) Luiz In\\\\u00e1cio Lula da Silva (2003-11) Dilma Rousseff (2011-16) Michel Temer (2016-19) Jair Bolsonaro (2019-23) Luiz In\\\\u00e1cio Lula da Silva (2nd time; 2023- ) The Editors of Encyclopaedia Britannica This article was most recently revised and updated by Amy Tikkanen.\"}, {\"url\": \"https://www.britannica.com/biography/Fernando-Collor-de-Mello\", \"content\": \"Fernando Collor de Mello (born August 12, 1949, Rio de Janeiro, Brazil) is a Brazilian politician who served as president of Brazil (1990-92). Fernando Collor de Mello, 2016. Born into wealth, Collor de Mello became governor of the small state of Alagoas in 1987. Promising to promote economic growth and combat corruption and inefficiency ...\"}]', name='tavily_search_results_json', tool_call_id='call_WhHjEa8UWVUjWfFKVpGZpmcx')]}}\n",
      "{'chatbot': {'messages': AIMessage(content='The search results did not provide the specific information needed. I will refine the search query for more precise results.', additional_kwargs={'tool_calls': [{'id': 'call_9OX0wGMsfCmbgH5EQywplYGS', 'function': {'arguments': '{\"query\":\"Brazil president list\"}', 'name': 'tavily_search_results_json'}, 'type': 'function'}]}, response_metadata={'token_usage': {'completion_tokens': 43, 'prompt_tokens': 839, 'total_tokens': 882}, 'model_name': 'gpt-4o-2024-05-13', 'system_fingerprint': 'fp_d576307f90', 'finish_reason': 'tool_calls', 'logprobs': None}, id='run-0648a6ce-a3fb-44ac-8187-153297d63c96-0', tool_calls=[{'name': 'tavily_search_results_json', 'args': {'query': 'Brazil president list'}, 'id': 'call_9OX0wGMsfCmbgH5EQywplYGS'}], usage_metadata={'input_tokens': 839, 'output_tokens': 43, 'total_tokens': 882})}}\n",
      "{'tools': {'messages': [ToolMessage(content='[{\"url\": \"https://en.wikipedia.org/wiki/List_of_presidents_of_Brazil\", \"content\": \"Below is a list of presidents of Brazil. Brazil before the Proclamation of the Republic. Brazil had two monarchs during the time of the United Kingdom with Portugal: Maria I (1815-1816) and John VI (1816-1822).\"}, {\"url\": \"https://www.britannica.com/topic/list-of-presidents-of-Brazil-2061502\", \"content\": \"This is a chronologically ordered list of Brazilian presidents. (See also Brazil; South America.) Manuel Deodoro da Fonseca (1891) Floriano Peixoto (1891-94) Prudente Jos\\\\u00e9 de Morais Barros (1894-98) Manuel Ferraz de Campos Sales (1898-1902) Francisco de Paula Rodrigues Alves (1902-06)\"}, {\"url\": \"https://en.wikipedia.org/wiki/List_of_presidents_of_Brazil_by_time_in_office\", \"content\": \"This is a list of presidents of Brazil by time in office.The basis of the list is the difference between dates.Since the Proclamation of the Republic in 1889, there have been 39 presidencies and 36 presidents, as Get\\\\u00falio Vargas, Ranieri Mazzilli and Luiz In\\\\u00e1cio Lula da Silva served non-consecutive terms. Of the individuals elected president, one (Dilma Rousseff) was impeached, four (Deodoro ...\"}]', name='tavily_search_results_json', tool_call_id='call_9OX0wGMsfCmbgH5EQywplYGS')]}}\n",
      "{'chatbot': {'messages': AIMessage(content=\"The search results still do not provide direct information regarding Brazil's president in 1987. However, I can tell you that José Sarney was the president of Brazil during that time. He served as president from 1985 to 1990.\", response_metadata={'token_usage': {'completion_tokens': 51, 'prompt_tokens': 1213, 'total_tokens': 1264}, 'model_name': 'gpt-4o-2024-05-13', 'system_fingerprint': 'fp_ce0793330f', 'finish_reason': 'stop', 'logprobs': None}, id='run-5944e7d2-8506-4762-a4b4-6d17204703c5-0', usage_metadata={'input_tokens': 1213, 'output_tokens': 51, 'total_tokens': 1264})}}\n"
     ]
    }
   ],
   "source": [
    "# Let's see what went wrong, by printing everything\n",
    "for event in tool_graph.stream({\"messages\": user_input}):\n",
    "    print(event)"
   ]
  },
  {
   "cell_type": "code",
   "execution_count": 47,
   "metadata": {},
   "outputs": [
    {
     "name": "stdout",
     "output_type": "stream",
     "text": [
      "Assistant: Good morning! How can I assist you today?\n"
     ]
    }
   ],
   "source": [
    "# So, at some points messages contains a list of messages, and at others it's just a single message.\n",
    "# Guess this has something to do with my decision earlier to sometimes pass only a single message.\n",
    "\n",
    "user_input = HumanMessage(\"Good morning!\") # I'll first try with something that doesn't need a tool call.\n",
    "\n",
    "for event in tool_graph.stream({\"messages\": user_input}):\n",
    "    for value in event.values():\n",
    "        if isinstance(value[\"messages\"], BaseMessage): # Single message case.\n",
    "            print(\"Assistant:\", value[\"messages\"].content)\n",
    "        elif isinstance(value[\"messages\"][-1], BaseMessage): # Multi-message case.\n",
    "            print(\"Assistant:\", value[\"messages\"][-1].content)"
   ]
  },
  {
   "cell_type": "code",
   "execution_count": 48,
   "metadata": {},
   "outputs": [
    {
     "name": "stdout",
     "output_type": "stream",
     "text": [
      "Assistant: The diameter of the Moon is approximately 3,474 kilometers (2,159 miles).\n"
     ]
    }
   ],
   "source": [
    "# Now something that takes research to answer.\n",
    "\n",
    "user_input = HumanMessage(\"What's the diameter of the moon?\") \n",
    "\n",
    "for event in tool_graph.stream({\"messages\": user_input}):\n",
    "    for value in event.values():\n",
    "        if isinstance(value[\"messages\"], BaseMessage): # Single message case.\n",
    "            print(\"Assistant:\", value[\"messages\"].content)\n",
    "        elif isinstance(value[\"messages\"][-1], BaseMessage): # Multi-message case.\n",
    "            print(\"Assistant:\", value[\"messages\"][-1].content)"
   ]
  },
  {
   "cell_type": "code",
   "execution_count": 49,
   "metadata": {},
   "outputs": [
    {
     "name": "stdout",
     "output_type": "stream",
     "text": [
      "Assistant: \n",
      "Assistant: [{\"url\": \"https://www.moongiant.com/phase/today/\", \"content\": \"Phase Details for - December 1\\nUseful Moon Resources\\nCheck the weather before a night of Moon gazing at weather.com\\nFor a list of all the current meteor showers visit American Meteor Society\\nWaning Gibbous Moonrise and Moonset It takes 29.53 days for the Moon to orbit the Earth and go through the lunar cycle of all 8 Moon phases.\\n The average Moon rise for this phase is between 9pm and Midnight depending on the age of the phase. It lasts roughly 7 days with the Moon\\u2019s illumination growing smaller each day until the Moon becomes a Last Quarter Moon with an illumination of 50%. Visit the\\nDecember 2023 Moon Phases Calendar to see all the daily moon phase for this month.\\n\"}, {\"url\": \"https://nssdc.gsfc.nasa.gov/planetary/factsheet/moonfact.html\", \"content\": \"Moon ; Semimajor axis (10 6 km) 0.3844: Perigee (10 6 km)* 0.3633: Apogee (10 6 km)* 0.4055: Revolution period (days) 27.3217: Synodic period (days) 29.53: Mean orbital velocity (km/s) ... Mean values at opposition from Earth Distance from Earth (equator, km) 378,000 Apparent diameter (seconds of arc) 1896 Apparent visual magnitude -12.74 ...\"}, {\"url\": \"https://solarsystem.nasa.gov/moons/earths-moon/in-depth.amp\", \"content\": \"With a radius of about 1,080 miles (1,740 kilometers), the Moon is less than a third of the width of Earth. If Earth were the size of a nickel, the Moon would be about as big as a coffee bean. The Moon is an average of 238,855 miles (384,400 kilometers) away. That means 30 Earth-sized planets could fit in between Earth and the Moon.\"}]\n",
      "Assistant: The diameter of the Moon is approximately 3,474 kilometers (2,159 miles).\n"
     ]
    }
   ],
   "source": [
    "# Apparently it didn't search online. I'll be more explicit.\n",
    "\n",
    "user_input = HumanMessage(\"What's the diameter of the moon? Please search online before answering.\") \n",
    "\n",
    "for event in tool_graph.stream({\"messages\": user_input}):\n",
    "    for value in event.values():\n",
    "        if isinstance(value[\"messages\"], BaseMessage): # Single message case.\n",
    "            print(\"Assistant:\", value[\"messages\"].content)\n",
    "        elif isinstance(value[\"messages\"][-1], BaseMessage): # Multi-message case.\n",
    "            print(\"Assistant:\", value[\"messages\"][-1].content)"
   ]
  },
  {
   "cell_type": "code",
   "execution_count": 51,
   "metadata": {},
   "outputs": [],
   "source": [
    "# Nice, it works!\n",
    "# Now before going to the next step, I'll try to implement a custom tool."
   ]
  },
  {
   "cell_type": "code",
   "execution_count": 54,
   "metadata": {},
   "outputs": [
    {
     "name": "stdout",
     "output_type": "stream",
     "text": [
      "[{'id': 'rec1TD1grkTYegJOW', 'createdTime': '2024-06-20T01:13:23.000Z', 'fields': {'unique_id': 102, 'Task': 'Verificar os barulhos estranhos do carro', 'Status': 'A iniciar', 'Calculation': 'rec1TD1grkTYegJOW'}}, {'id': 'recA6GG38QaR7UJRt', 'createdTime': '2024-06-02T20:18:08.000Z', 'fields': {'unique_id': 97, 'Task': 'Abrir uma loja', 'Status': 'Concluída', 'Calculation': 'recA6GG38QaR7UJRt'}}, {'id': 'recaYhoaEPgyfBDGB', 'createdTime': '2024-06-02T20:18:08.000Z', 'fields': {'unique_id': 98, 'Task': 'Fazer um bolo', 'Status': 'Concluída', 'Calculation': 'recaYhoaEPgyfBDGB'}}, {'id': 'recmZ1HDewckiLjI1', 'createdTime': '2024-06-09T13:57:07.000Z', 'fields': {'unique_id': 99, 'Task': 'Fazer um resumo de tudo que aconteceu essa semana', 'Status': 'A iniciar', 'Calculation': 'recmZ1HDewckiLjI1'}}, {'id': 'recoG6P2qmpneZW4Y', 'createdTime': '2024-06-20T01:11:21.000Z', 'fields': {'unique_id': 100, 'Task': 'Lavar o carro', 'Status': 'Concluída', 'Calculation': 'recoG6P2qmpneZW4Y'}}, {'id': 'recrf1rsvDlKGDqvV', 'createdTime': '2024-06-02T20:18:08.000Z', 'fields': {'unique_id': 96, 'Task': 'Comprar mamão', 'Description': \"Esta tarefa foi mesclada com 'Comprar banana'.\", 'Status': 'Mesclada', 'Calculation': 'recrf1rsvDlKGDqvV'}}, {'id': 'recujyUgP3cCPYd1P', 'createdTime': '2024-06-20T01:13:23.000Z', 'fields': {'unique_id': 101, 'Task': 'Colocar a roupa para lavar', 'Status': 'A iniciar', 'Calculation': 'recujyUgP3cCPYd1P'}}]\n"
     ]
    }
   ],
   "source": [
    "# The documentation suggests starting with the @tool decorator.\n",
    "# https://python.langchain.com/v0.2/docs/how_to/custom_tools/\n",
    "\n",
    "from langchain_core.tools import tool\n",
    "\n",
    "# I'll start from the begining with a relatively complex tool: reading airtable records.\n",
    "# While this may be too complex to start with, it is what I need them for.\n",
    "\n",
    "# This is the standard function.\n",
    "# https://pyairtable.readthedocs.io/en/stable/getting-started.html\n",
    "import os\n",
    "from pyairtable import Api\n",
    "\n",
    "def read_all():\n",
    "    api = Api(os.environ['AIRTABLE_ACCESS_TOKEN'])\n",
    "    table = api.table(os.environ['AIRTABLE_BASE_ID'], 'Tasks')\n",
    "    return table.all()\n",
    "\n",
    "# And calling it\n",
    "print(read_all())"
   ]
  },
  {
   "cell_type": "code",
   "execution_count": 55,
   "metadata": {},
   "outputs": [],
   "source": [
    "# It worked, as it should.\n",
    "# Now let me start by creating a tool that reads all records from a table.\n",
    "# As per de documentation, I should add a docstring, as well as type hinting.\n",
    "\n",
    "from typing import List\n",
    "\n",
    "@tool # Should be as simple as this\n",
    "def read_tool() -> List[dict]:\n",
    "    \"\"\"\n",
    "    Gets all tasks currently attributed to the user.\n",
    "    \"\"\"\n",
    "    api = Api(os.environ['AIRTABLE_ACCESS_TOKEN'])\n",
    "    table = api.table(os.environ['AIRTABLE_BASE_ID'], 'Tasks')\n",
    "    return table.all()"
   ]
  },
  {
   "cell_type": "code",
   "execution_count": 56,
   "metadata": {},
   "outputs": [
    {
     "name": "stdout",
     "output_type": "stream",
     "text": [
      "read_tool\n",
      "Gets all tasks currently attributed to the user.\n",
      "{}\n"
     ]
    }
   ],
   "source": [
    "# It should now have some attributes as a tool.\n",
    "print(read_tool.name)\n",
    "print(read_tool.description)\n",
    "print(read_tool.args)"
   ]
  },
  {
   "cell_type": "code",
   "execution_count": 57,
   "metadata": {},
   "outputs": [],
   "source": [
    "# Now let's re-create the tool graph.\n",
    "# I'll keep the Tavily search tool, but now I'll add the custom tool.\n",
    "\n",
    "tavily_tool = TavilySearchResults(max_results=3)\n",
    "\n",
    "tool_graph_builder = StateGraph(State)\n",
    "toolset = [tavily_tool, read_tool]\n",
    "\n",
    "llm = ChatOpenAI(model='gpt-4o')\n",
    "llm_with_tools = llm.bind_tools(tools=toolset) # It does expect a list.\n",
    "\n",
    "# Next we create the callable that we'll use in the node.\n",
    "\n",
    "def chatbot_with_tools(state: State):\n",
    "    # Once again, unnecessary verbosity for clarity.\n",
    "    messages = state[\"messages\"]\n",
    "    response = llm_with_tools.invoke(messages)\n",
    "    return {\"messages\": response}\n",
    "\n",
    "# Adding to the graph.\n",
    "tool_graph_builder.add_node('chatbot', chatbot_with_tools)\n",
    "\n",
    "tool_node = ToolNode(tools=toolset) # https://langchain-ai.github.io/langgraph/reference/prebuilt/#toolnode\n",
    "\n",
    "tool_graph_builder.add_node('tools', tool_node)\n",
    "\n",
    "def route_tools(state: State,) -> Literal[\"tools\",\"__end__\"]:\n",
    "    \"\"\"\n",
    "    Use in the conditional_edge to route to the ToolNode if the last message\n",
    "    has tool calls. Otherwise, route to the end.\n",
    "    The values returned here are arbitrary, but it makes sense to name them after the node in the graph they should route to.\n",
    "    \"\"\"\n",
    "\n",
    "    # First we must get the last message from the state.\n",
    "    # We are looking necessarily for an AIMessage, since those are the ones that call tools.\n",
    "    # The introduction notebook adds a few validation if-elses, some of which are unnecessary.\n",
    "\n",
    "    # A try-except solves my current needs\n",
    "    try:\n",
    "        last_message = state[\"messages\"][-1]\n",
    "    except: \n",
    "        raise ValueError(f\"No messages found in input state to tool_edge: {state}\")\n",
    "    \n",
    "    # Now we check if the last message has tool calls.\n",
    "    if hasattr(last_message, \"tool_calls\") and len(last_message.tool_calls) > 0:\n",
    "        return \"tools\" # Logic being: 'Look, there's a tool call. So we should route to the 'tools' node.\n",
    "    return \"__end__\"\n",
    "\n",
    "tool_graph_builder.add_conditional_edges('chatbot', route_tools)\n",
    "\n",
    "tool_graph_builder.add_edge('tools', 'chatbot')\n",
    "\n",
    "# Now for boiler plate compiling\n",
    "\n",
    "tool_graph_builder.set_entry_point('chatbot')\n",
    "\n",
    "tool_graph = tool_graph_builder.compile()\n",
    "\n"
   ]
  },
  {
   "cell_type": "code",
   "execution_count": 58,
   "metadata": {},
   "outputs": [
    {
     "name": "stdout",
     "output_type": "stream",
     "text": [
      "Assistant: \n",
      "Assistant: [{\"url\": \"https://nineplanets.org/questions/how-big-is-the-moon/\", \"content\": \"As, such the top ten biggest moons in the Solar System are Ganymede, Titan, Callisto, Io, Luna (Moon), Europa, Triton, Titania, Rhea, and Oberon.\\nFour of the biggest moons in our Solar System belong to the biggest planet in our Solar System, namely Jupiter. Out of the remaining six, two of the biggest moons in the Solar System belong to Saturn, the second biggest planet in the Solar System, and they are Titan and Rhea.\\n Top 10 Biggest Moons in the Solar System\\nThe top 10 biggest moons in our Solar System are genuinely gigantic, with some of them being even bigger than some of the Solar System\\u2019s planets, like Mercury, or they make dwarf planets such as Pluto, Eris, Haumea, Makemake, or Ceres, look small.\\n The Moon\\u2019s diameter is 3,474 km / 2,158 mi, and it is the biggest Moon in the Solar System relative to the size of its planet.\\n The United States is 4,506 km / 2,800 mi wide when measured horizontally from the eastern seaboard to the west coast \\u2013 West Quoddy Head in the east to the Point Arena in the West.\"}, {\"url\": \"https://www.space.com/18135-how-big-is-the-moon.html\", \"content\": \"\\\"The main reason why the orbit of the moon is not a perfect circle is that there are a lot of tidal, or gravitational, forces that are pulling on the moon,\\\" Petro told Space.com, adding that the gravity of the Earth, sun and planets of our solar system all impact the orbit of the moon. According to the science education website The Nine Planets (they still love Pluto), our moon is the biggest in the solar system relative to the size of its planet, it is the fifth-biggest overall. At first, the moon may appear quite large, but that is only because it is our closest celestial body \\u2014 approximately 238,855 miles (384,400 km) away on average.\\n\\u2013 Radius: 1,079.6 miles (1,737.5 km)\\n\\u2013 Diameter: 2,159.2 miles (3,475 km).\\n\\u2013 Surface area: 14.6 million square miles (38 million square km)\\n\\u2013 Mass: 7.35 x 10^22 kg\\n\\u2013 Density: 3.34 grams per cubic centimeter (3.34 g/cm3)\\n \\\"The moon is the Rosetta Stone by which we understand the rest of the solar system,\\\" Noah Petro, deputy project scientist for NASA's Lunar Reconnaissance Orbiter (LRO) mission, said in a statement.\\n \\\"\\nWhile the moon is the closest and one of the longest studied astronomical objects, scientists continue to press the celestial body for details.\\n\"}, {\"url\": \"https://en.wikipedia.org/wiki/Moon\", \"content\": \"While the Moon has no significant atmosphere, traffic and impacts on the Moon causes clouds of dust that can spread far and possibly contaminate the original state of the Moon and its special scientific content.[256] Scholar Alice Gorman asserts that, although the Moon is inhospitable, it is not dead, and that sustainable human activity would require treating the Moon's ecology as a co-participant.[257]\\nThe so-called \\\"Tardigrade affair\\\" of the 2019 crashed Beresheet lander and its carrying of tardigrades has been discussed as an example for lacking measures and lacking international regulation for planetary protection.[258]\\nSpace debris beyond Earth around the Moon has been considered as a future challenge with increasing numbers of missions to the Moon, particularly as a danger for such missions.[259][260] As such lunar waste management has been raised as an issue which future lunar missions, particularly on the surface, need to tackle.[261][262]\\nBeside the remains of human activity on the Moon, there have been some intended permanent installations like the Moon Museum art piece, Apollo 11 goodwill messages, six lunar plaques, the Fallen Astronaut memorial, and other artifacts.[254]\\nLongterm missions continuing to be active are some orbiters such as the 2009-launched Lunar Reconnaissance Orbiter surveilling the Moon for future missions, as well as some Landers such as the 2013-launched Chang'e 3 with its Lunar Ultraviolet Telescope still operational.[263]\\n It is believed by some that 20\\u201330,000 year old tally sticks were used to observe the phases of the Moon, keeping time using the waxing and waning of the Moon's phases.[210]\\nOne of the earliest-discovered possible depictions of the Moon is a 5000-year-old rock carving Orthostat 47 at Knowth, Ireland.[211][212]\\nThe ancient Greek philosopher Anaxagoras (d.\\u2009428 BC) reasoned that the Sun and Moon were both giant spherical rocks, and that the latter reflected the light of the former.[213][214]:\\u200a227\\u200a Elsewhere in the 5th century BC to 4th century BC, Babylonian astronomers had recorded the 18-year Saros cycle of lunar eclipses,[215]\\nand Indian astronomers had described the Moon's monthly elongation.[216] miracle.[310]\\nThe contrast between the brighter highlands and the darker maria have been seen by different cultures forming abstract shapes, which are among others the Man in the Moon or the Moon Rabbit (e.g. the Chinese Tu'er Ye or in Indigenous American mythologies, as with the aspect of the Mayan Moon goddess).[302]\\nIn Western alchemy silver is associated with the Moon, and gold with the Sun.[311]\\nModern culture representation\\nThe perception of the Moon in modern times has been informed by telescope enabled modern astronomy and later by spaceflight enabled actual human activity at the Moon, particularly the culturally impactful lunar landings. For an eclipse to occur, the Moon must be near the intersection of the two orbital planes.[206] The periodicity and recurrence of eclipses of the Sun by the Moon, and of the Moon by Earth, is described by the saros, which has a period of approximately 18\\u00a0years.[207]\\nBecause the Moon continuously blocks the view of a half-degree-wide circular area of the sky,[l][208] the related phenomenon of occultation occurs when a bright star or planet passes behind the Moon and is occulted: hidden from view. In writing systems such as Chinese the crescent has developed into the symbol \\u6708, the word for Moon, and in ancient Egyptian it was the symbol \\ud80c\\uddf9, which is spelled like the ancient Egyptian lunar deity Iah, meaning Moon.[303]\\nIconographically the crescent was used in Mesopotamia as the primary symbol of Nanna/S\\u00een,[304] the ancient Sumerian lunar deity,[305][304] who was the father of Innana/Ishtar, the goddess of the planet Venus (symbolized as the eight pointed Star of Ishtar),[305][304] and Utu/Shamash, the god of the Sun (symbolized as a disc, optionally with eight rays),[305][304] all three often depicted next to each other.\"}]\n",
      "Assistant: The diameter of the Moon is approximately 3,474 kilometers (2,158 miles).\n"
     ]
    }
   ],
   "source": [
    "# Let's try it. First, with a previous working example.\n",
    "\n",
    "user_input = HumanMessage(\"What's the diameter of the moon? Please search online before answering.\") \n",
    "\n",
    "for event in tool_graph.stream({\"messages\": user_input}):\n",
    "    for value in event.values():\n",
    "        if isinstance(value[\"messages\"], BaseMessage): # Single message case.\n",
    "            print(\"Assistant:\", value[\"messages\"].content)\n",
    "        elif isinstance(value[\"messages\"][-1], BaseMessage): # Multi-message case.\n",
    "            print(\"Assistant:\", value[\"messages\"][-1].content)"
   ]
  },
  {
   "cell_type": "code",
   "execution_count": 59,
   "metadata": {},
   "outputs": [
    {
     "name": "stdout",
     "output_type": "stream",
     "text": [
      "Assistant: \n",
      "Assistant: [{\"id\": \"rec1TD1grkTYegJOW\", \"createdTime\": \"2024-06-20T01:13:23.000Z\", \"fields\": {\"unique_id\": 102, \"Task\": \"Verificar os barulhos estranhos do carro\", \"Status\": \"A iniciar\", \"Calculation\": \"rec1TD1grkTYegJOW\"}}, {\"id\": \"recA6GG38QaR7UJRt\", \"createdTime\": \"2024-06-02T20:18:08.000Z\", \"fields\": {\"unique_id\": 97, \"Task\": \"Abrir uma loja\", \"Status\": \"Conclu\\u00edda\", \"Calculation\": \"recA6GG38QaR7UJRt\"}}, {\"id\": \"recaYhoaEPgyfBDGB\", \"createdTime\": \"2024-06-02T20:18:08.000Z\", \"fields\": {\"unique_id\": 98, \"Task\": \"Fazer um bolo\", \"Status\": \"Conclu\\u00edda\", \"Calculation\": \"recaYhoaEPgyfBDGB\"}}, {\"id\": \"recmZ1HDewckiLjI1\", \"createdTime\": \"2024-06-09T13:57:07.000Z\", \"fields\": {\"unique_id\": 99, \"Task\": \"Fazer um resumo de tudo que aconteceu essa semana\", \"Status\": \"A iniciar\", \"Calculation\": \"recmZ1HDewckiLjI1\"}}, {\"id\": \"recoG6P2qmpneZW4Y\", \"createdTime\": \"2024-06-20T01:11:21.000Z\", \"fields\": {\"unique_id\": 100, \"Task\": \"Lavar o carro\", \"Status\": \"Conclu\\u00edda\", \"Calculation\": \"recoG6P2qmpneZW4Y\"}}, {\"id\": \"recrf1rsvDlKGDqvV\", \"createdTime\": \"2024-06-02T20:18:08.000Z\", \"fields\": {\"unique_id\": 96, \"Task\": \"Comprar mam\\u00e3o\", \"Description\": \"Esta tarefa foi mesclada com 'Comprar banana'.\", \"Status\": \"Mesclada\", \"Calculation\": \"recrf1rsvDlKGDqvV\"}}, {\"id\": \"recujyUgP3cCPYd1P\", \"createdTime\": \"2024-06-20T01:13:23.000Z\", \"fields\": {\"unique_id\": 101, \"Task\": \"Colocar a roupa para lavar\", \"Status\": \"A iniciar\", \"Calculation\": \"recujyUgP3cCPYd1P\"}}]\n",
      "Assistant: Aqui estão as suas tarefas atuais:\n",
      "\n",
      "1. **Verificar os barulhos estranhos do carro**\n",
      "   - Status: A iniciar\n",
      "\n",
      "2. **Abrir uma loja**\n",
      "   - Status: Concluída\n",
      "\n",
      "3. **Fazer um bolo**\n",
      "   - Status: Concluída\n",
      "\n",
      "4. **Fazer um resumo de tudo que aconteceu essa semana**\n",
      "   - Status: A iniciar\n",
      "\n",
      "5. **Lavar o carro**\n",
      "   - Status: Concluída\n",
      "\n",
      "6. **Comprar mamão**\n",
      "   - Descrição: Esta tarefa foi mesclada com 'Comprar banana'.\n",
      "   - Status: Mesclada\n",
      "\n",
      "7. **Colocar a roupa para lavar**\n",
      "   - Status: A iniciar\n"
     ]
    }
   ],
   "source": [
    "# Now trying the new tool.\n",
    "\n",
    "user_input = HumanMessage(\"What are my tasks?\") # Pretty easy, theoretically. \n",
    "\n",
    "for event in tool_graph.stream({\"messages\": user_input}):\n",
    "    for value in event.values():\n",
    "        if isinstance(value[\"messages\"], BaseMessage): # Single message case.\n",
    "            print(\"Assistant:\", value[\"messages\"].content)\n",
    "        elif isinstance(value[\"messages\"][-1], BaseMessage): # Multi-message case.\n",
    "            print(\"Assistant:\", value[\"messages\"][-1].content)"
   ]
  },
  {
   "cell_type": "code",
   "execution_count": 60,
   "metadata": {},
   "outputs": [],
   "source": [
    "# Awesome!\n",
    "# Now for my main concern: creating tools that receive records as inputs.\n",
    "# I feel I'll need to use Pydantic models to help me lock down the attributes.\n",
    "# These overall will be a pain in the ass, since it only depends on the schemas I define in Airtable.\n",
    "\n",
    "# I'll start small, with only the 'Task' field, which is a string. I'll however already use the batch_create method.\n",
    "\n",
    "from typing import Dict, Iterable\n",
    "\n",
    "\n",
    "@tool\n",
    "def create_tasks(records: Iterable[Dict[Literal['Task'], str]]) -> List[dict]:\n",
    "    \"\"\"\n",
    "    Used to create new tasks (i.e.: new 'to-do' style records).\n",
    "    \"\"\"\n",
    "\n",
    "    api = Api(os.environ['AIRTABLE_ACCESS_TOKEN'])\n",
    "    table = api.table(os.environ['AIRTABLE_BASE_ID'], 'Tasks')\n",
    "    return table.batch_create(records=records)"
   ]
  },
  {
   "cell_type": "code",
   "execution_count": 61,
   "metadata": {},
   "outputs": [],
   "source": [
    "tool_graph_builder = StateGraph(State)\n",
    "toolset = [tavily_tool, read_tool, create_tasks] # New addition\n",
    "\n",
    "llm = ChatOpenAI(model='gpt-4o')\n",
    "llm_with_tools = llm.bind_tools(tools=toolset) # It does expect a list.\n",
    "\n",
    "# Next we create the callable that we'll use in the node.\n",
    "\n",
    "def chatbot_with_tools(state: State):\n",
    "    # Once again, unnecessary verbosity for clarity.\n",
    "    messages = state[\"messages\"]\n",
    "    response = llm_with_tools.invoke(messages)\n",
    "    return {\"messages\": response}\n",
    "\n",
    "# Adding to the graph.\n",
    "tool_graph_builder.add_node('chatbot', chatbot_with_tools)\n",
    "\n",
    "tool_node = ToolNode(tools=toolset) # https://langchain-ai.github.io/langgraph/reference/prebuilt/#toolnode\n",
    "\n",
    "tool_graph_builder.add_node('tools', tool_node)\n",
    "\n",
    "def route_tools(state: State,) -> Literal[\"tools\",\"__end__\"]:\n",
    "    \"\"\"\n",
    "    Use in the conditional_edge to route to the ToolNode if the last message\n",
    "    has tool calls. Otherwise, route to the end.\n",
    "    The values returned here are arbitrary, but it makes sense to name them after the node in the graph they should route to.\n",
    "    \"\"\"\n",
    "\n",
    "    # First we must get the last message from the state.\n",
    "    # We are looking necessarily for an AIMessage, since those are the ones that call tools.\n",
    "    # The introduction notebook adds a few validation if-elses, some of which are unnecessary.\n",
    "\n",
    "    # A try-except solves my current needs\n",
    "    try:\n",
    "        last_message = state[\"messages\"][-1]\n",
    "    except: \n",
    "        raise ValueError(f\"No messages found in input state to tool_edge: {state}\")\n",
    "    \n",
    "    # Now we check if the last message has tool calls.\n",
    "    if hasattr(last_message, \"tool_calls\") and len(last_message.tool_calls) > 0:\n",
    "        return \"tools\" # Logic being: 'Look, there's a tool call. So we should route to the 'tools' node.\n",
    "    return \"__end__\"\n",
    "\n",
    "tool_graph_builder.add_conditional_edges('chatbot', route_tools)\n",
    "\n",
    "tool_graph_builder.add_edge('tools', 'chatbot')\n",
    "\n",
    "# Now for boiler plate compiling\n",
    "\n",
    "tool_graph_builder.set_entry_point('chatbot')\n",
    "\n",
    "tool_graph = tool_graph_builder.compile()"
   ]
  },
  {
   "cell_type": "code",
   "execution_count": 62,
   "metadata": {},
   "outputs": [
    {
     "name": "stdout",
     "output_type": "stream",
     "text": [
      "Assistant: \n",
      "Assistant: [{\"id\": \"rec1TD1grkTYegJOW\", \"createdTime\": \"2024-06-20T01:13:23.000Z\", \"fields\": {\"unique_id\": 102, \"Task\": \"Verificar os barulhos estranhos do carro\", \"Status\": \"A iniciar\", \"Calculation\": \"rec1TD1grkTYegJOW\"}}, {\"id\": \"recA6GG38QaR7UJRt\", \"createdTime\": \"2024-06-02T20:18:08.000Z\", \"fields\": {\"unique_id\": 97, \"Task\": \"Abrir uma loja\", \"Status\": \"Conclu\\u00edda\", \"Calculation\": \"recA6GG38QaR7UJRt\"}}, {\"id\": \"recaYhoaEPgyfBDGB\", \"createdTime\": \"2024-06-02T20:18:08.000Z\", \"fields\": {\"unique_id\": 98, \"Task\": \"Fazer um bolo\", \"Status\": \"Conclu\\u00edda\", \"Calculation\": \"recaYhoaEPgyfBDGB\"}}, {\"id\": \"recmZ1HDewckiLjI1\", \"createdTime\": \"2024-06-09T13:57:07.000Z\", \"fields\": {\"unique_id\": 99, \"Task\": \"Fazer um resumo de tudo que aconteceu essa semana\", \"Status\": \"A iniciar\", \"Calculation\": \"recmZ1HDewckiLjI1\"}}, {\"id\": \"recoG6P2qmpneZW4Y\", \"createdTime\": \"2024-06-20T01:11:21.000Z\", \"fields\": {\"unique_id\": 100, \"Task\": \"Lavar o carro\", \"Status\": \"Conclu\\u00edda\", \"Calculation\": \"recoG6P2qmpneZW4Y\"}}, {\"id\": \"recrf1rsvDlKGDqvV\", \"createdTime\": \"2024-06-02T20:18:08.000Z\", \"fields\": {\"unique_id\": 96, \"Task\": \"Comprar mam\\u00e3o\", \"Description\": \"Esta tarefa foi mesclada com 'Comprar banana'.\", \"Status\": \"Mesclada\", \"Calculation\": \"recrf1rsvDlKGDqvV\"}}, {\"id\": \"recujyUgP3cCPYd1P\", \"createdTime\": \"2024-06-20T01:13:23.000Z\", \"fields\": {\"unique_id\": 101, \"Task\": \"Colocar a roupa para lavar\", \"Status\": \"A iniciar\", \"Calculation\": \"recujyUgP3cCPYd1P\"}}]\n",
      "Assistant: ### Suas Tarefas\n",
      "\n",
      "#### A Iniciar\n",
      "1. **Verificar os barulhos estranhos do carro**\n",
      "2. **Fazer um resumo de tudo que aconteceu essa semana**\n",
      "3. **Colocar a roupa para lavar**\n",
      "\n",
      "#### Concluídas\n",
      "1. **Abrir uma loja**\n",
      "2. **Fazer um bolo**\n",
      "3. **Lavar o carro**\n",
      "\n",
      "#### Mescladas\n",
      "1. **Comprar mamão**\n",
      "   - *Descrição*: Esta tarefa foi mesclada com 'Comprar banana'.\n"
     ]
    }
   ],
   "source": [
    "# Same tests.\n",
    "user_input = HumanMessage(\"What are my tasks?\") # Pretty easy, theoretically. \n",
    "\n",
    "for event in tool_graph.stream({\"messages\": user_input}):\n",
    "    for value in event.values():\n",
    "        if isinstance(value[\"messages\"], BaseMessage): # Single message case.\n",
    "            print(\"Assistant:\", value[\"messages\"].content)\n",
    "        elif isinstance(value[\"messages\"][-1], BaseMessage): # Multi-message case.\n",
    "            print(\"Assistant:\", value[\"messages\"][-1].content)"
   ]
  },
  {
   "cell_type": "code",
   "execution_count": 63,
   "metadata": {},
   "outputs": [
    {
     "name": "stdout",
     "output_type": "stream",
     "text": [
      "Assistant: \n"
     ]
    },
    {
     "ename": "ValidationError",
     "evalue": "1 validation error for create_tasksSchema\nrecords\n  field required (type=value_error.missing)",
     "output_type": "error",
     "traceback": [
      "\u001b[1;31m---------------------------------------------------------------------------\u001b[0m",
      "\u001b[1;31mValidationError\u001b[0m                           Traceback (most recent call last)",
      "Cell \u001b[1;32mIn[63], line 4\u001b[0m\n\u001b[0;32m      1\u001b[0m \u001b[38;5;66;03m# Now the new tool\u001b[39;00m\n\u001b[0;32m      2\u001b[0m user_input \u001b[38;5;241m=\u001b[39m HumanMessage(\u001b[38;5;124m\"\u001b[39m\u001b[38;5;124mI have to create a ppt presentation, as well as calling my wife.\u001b[39m\u001b[38;5;124m\"\u001b[39m) \u001b[38;5;66;03m# Pretty easy, theoretically. \u001b[39;00m\n\u001b[1;32m----> 4\u001b[0m \u001b[38;5;28;43;01mfor\u001b[39;49;00m\u001b[43m \u001b[49m\u001b[43mevent\u001b[49m\u001b[43m \u001b[49m\u001b[38;5;129;43;01min\u001b[39;49;00m\u001b[43m \u001b[49m\u001b[43mtool_graph\u001b[49m\u001b[38;5;241;43m.\u001b[39;49m\u001b[43mstream\u001b[49m\u001b[43m(\u001b[49m\u001b[43m{\u001b[49m\u001b[38;5;124;43m\"\u001b[39;49m\u001b[38;5;124;43mmessages\u001b[39;49m\u001b[38;5;124;43m\"\u001b[39;49m\u001b[43m:\u001b[49m\u001b[43m \u001b[49m\u001b[43muser_input\u001b[49m\u001b[43m}\u001b[49m\u001b[43m)\u001b[49m\u001b[43m:\u001b[49m\n\u001b[0;32m      5\u001b[0m \u001b[43m    \u001b[49m\u001b[38;5;28;43;01mfor\u001b[39;49;00m\u001b[43m \u001b[49m\u001b[43mvalue\u001b[49m\u001b[43m \u001b[49m\u001b[38;5;129;43;01min\u001b[39;49;00m\u001b[43m \u001b[49m\u001b[43mevent\u001b[49m\u001b[38;5;241;43m.\u001b[39;49m\u001b[43mvalues\u001b[49m\u001b[43m(\u001b[49m\u001b[43m)\u001b[49m\u001b[43m:\u001b[49m\n\u001b[0;32m      6\u001b[0m \u001b[43m        \u001b[49m\u001b[38;5;28;43;01mif\u001b[39;49;00m\u001b[43m \u001b[49m\u001b[38;5;28;43misinstance\u001b[39;49m\u001b[43m(\u001b[49m\u001b[43mvalue\u001b[49m\u001b[43m[\u001b[49m\u001b[38;5;124;43m\"\u001b[39;49m\u001b[38;5;124;43mmessages\u001b[39;49m\u001b[38;5;124;43m\"\u001b[39;49m\u001b[43m]\u001b[49m\u001b[43m,\u001b[49m\u001b[43m \u001b[49m\u001b[43mBaseMessage\u001b[49m\u001b[43m)\u001b[49m\u001b[43m:\u001b[49m\u001b[43m \u001b[49m\u001b[38;5;66;43;03m# Single message case.\u001b[39;49;00m\n",
      "File \u001b[1;32md:\\git\\plinio_assistant\\.conda\\Lib\\site-packages\\langgraph\\pregel\\__init__.py:1073\u001b[0m, in \u001b[0;36mPregel.stream\u001b[1;34m(self, input, config, stream_mode, output_keys, input_keys, interrupt_before, interrupt_after, debug)\u001b[0m\n\u001b[0;32m   1070\u001b[0m         \u001b[38;5;28;01mdel\u001b[39;00m fut, task\n\u001b[0;32m   1072\u001b[0m \u001b[38;5;66;03m# panic on failure or timeout\u001b[39;00m\n\u001b[1;32m-> 1073\u001b[0m \u001b[43m_panic_or_proceed\u001b[49m\u001b[43m(\u001b[49m\u001b[43mdone\u001b[49m\u001b[43m,\u001b[49m\u001b[43m \u001b[49m\u001b[43minflight\u001b[49m\u001b[43m,\u001b[49m\u001b[43m \u001b[49m\u001b[43mstep\u001b[49m\u001b[43m)\u001b[49m\n\u001b[0;32m   1074\u001b[0m \u001b[38;5;66;03m# don't keep futures around in memory longer than needed\u001b[39;00m\n\u001b[0;32m   1075\u001b[0m \u001b[38;5;28;01mdel\u001b[39;00m done, inflight, futures\n",
      "File \u001b[1;32md:\\git\\plinio_assistant\\.conda\\Lib\\site-packages\\langgraph\\pregel\\__init__.py:1639\u001b[0m, in \u001b[0;36m_panic_or_proceed\u001b[1;34m(done, inflight, step)\u001b[0m\n\u001b[0;32m   1637\u001b[0m             inflight\u001b[38;5;241m.\u001b[39mpop()\u001b[38;5;241m.\u001b[39mcancel()\n\u001b[0;32m   1638\u001b[0m         \u001b[38;5;66;03m# raise the exception\u001b[39;00m\n\u001b[1;32m-> 1639\u001b[0m         \u001b[38;5;28;01mraise\u001b[39;00m exc\n\u001b[0;32m   1641\u001b[0m \u001b[38;5;28;01mif\u001b[39;00m inflight:\n\u001b[0;32m   1642\u001b[0m     \u001b[38;5;66;03m# if we got here means we timed out\u001b[39;00m\n\u001b[0;32m   1643\u001b[0m     \u001b[38;5;28;01mwhile\u001b[39;00m inflight:\n\u001b[0;32m   1644\u001b[0m         \u001b[38;5;66;03m# cancel all pending tasks\u001b[39;00m\n",
      "File \u001b[1;32md:\\git\\plinio_assistant\\.conda\\Lib\\concurrent\\futures\\thread.py:58\u001b[0m, in \u001b[0;36m_WorkItem.run\u001b[1;34m(self)\u001b[0m\n\u001b[0;32m     55\u001b[0m     \u001b[38;5;28;01mreturn\u001b[39;00m\n\u001b[0;32m     57\u001b[0m \u001b[38;5;28;01mtry\u001b[39;00m:\n\u001b[1;32m---> 58\u001b[0m     result \u001b[38;5;241m=\u001b[39m \u001b[38;5;28;43mself\u001b[39;49m\u001b[38;5;241;43m.\u001b[39;49m\u001b[43mfn\u001b[49m\u001b[43m(\u001b[49m\u001b[38;5;241;43m*\u001b[39;49m\u001b[38;5;28;43mself\u001b[39;49m\u001b[38;5;241;43m.\u001b[39;49m\u001b[43margs\u001b[49m\u001b[43m,\u001b[49m\u001b[43m \u001b[49m\u001b[38;5;241;43m*\u001b[39;49m\u001b[38;5;241;43m*\u001b[39;49m\u001b[38;5;28;43mself\u001b[39;49m\u001b[38;5;241;43m.\u001b[39;49m\u001b[43mkwargs\u001b[49m\u001b[43m)\u001b[49m\n\u001b[0;32m     59\u001b[0m \u001b[38;5;28;01mexcept\u001b[39;00m \u001b[38;5;167;01mBaseException\u001b[39;00m \u001b[38;5;28;01mas\u001b[39;00m exc:\n\u001b[0;32m     60\u001b[0m     \u001b[38;5;28mself\u001b[39m\u001b[38;5;241m.\u001b[39mfuture\u001b[38;5;241m.\u001b[39mset_exception(exc)\n",
      "File \u001b[1;32md:\\git\\plinio_assistant\\.conda\\Lib\\site-packages\\langgraph\\pregel\\retry.py:72\u001b[0m, in \u001b[0;36mrun_with_retry\u001b[1;34m(task, retry_policy)\u001b[0m\n\u001b[0;32m     70\u001b[0m task\u001b[38;5;241m.\u001b[39mwrites\u001b[38;5;241m.\u001b[39mclear()\n\u001b[0;32m     71\u001b[0m \u001b[38;5;66;03m# run the task\u001b[39;00m\n\u001b[1;32m---> 72\u001b[0m \u001b[43mtask\u001b[49m\u001b[38;5;241;43m.\u001b[39;49m\u001b[43mproc\u001b[49m\u001b[38;5;241;43m.\u001b[39;49m\u001b[43minvoke\u001b[49m\u001b[43m(\u001b[49m\u001b[43mtask\u001b[49m\u001b[38;5;241;43m.\u001b[39;49m\u001b[43minput\u001b[49m\u001b[43m,\u001b[49m\u001b[43m \u001b[49m\u001b[43mtask\u001b[49m\u001b[38;5;241;43m.\u001b[39;49m\u001b[43mconfig\u001b[49m\u001b[43m)\u001b[49m\n\u001b[0;32m     73\u001b[0m \u001b[38;5;66;03m# if successful, end\u001b[39;00m\n\u001b[0;32m     74\u001b[0m \u001b[38;5;28;01mbreak\u001b[39;00m\n",
      "File \u001b[1;32md:\\git\\plinio_assistant\\.conda\\Lib\\site-packages\\langchain_core\\runnables\\base.py:2505\u001b[0m, in \u001b[0;36mRunnableSequence.invoke\u001b[1;34m(self, input, config, **kwargs)\u001b[0m\n\u001b[0;32m   2501\u001b[0m config \u001b[38;5;241m=\u001b[39m patch_config(\n\u001b[0;32m   2502\u001b[0m     config, callbacks\u001b[38;5;241m=\u001b[39mrun_manager\u001b[38;5;241m.\u001b[39mget_child(\u001b[38;5;124mf\u001b[39m\u001b[38;5;124m\"\u001b[39m\u001b[38;5;124mseq:step:\u001b[39m\u001b[38;5;132;01m{\u001b[39;00mi\u001b[38;5;241m+\u001b[39m\u001b[38;5;241m1\u001b[39m\u001b[38;5;132;01m}\u001b[39;00m\u001b[38;5;124m\"\u001b[39m)\n\u001b[0;32m   2503\u001b[0m )\n\u001b[0;32m   2504\u001b[0m \u001b[38;5;28;01mif\u001b[39;00m i \u001b[38;5;241m==\u001b[39m \u001b[38;5;241m0\u001b[39m:\n\u001b[1;32m-> 2505\u001b[0m     \u001b[38;5;28minput\u001b[39m \u001b[38;5;241m=\u001b[39m \u001b[43mstep\u001b[49m\u001b[38;5;241;43m.\u001b[39;49m\u001b[43minvoke\u001b[49m\u001b[43m(\u001b[49m\u001b[38;5;28;43minput\u001b[39;49m\u001b[43m,\u001b[49m\u001b[43m \u001b[49m\u001b[43mconfig\u001b[49m\u001b[43m,\u001b[49m\u001b[43m \u001b[49m\u001b[38;5;241;43m*\u001b[39;49m\u001b[38;5;241;43m*\u001b[39;49m\u001b[43mkwargs\u001b[49m\u001b[43m)\u001b[49m\n\u001b[0;32m   2506\u001b[0m \u001b[38;5;28;01melse\u001b[39;00m:\n\u001b[0;32m   2507\u001b[0m     \u001b[38;5;28minput\u001b[39m \u001b[38;5;241m=\u001b[39m step\u001b[38;5;241m.\u001b[39minvoke(\u001b[38;5;28minput\u001b[39m, config)\n",
      "File \u001b[1;32md:\\git\\plinio_assistant\\.conda\\Lib\\site-packages\\langgraph\\utils.py:95\u001b[0m, in \u001b[0;36mRunnableCallable.invoke\u001b[1;34m(self, input, config, **kwargs)\u001b[0m\n\u001b[0;32m     93\u001b[0m     \u001b[38;5;28;01mif\u001b[39;00m accepts_config(\u001b[38;5;28mself\u001b[39m\u001b[38;5;241m.\u001b[39mfunc):\n\u001b[0;32m     94\u001b[0m         kwargs[\u001b[38;5;124m\"\u001b[39m\u001b[38;5;124mconfig\u001b[39m\u001b[38;5;124m\"\u001b[39m] \u001b[38;5;241m=\u001b[39m config\n\u001b[1;32m---> 95\u001b[0m     ret \u001b[38;5;241m=\u001b[39m \u001b[43mcontext\u001b[49m\u001b[38;5;241;43m.\u001b[39;49m\u001b[43mrun\u001b[49m\u001b[43m(\u001b[49m\u001b[38;5;28;43mself\u001b[39;49m\u001b[38;5;241;43m.\u001b[39;49m\u001b[43mfunc\u001b[49m\u001b[43m,\u001b[49m\u001b[43m \u001b[49m\u001b[38;5;28;43minput\u001b[39;49m\u001b[43m,\u001b[49m\u001b[43m \u001b[49m\u001b[38;5;241;43m*\u001b[39;49m\u001b[38;5;241;43m*\u001b[39;49m\u001b[43mkwargs\u001b[49m\u001b[43m)\u001b[49m\n\u001b[0;32m     96\u001b[0m \u001b[38;5;28;01mif\u001b[39;00m \u001b[38;5;28misinstance\u001b[39m(ret, Runnable) \u001b[38;5;129;01mand\u001b[39;00m \u001b[38;5;28mself\u001b[39m\u001b[38;5;241m.\u001b[39mrecurse:\n\u001b[0;32m     97\u001b[0m     \u001b[38;5;28;01mreturn\u001b[39;00m ret\u001b[38;5;241m.\u001b[39minvoke(\u001b[38;5;28minput\u001b[39m, config)\n",
      "File \u001b[1;32md:\\git\\plinio_assistant\\.conda\\Lib\\site-packages\\langgraph\\prebuilt\\tool_node.py:85\u001b[0m, in \u001b[0;36mToolNode._func\u001b[1;34m(self, input, config)\u001b[0m\n\u001b[0;32m     80\u001b[0m     \u001b[38;5;28;01mreturn\u001b[39;00m ToolMessage(\n\u001b[0;32m     81\u001b[0m         content\u001b[38;5;241m=\u001b[39mstr_output(output), name\u001b[38;5;241m=\u001b[39mcall[\u001b[38;5;124m\"\u001b[39m\u001b[38;5;124mname\u001b[39m\u001b[38;5;124m\"\u001b[39m], tool_call_id\u001b[38;5;241m=\u001b[39mcall[\u001b[38;5;124m\"\u001b[39m\u001b[38;5;124mid\u001b[39m\u001b[38;5;124m\"\u001b[39m]\n\u001b[0;32m     82\u001b[0m     )\n\u001b[0;32m     84\u001b[0m \u001b[38;5;28;01mwith\u001b[39;00m get_executor_for_config(config) \u001b[38;5;28;01mas\u001b[39;00m executor:\n\u001b[1;32m---> 85\u001b[0m     outputs \u001b[38;5;241m=\u001b[39m [\u001b[38;5;241m*\u001b[39mexecutor\u001b[38;5;241m.\u001b[39mmap(run_one, message\u001b[38;5;241m.\u001b[39mtool_calls)]\n\u001b[0;32m     86\u001b[0m     \u001b[38;5;28;01mif\u001b[39;00m output_type \u001b[38;5;241m==\u001b[39m \u001b[38;5;124m\"\u001b[39m\u001b[38;5;124mlist\u001b[39m\u001b[38;5;124m\"\u001b[39m:\n\u001b[0;32m     87\u001b[0m         \u001b[38;5;28;01mreturn\u001b[39;00m outputs\n",
      "File \u001b[1;32md:\\git\\plinio_assistant\\.conda\\Lib\\concurrent\\futures\\_base.py:619\u001b[0m, in \u001b[0;36mExecutor.map.<locals>.result_iterator\u001b[1;34m()\u001b[0m\n\u001b[0;32m    616\u001b[0m \u001b[38;5;28;01mwhile\u001b[39;00m fs:\n\u001b[0;32m    617\u001b[0m     \u001b[38;5;66;03m# Careful not to keep a reference to the popped future\u001b[39;00m\n\u001b[0;32m    618\u001b[0m     \u001b[38;5;28;01mif\u001b[39;00m timeout \u001b[38;5;129;01mis\u001b[39;00m \u001b[38;5;28;01mNone\u001b[39;00m:\n\u001b[1;32m--> 619\u001b[0m         \u001b[38;5;28;01myield\u001b[39;00m \u001b[43m_result_or_cancel\u001b[49m\u001b[43m(\u001b[49m\u001b[43mfs\u001b[49m\u001b[38;5;241;43m.\u001b[39;49m\u001b[43mpop\u001b[49m\u001b[43m(\u001b[49m\u001b[43m)\u001b[49m\u001b[43m)\u001b[49m\n\u001b[0;32m    620\u001b[0m     \u001b[38;5;28;01melse\u001b[39;00m:\n\u001b[0;32m    621\u001b[0m         \u001b[38;5;28;01myield\u001b[39;00m _result_or_cancel(fs\u001b[38;5;241m.\u001b[39mpop(), end_time \u001b[38;5;241m-\u001b[39m time\u001b[38;5;241m.\u001b[39mmonotonic())\n",
      "File \u001b[1;32md:\\git\\plinio_assistant\\.conda\\Lib\\concurrent\\futures\\_base.py:317\u001b[0m, in \u001b[0;36m_result_or_cancel\u001b[1;34m(***failed resolving arguments***)\u001b[0m\n\u001b[0;32m    315\u001b[0m \u001b[38;5;28;01mtry\u001b[39;00m:\n\u001b[0;32m    316\u001b[0m     \u001b[38;5;28;01mtry\u001b[39;00m:\n\u001b[1;32m--> 317\u001b[0m         \u001b[38;5;28;01mreturn\u001b[39;00m \u001b[43mfut\u001b[49m\u001b[38;5;241;43m.\u001b[39;49m\u001b[43mresult\u001b[49m\u001b[43m(\u001b[49m\u001b[43mtimeout\u001b[49m\u001b[43m)\u001b[49m\n\u001b[0;32m    318\u001b[0m     \u001b[38;5;28;01mfinally\u001b[39;00m:\n\u001b[0;32m    319\u001b[0m         fut\u001b[38;5;241m.\u001b[39mcancel()\n",
      "File \u001b[1;32md:\\git\\plinio_assistant\\.conda\\Lib\\concurrent\\futures\\_base.py:449\u001b[0m, in \u001b[0;36mFuture.result\u001b[1;34m(self, timeout)\u001b[0m\n\u001b[0;32m    447\u001b[0m     \u001b[38;5;28;01mraise\u001b[39;00m CancelledError()\n\u001b[0;32m    448\u001b[0m \u001b[38;5;28;01melif\u001b[39;00m \u001b[38;5;28mself\u001b[39m\u001b[38;5;241m.\u001b[39m_state \u001b[38;5;241m==\u001b[39m FINISHED:\n\u001b[1;32m--> 449\u001b[0m     \u001b[38;5;28;01mreturn\u001b[39;00m \u001b[38;5;28;43mself\u001b[39;49m\u001b[38;5;241;43m.\u001b[39;49m\u001b[43m__get_result\u001b[49m\u001b[43m(\u001b[49m\u001b[43m)\u001b[49m\n\u001b[0;32m    451\u001b[0m \u001b[38;5;28mself\u001b[39m\u001b[38;5;241m.\u001b[39m_condition\u001b[38;5;241m.\u001b[39mwait(timeout)\n\u001b[0;32m    453\u001b[0m \u001b[38;5;28;01mif\u001b[39;00m \u001b[38;5;28mself\u001b[39m\u001b[38;5;241m.\u001b[39m_state \u001b[38;5;129;01min\u001b[39;00m [CANCELLED, CANCELLED_AND_NOTIFIED]:\n",
      "File \u001b[1;32md:\\git\\plinio_assistant\\.conda\\Lib\\concurrent\\futures\\_base.py:401\u001b[0m, in \u001b[0;36mFuture.__get_result\u001b[1;34m(self)\u001b[0m\n\u001b[0;32m    399\u001b[0m \u001b[38;5;28;01mif\u001b[39;00m \u001b[38;5;28mself\u001b[39m\u001b[38;5;241m.\u001b[39m_exception:\n\u001b[0;32m    400\u001b[0m     \u001b[38;5;28;01mtry\u001b[39;00m:\n\u001b[1;32m--> 401\u001b[0m         \u001b[38;5;28;01mraise\u001b[39;00m \u001b[38;5;28mself\u001b[39m\u001b[38;5;241m.\u001b[39m_exception\n\u001b[0;32m    402\u001b[0m     \u001b[38;5;28;01mfinally\u001b[39;00m:\n\u001b[0;32m    403\u001b[0m         \u001b[38;5;66;03m# Break a reference cycle with the exception in self._exception\u001b[39;00m\n\u001b[0;32m    404\u001b[0m         \u001b[38;5;28mself\u001b[39m \u001b[38;5;241m=\u001b[39m \u001b[38;5;28;01mNone\u001b[39;00m\n",
      "File \u001b[1;32md:\\git\\plinio_assistant\\.conda\\Lib\\concurrent\\futures\\thread.py:58\u001b[0m, in \u001b[0;36m_WorkItem.run\u001b[1;34m(self)\u001b[0m\n\u001b[0;32m     55\u001b[0m     \u001b[38;5;28;01mreturn\u001b[39;00m\n\u001b[0;32m     57\u001b[0m \u001b[38;5;28;01mtry\u001b[39;00m:\n\u001b[1;32m---> 58\u001b[0m     result \u001b[38;5;241m=\u001b[39m \u001b[38;5;28;43mself\u001b[39;49m\u001b[38;5;241;43m.\u001b[39;49m\u001b[43mfn\u001b[49m\u001b[43m(\u001b[49m\u001b[38;5;241;43m*\u001b[39;49m\u001b[38;5;28;43mself\u001b[39;49m\u001b[38;5;241;43m.\u001b[39;49m\u001b[43margs\u001b[49m\u001b[43m,\u001b[49m\u001b[43m \u001b[49m\u001b[38;5;241;43m*\u001b[39;49m\u001b[38;5;241;43m*\u001b[39;49m\u001b[38;5;28;43mself\u001b[39;49m\u001b[38;5;241;43m.\u001b[39;49m\u001b[43mkwargs\u001b[49m\u001b[43m)\u001b[49m\n\u001b[0;32m     59\u001b[0m \u001b[38;5;28;01mexcept\u001b[39;00m \u001b[38;5;167;01mBaseException\u001b[39;00m \u001b[38;5;28;01mas\u001b[39;00m exc:\n\u001b[0;32m     60\u001b[0m     \u001b[38;5;28mself\u001b[39m\u001b[38;5;241m.\u001b[39mfuture\u001b[38;5;241m.\u001b[39mset_exception(exc)\n",
      "File \u001b[1;32md:\\git\\plinio_assistant\\.conda\\Lib\\site-packages\\langchain_core\\runnables\\config.py:499\u001b[0m, in \u001b[0;36mContextThreadPoolExecutor.map.<locals>._wrapped_fn\u001b[1;34m(*args)\u001b[0m\n\u001b[0;32m    498\u001b[0m \u001b[38;5;28;01mdef\u001b[39;00m \u001b[38;5;21m_wrapped_fn\u001b[39m(\u001b[38;5;241m*\u001b[39margs: Any) \u001b[38;5;241m-\u001b[39m\u001b[38;5;241m>\u001b[39m T:\n\u001b[1;32m--> 499\u001b[0m     \u001b[38;5;28;01mreturn\u001b[39;00m \u001b[43mcontexts\u001b[49m\u001b[38;5;241;43m.\u001b[39;49m\u001b[43mpop\u001b[49m\u001b[43m(\u001b[49m\u001b[43m)\u001b[49m\u001b[38;5;241;43m.\u001b[39;49m\u001b[43mrun\u001b[49m\u001b[43m(\u001b[49m\u001b[43mfn\u001b[49m\u001b[43m,\u001b[49m\u001b[43m \u001b[49m\u001b[38;5;241;43m*\u001b[39;49m\u001b[43margs\u001b[49m\u001b[43m)\u001b[49m\n",
      "File \u001b[1;32md:\\git\\plinio_assistant\\.conda\\Lib\\site-packages\\langgraph\\prebuilt\\tool_node.py:79\u001b[0m, in \u001b[0;36mToolNode._func.<locals>.run_one\u001b[1;34m(call)\u001b[0m\n\u001b[0;32m     78\u001b[0m \u001b[38;5;28;01mdef\u001b[39;00m \u001b[38;5;21mrun_one\u001b[39m(call: ToolCall):\n\u001b[1;32m---> 79\u001b[0m     output \u001b[38;5;241m=\u001b[39m \u001b[38;5;28;43mself\u001b[39;49m\u001b[38;5;241;43m.\u001b[39;49m\u001b[43mtools_by_name\u001b[49m\u001b[43m[\u001b[49m\u001b[43mcall\u001b[49m\u001b[43m[\u001b[49m\u001b[38;5;124;43m\"\u001b[39;49m\u001b[38;5;124;43mname\u001b[39;49m\u001b[38;5;124;43m\"\u001b[39;49m\u001b[43m]\u001b[49m\u001b[43m]\u001b[49m\u001b[38;5;241;43m.\u001b[39;49m\u001b[43minvoke\u001b[49m\u001b[43m(\u001b[49m\u001b[43mcall\u001b[49m\u001b[43m[\u001b[49m\u001b[38;5;124;43m\"\u001b[39;49m\u001b[38;5;124;43margs\u001b[39;49m\u001b[38;5;124;43m\"\u001b[39;49m\u001b[43m]\u001b[49m\u001b[43m,\u001b[49m\u001b[43m \u001b[49m\u001b[43mconfig\u001b[49m\u001b[43m)\u001b[49m\n\u001b[0;32m     80\u001b[0m     \u001b[38;5;28;01mreturn\u001b[39;00m ToolMessage(\n\u001b[0;32m     81\u001b[0m         content\u001b[38;5;241m=\u001b[39mstr_output(output), name\u001b[38;5;241m=\u001b[39mcall[\u001b[38;5;124m\"\u001b[39m\u001b[38;5;124mname\u001b[39m\u001b[38;5;124m\"\u001b[39m], tool_call_id\u001b[38;5;241m=\u001b[39mcall[\u001b[38;5;124m\"\u001b[39m\u001b[38;5;124mid\u001b[39m\u001b[38;5;124m\"\u001b[39m]\n\u001b[0;32m     82\u001b[0m     )\n",
      "File \u001b[1;32md:\\git\\plinio_assistant\\.conda\\Lib\\site-packages\\langchain_core\\tools.py:260\u001b[0m, in \u001b[0;36mBaseTool.invoke\u001b[1;34m(self, input, config, **kwargs)\u001b[0m\n\u001b[0;32m    253\u001b[0m \u001b[38;5;28;01mdef\u001b[39;00m \u001b[38;5;21minvoke\u001b[39m(\n\u001b[0;32m    254\u001b[0m     \u001b[38;5;28mself\u001b[39m,\n\u001b[0;32m    255\u001b[0m     \u001b[38;5;28minput\u001b[39m: Union[\u001b[38;5;28mstr\u001b[39m, Dict],\n\u001b[0;32m    256\u001b[0m     config: Optional[RunnableConfig] \u001b[38;5;241m=\u001b[39m \u001b[38;5;28;01mNone\u001b[39;00m,\n\u001b[0;32m    257\u001b[0m     \u001b[38;5;241m*\u001b[39m\u001b[38;5;241m*\u001b[39mkwargs: Any,\n\u001b[0;32m    258\u001b[0m ) \u001b[38;5;241m-\u001b[39m\u001b[38;5;241m>\u001b[39m Any:\n\u001b[0;32m    259\u001b[0m     config \u001b[38;5;241m=\u001b[39m ensure_config(config)\n\u001b[1;32m--> 260\u001b[0m     \u001b[38;5;28;01mreturn\u001b[39;00m \u001b[38;5;28;43mself\u001b[39;49m\u001b[38;5;241;43m.\u001b[39;49m\u001b[43mrun\u001b[49m\u001b[43m(\u001b[49m\n\u001b[0;32m    261\u001b[0m \u001b[43m        \u001b[49m\u001b[38;5;28;43minput\u001b[39;49m\u001b[43m,\u001b[49m\n\u001b[0;32m    262\u001b[0m \u001b[43m        \u001b[49m\u001b[43mcallbacks\u001b[49m\u001b[38;5;241;43m=\u001b[39;49m\u001b[43mconfig\u001b[49m\u001b[38;5;241;43m.\u001b[39;49m\u001b[43mget\u001b[49m\u001b[43m(\u001b[49m\u001b[38;5;124;43m\"\u001b[39;49m\u001b[38;5;124;43mcallbacks\u001b[39;49m\u001b[38;5;124;43m\"\u001b[39;49m\u001b[43m)\u001b[49m\u001b[43m,\u001b[49m\n\u001b[0;32m    263\u001b[0m \u001b[43m        \u001b[49m\u001b[43mtags\u001b[49m\u001b[38;5;241;43m=\u001b[39;49m\u001b[43mconfig\u001b[49m\u001b[38;5;241;43m.\u001b[39;49m\u001b[43mget\u001b[49m\u001b[43m(\u001b[49m\u001b[38;5;124;43m\"\u001b[39;49m\u001b[38;5;124;43mtags\u001b[39;49m\u001b[38;5;124;43m\"\u001b[39;49m\u001b[43m)\u001b[49m\u001b[43m,\u001b[49m\n\u001b[0;32m    264\u001b[0m \u001b[43m        \u001b[49m\u001b[43mmetadata\u001b[49m\u001b[38;5;241;43m=\u001b[39;49m\u001b[43mconfig\u001b[49m\u001b[38;5;241;43m.\u001b[39;49m\u001b[43mget\u001b[49m\u001b[43m(\u001b[49m\u001b[38;5;124;43m\"\u001b[39;49m\u001b[38;5;124;43mmetadata\u001b[39;49m\u001b[38;5;124;43m\"\u001b[39;49m\u001b[43m)\u001b[49m\u001b[43m,\u001b[49m\n\u001b[0;32m    265\u001b[0m \u001b[43m        \u001b[49m\u001b[43mrun_name\u001b[49m\u001b[38;5;241;43m=\u001b[39;49m\u001b[43mconfig\u001b[49m\u001b[38;5;241;43m.\u001b[39;49m\u001b[43mget\u001b[49m\u001b[43m(\u001b[49m\u001b[38;5;124;43m\"\u001b[39;49m\u001b[38;5;124;43mrun_name\u001b[39;49m\u001b[38;5;124;43m\"\u001b[39;49m\u001b[43m)\u001b[49m\u001b[43m,\u001b[49m\n\u001b[0;32m    266\u001b[0m \u001b[43m        \u001b[49m\u001b[43mrun_id\u001b[49m\u001b[38;5;241;43m=\u001b[39;49m\u001b[43mconfig\u001b[49m\u001b[38;5;241;43m.\u001b[39;49m\u001b[43mpop\u001b[49m\u001b[43m(\u001b[49m\u001b[38;5;124;43m\"\u001b[39;49m\u001b[38;5;124;43mrun_id\u001b[39;49m\u001b[38;5;124;43m\"\u001b[39;49m\u001b[43m,\u001b[49m\u001b[43m \u001b[49m\u001b[38;5;28;43;01mNone\u001b[39;49;00m\u001b[43m)\u001b[49m\u001b[43m,\u001b[49m\n\u001b[0;32m    267\u001b[0m \u001b[43m        \u001b[49m\u001b[43mconfig\u001b[49m\u001b[38;5;241;43m=\u001b[39;49m\u001b[43mconfig\u001b[49m\u001b[43m,\u001b[49m\n\u001b[0;32m    268\u001b[0m \u001b[43m        \u001b[49m\u001b[38;5;241;43m*\u001b[39;49m\u001b[38;5;241;43m*\u001b[39;49m\u001b[43mkwargs\u001b[49m\u001b[43m,\u001b[49m\n\u001b[0;32m    269\u001b[0m \u001b[43m    \u001b[49m\u001b[43m)\u001b[49m\n",
      "File \u001b[1;32md:\\git\\plinio_assistant\\.conda\\Lib\\site-packages\\langchain_core\\tools.py:417\u001b[0m, in \u001b[0;36mBaseTool.run\u001b[1;34m(self, tool_input, verbose, start_color, color, callbacks, tags, metadata, run_name, run_id, config, **kwargs)\u001b[0m\n\u001b[0;32m    415\u001b[0m \u001b[38;5;28;01mexcept\u001b[39;00m ValidationError \u001b[38;5;28;01mas\u001b[39;00m e:\n\u001b[0;32m    416\u001b[0m     \u001b[38;5;28;01mif\u001b[39;00m \u001b[38;5;129;01mnot\u001b[39;00m \u001b[38;5;28mself\u001b[39m\u001b[38;5;241m.\u001b[39mhandle_validation_error:\n\u001b[1;32m--> 417\u001b[0m         \u001b[38;5;28;01mraise\u001b[39;00m e\n\u001b[0;32m    418\u001b[0m     \u001b[38;5;28;01melif\u001b[39;00m \u001b[38;5;28misinstance\u001b[39m(\u001b[38;5;28mself\u001b[39m\u001b[38;5;241m.\u001b[39mhandle_validation_error, \u001b[38;5;28mbool\u001b[39m):\n\u001b[0;32m    419\u001b[0m         observation \u001b[38;5;241m=\u001b[39m \u001b[38;5;124m\"\u001b[39m\u001b[38;5;124mTool input validation error\u001b[39m\u001b[38;5;124m\"\u001b[39m\n",
      "File \u001b[1;32md:\\git\\plinio_assistant\\.conda\\Lib\\site-packages\\langchain_core\\tools.py:406\u001b[0m, in \u001b[0;36mBaseTool.run\u001b[1;34m(self, tool_input, verbose, start_color, color, callbacks, tags, metadata, run_name, run_id, config, **kwargs)\u001b[0m\n\u001b[0;32m    404\u001b[0m context \u001b[38;5;241m=\u001b[39m copy_context()\n\u001b[0;32m    405\u001b[0m context\u001b[38;5;241m.\u001b[39mrun(_set_config_context, child_config)\n\u001b[1;32m--> 406\u001b[0m parsed_input \u001b[38;5;241m=\u001b[39m \u001b[38;5;28;43mself\u001b[39;49m\u001b[38;5;241;43m.\u001b[39;49m\u001b[43m_parse_input\u001b[49m\u001b[43m(\u001b[49m\u001b[43mtool_input\u001b[49m\u001b[43m)\u001b[49m\n\u001b[0;32m    407\u001b[0m tool_args, tool_kwargs \u001b[38;5;241m=\u001b[39m \u001b[38;5;28mself\u001b[39m\u001b[38;5;241m.\u001b[39m_to_args_and_kwargs(parsed_input)\n\u001b[0;32m    408\u001b[0m observation \u001b[38;5;241m=\u001b[39m (\n\u001b[0;32m    409\u001b[0m     context\u001b[38;5;241m.\u001b[39mrun(\n\u001b[0;32m    410\u001b[0m         \u001b[38;5;28mself\u001b[39m\u001b[38;5;241m.\u001b[39m_run, \u001b[38;5;241m*\u001b[39mtool_args, run_manager\u001b[38;5;241m=\u001b[39mrun_manager, \u001b[38;5;241m*\u001b[39m\u001b[38;5;241m*\u001b[39mtool_kwargs\n\u001b[1;32m   (...)\u001b[0m\n\u001b[0;32m    413\u001b[0m     \u001b[38;5;28;01melse\u001b[39;00m context\u001b[38;5;241m.\u001b[39mrun(\u001b[38;5;28mself\u001b[39m\u001b[38;5;241m.\u001b[39m_run, \u001b[38;5;241m*\u001b[39mtool_args, \u001b[38;5;241m*\u001b[39m\u001b[38;5;241m*\u001b[39mtool_kwargs)\n\u001b[0;32m    414\u001b[0m )\n",
      "File \u001b[1;32md:\\git\\plinio_assistant\\.conda\\Lib\\site-packages\\langchain_core\\tools.py:304\u001b[0m, in \u001b[0;36mBaseTool._parse_input\u001b[1;34m(self, tool_input)\u001b[0m\n\u001b[0;32m    302\u001b[0m \u001b[38;5;28;01melse\u001b[39;00m:\n\u001b[0;32m    303\u001b[0m     \u001b[38;5;28;01mif\u001b[39;00m input_args \u001b[38;5;129;01mis\u001b[39;00m \u001b[38;5;129;01mnot\u001b[39;00m \u001b[38;5;28;01mNone\u001b[39;00m:\n\u001b[1;32m--> 304\u001b[0m         result \u001b[38;5;241m=\u001b[39m \u001b[43minput_args\u001b[49m\u001b[38;5;241;43m.\u001b[39;49m\u001b[43mparse_obj\u001b[49m\u001b[43m(\u001b[49m\u001b[43mtool_input\u001b[49m\u001b[43m)\u001b[49m\n\u001b[0;32m    305\u001b[0m         \u001b[38;5;28;01mreturn\u001b[39;00m {\n\u001b[0;32m    306\u001b[0m             k: \u001b[38;5;28mgetattr\u001b[39m(result, k)\n\u001b[0;32m    307\u001b[0m             \u001b[38;5;28;01mfor\u001b[39;00m k, v \u001b[38;5;129;01min\u001b[39;00m result\u001b[38;5;241m.\u001b[39mdict()\u001b[38;5;241m.\u001b[39mitems()\n\u001b[0;32m    308\u001b[0m             \u001b[38;5;28;01mif\u001b[39;00m k \u001b[38;5;129;01min\u001b[39;00m tool_input\n\u001b[0;32m    309\u001b[0m         }\n\u001b[0;32m    310\u001b[0m \u001b[38;5;28;01mreturn\u001b[39;00m tool_input\n",
      "File \u001b[1;32md:\\git\\plinio_assistant\\.conda\\Lib\\site-packages\\pydantic\\v1\\main.py:526\u001b[0m, in \u001b[0;36mBaseModel.parse_obj\u001b[1;34m(cls, obj)\u001b[0m\n\u001b[0;32m    524\u001b[0m         exc \u001b[38;5;241m=\u001b[39m \u001b[38;5;167;01mTypeError\u001b[39;00m(\u001b[38;5;124mf\u001b[39m\u001b[38;5;124m'\u001b[39m\u001b[38;5;132;01m{\u001b[39;00m\u001b[38;5;28mcls\u001b[39m\u001b[38;5;241m.\u001b[39m\u001b[38;5;18m__name__\u001b[39m\u001b[38;5;132;01m}\u001b[39;00m\u001b[38;5;124m expected dict not \u001b[39m\u001b[38;5;132;01m{\u001b[39;00mobj\u001b[38;5;241m.\u001b[39m\u001b[38;5;18m__class__\u001b[39m\u001b[38;5;241m.\u001b[39m\u001b[38;5;18m__name__\u001b[39m\u001b[38;5;132;01m}\u001b[39;00m\u001b[38;5;124m'\u001b[39m)\n\u001b[0;32m    525\u001b[0m         \u001b[38;5;28;01mraise\u001b[39;00m ValidationError([ErrorWrapper(exc, loc\u001b[38;5;241m=\u001b[39mROOT_KEY)], \u001b[38;5;28mcls\u001b[39m) \u001b[38;5;28;01mfrom\u001b[39;00m \u001b[38;5;21;01me\u001b[39;00m\n\u001b[1;32m--> 526\u001b[0m \u001b[38;5;28;01mreturn\u001b[39;00m \u001b[38;5;28;43mcls\u001b[39;49m\u001b[43m(\u001b[49m\u001b[38;5;241;43m*\u001b[39;49m\u001b[38;5;241;43m*\u001b[39;49m\u001b[43mobj\u001b[49m\u001b[43m)\u001b[49m\n",
      "File \u001b[1;32md:\\git\\plinio_assistant\\.conda\\Lib\\site-packages\\pydantic\\v1\\main.py:341\u001b[0m, in \u001b[0;36mBaseModel.__init__\u001b[1;34m(__pydantic_self__, **data)\u001b[0m\n\u001b[0;32m    339\u001b[0m values, fields_set, validation_error \u001b[38;5;241m=\u001b[39m validate_model(__pydantic_self__\u001b[38;5;241m.\u001b[39m\u001b[38;5;18m__class__\u001b[39m, data)\n\u001b[0;32m    340\u001b[0m \u001b[38;5;28;01mif\u001b[39;00m validation_error:\n\u001b[1;32m--> 341\u001b[0m     \u001b[38;5;28;01mraise\u001b[39;00m validation_error\n\u001b[0;32m    342\u001b[0m \u001b[38;5;28;01mtry\u001b[39;00m:\n\u001b[0;32m    343\u001b[0m     object_setattr(__pydantic_self__, \u001b[38;5;124m'\u001b[39m\u001b[38;5;124m__dict__\u001b[39m\u001b[38;5;124m'\u001b[39m, values)\n",
      "\u001b[1;31mValidationError\u001b[0m: 1 validation error for create_tasksSchema\nrecords\n  field required (type=value_error.missing)"
     ]
    }
   ],
   "source": [
    "# Now the new tool\n",
    "user_input = HumanMessage(\"I have to create a ppt presentation, as well as calling my wife.\") # Pretty easy, theoretically. \n",
    "\n",
    "for event in tool_graph.stream({\"messages\": user_input}):\n",
    "    for value in event.values():\n",
    "        if isinstance(value[\"messages\"], BaseMessage): # Single message case.\n",
    "            print(\"Assistant:\", value[\"messages\"].content)\n",
    "        elif isinstance(value[\"messages\"][-1], BaseMessage): # Multi-message case.\n",
    "            print(\"Assistant:\", value[\"messages\"][-1].content)"
   ]
  },
  {
   "cell_type": "code",
   "execution_count": 72,
   "metadata": {},
   "outputs": [],
   "source": [
    "# It didn't send any attributes to the tool call, which is what I feared.\n",
    "# I'll try defining a Pydantic model to see if it helps.\n",
    "\n",
    "from langchain.pydantic_v1 import BaseModel, Field\n",
    "\n",
    "class TaskRecord(BaseModel):\n",
    "    Task: str = Field(description=\"A short description of the task to be done.\")\n",
    "\n",
    "class CreateTasksInput(BaseModel):\n",
    "    records: List[TaskRecord]"
   ]
  },
  {
   "cell_type": "code",
   "execution_count": 73,
   "metadata": {},
   "outputs": [],
   "source": [
    "# And also explicitly use it when creating the tool\n",
    "\n",
    "@tool(args_schema=CreateTasksInput)\n",
    "def create_tasks(records: CreateTasksInput) -> List[dict]:\n",
    "    \"\"\"\n",
    "    Used to create new tasks (i.e.: new 'to-do' style records).\n",
    "    \"\"\"\n",
    "\n",
    "    api = Api(os.environ['AIRTABLE_ACCESS_TOKEN'])\n",
    "    table = api.table(os.environ['AIRTABLE_BASE_ID'], 'Tasks')\n",
    "    return table.batch_create(records=records)"
   ]
  },
  {
   "cell_type": "code",
   "execution_count": 74,
   "metadata": {},
   "outputs": [
    {
     "name": "stdout",
     "output_type": "stream",
     "text": [
      "create_tasks\n",
      "Used to create new tasks (i.e.: new 'to-do' style records).\n",
      "{'records': {'title': 'Records', 'type': 'array', 'items': {'$ref': '#/definitions/TaskRecord'}}}\n",
      "False\n"
     ]
    }
   ],
   "source": [
    "# Let's check those attributes again.\n",
    "print(create_tasks.name)\n",
    "print(create_tasks.description)\n",
    "print(create_tasks.args)\n",
    "print(create_tasks.return_direct)"
   ]
  },
  {
   "cell_type": "code",
   "execution_count": 75,
   "metadata": {},
   "outputs": [],
   "source": [
    "# And try again.\n",
    "# Each time I'll just compact the graph script more.\n",
    "tool_graph_builder = StateGraph(State)\n",
    "toolset = [tavily_tool, read_tool, create_tasks] # New addition\n",
    "\n",
    "llm = ChatOpenAI(model='gpt-4o')\n",
    "llm_with_tools = llm.bind_tools(tools=toolset) # It does expect a list.\n",
    "\n",
    "tool_graph_builder.add_node('chatbot', chatbot_with_tools)\n",
    "\n",
    "tool_node = ToolNode(tools=toolset) # https://langchain-ai.github.io/langgraph/reference/prebuilt/#toolnode\n",
    "\n",
    "tool_graph_builder.add_node('tools', tool_node)\n",
    "\n",
    "tool_graph_builder.add_conditional_edges('chatbot', route_tools)\n",
    "\n",
    "tool_graph_builder.add_edge('tools', 'chatbot')\n",
    "\n",
    "# Now for boiler plate compiling\n",
    "\n",
    "tool_graph_builder.set_entry_point('chatbot')\n",
    "\n",
    "tool_graph = tool_graph_builder.compile()"
   ]
  },
  {
   "cell_type": "code",
   "execution_count": 76,
   "metadata": {},
   "outputs": [
    {
     "name": "stdout",
     "output_type": "stream",
     "text": [
      "Assistant: \n"
     ]
    },
    {
     "ename": "TypeError",
     "evalue": "Object of type TaskRecord is not JSON serializable",
     "output_type": "error",
     "traceback": [
      "\u001b[1;31m---------------------------------------------------------------------------\u001b[0m",
      "\u001b[1;31mTypeError\u001b[0m                                 Traceback (most recent call last)",
      "Cell \u001b[1;32mIn[76], line 4\u001b[0m\n\u001b[0;32m      1\u001b[0m \u001b[38;5;66;03m# Let's see\u001b[39;00m\n\u001b[0;32m      2\u001b[0m user_input \u001b[38;5;241m=\u001b[39m HumanMessage(\u001b[38;5;124m\"\u001b[39m\u001b[38;5;124mI have to create a ppt presentation, as well as calling my wife.\u001b[39m\u001b[38;5;124m\"\u001b[39m) \u001b[38;5;66;03m# Pretty easy, theoretically. \u001b[39;00m\n\u001b[1;32m----> 4\u001b[0m \u001b[38;5;28;43;01mfor\u001b[39;49;00m\u001b[43m \u001b[49m\u001b[43mevent\u001b[49m\u001b[43m \u001b[49m\u001b[38;5;129;43;01min\u001b[39;49;00m\u001b[43m \u001b[49m\u001b[43mtool_graph\u001b[49m\u001b[38;5;241;43m.\u001b[39;49m\u001b[43mstream\u001b[49m\u001b[43m(\u001b[49m\u001b[43m{\u001b[49m\u001b[38;5;124;43m\"\u001b[39;49m\u001b[38;5;124;43mmessages\u001b[39;49m\u001b[38;5;124;43m\"\u001b[39;49m\u001b[43m:\u001b[49m\u001b[43m \u001b[49m\u001b[43muser_input\u001b[49m\u001b[43m}\u001b[49m\u001b[43m)\u001b[49m\u001b[43m:\u001b[49m\n\u001b[0;32m      5\u001b[0m \u001b[43m    \u001b[49m\u001b[38;5;28;43;01mfor\u001b[39;49;00m\u001b[43m \u001b[49m\u001b[43mvalue\u001b[49m\u001b[43m \u001b[49m\u001b[38;5;129;43;01min\u001b[39;49;00m\u001b[43m \u001b[49m\u001b[43mevent\u001b[49m\u001b[38;5;241;43m.\u001b[39;49m\u001b[43mvalues\u001b[49m\u001b[43m(\u001b[49m\u001b[43m)\u001b[49m\u001b[43m:\u001b[49m\n\u001b[0;32m      6\u001b[0m \u001b[43m        \u001b[49m\u001b[38;5;28;43;01mif\u001b[39;49;00m\u001b[43m \u001b[49m\u001b[38;5;28;43misinstance\u001b[39;49m\u001b[43m(\u001b[49m\u001b[43mvalue\u001b[49m\u001b[43m[\u001b[49m\u001b[38;5;124;43m\"\u001b[39;49m\u001b[38;5;124;43mmessages\u001b[39;49m\u001b[38;5;124;43m\"\u001b[39;49m\u001b[43m]\u001b[49m\u001b[43m,\u001b[49m\u001b[43m \u001b[49m\u001b[43mBaseMessage\u001b[49m\u001b[43m)\u001b[49m\u001b[43m:\u001b[49m\u001b[43m \u001b[49m\u001b[38;5;66;43;03m# Single message case.\u001b[39;49;00m\n",
      "File \u001b[1;32md:\\git\\plinio_assistant\\.conda\\Lib\\site-packages\\langgraph\\pregel\\__init__.py:1073\u001b[0m, in \u001b[0;36mPregel.stream\u001b[1;34m(self, input, config, stream_mode, output_keys, input_keys, interrupt_before, interrupt_after, debug)\u001b[0m\n\u001b[0;32m   1070\u001b[0m         \u001b[38;5;28;01mdel\u001b[39;00m fut, task\n\u001b[0;32m   1072\u001b[0m \u001b[38;5;66;03m# panic on failure or timeout\u001b[39;00m\n\u001b[1;32m-> 1073\u001b[0m \u001b[43m_panic_or_proceed\u001b[49m\u001b[43m(\u001b[49m\u001b[43mdone\u001b[49m\u001b[43m,\u001b[49m\u001b[43m \u001b[49m\u001b[43minflight\u001b[49m\u001b[43m,\u001b[49m\u001b[43m \u001b[49m\u001b[43mstep\u001b[49m\u001b[43m)\u001b[49m\n\u001b[0;32m   1074\u001b[0m \u001b[38;5;66;03m# don't keep futures around in memory longer than needed\u001b[39;00m\n\u001b[0;32m   1075\u001b[0m \u001b[38;5;28;01mdel\u001b[39;00m done, inflight, futures\n",
      "File \u001b[1;32md:\\git\\plinio_assistant\\.conda\\Lib\\site-packages\\langgraph\\pregel\\__init__.py:1639\u001b[0m, in \u001b[0;36m_panic_or_proceed\u001b[1;34m(done, inflight, step)\u001b[0m\n\u001b[0;32m   1637\u001b[0m             inflight\u001b[38;5;241m.\u001b[39mpop()\u001b[38;5;241m.\u001b[39mcancel()\n\u001b[0;32m   1638\u001b[0m         \u001b[38;5;66;03m# raise the exception\u001b[39;00m\n\u001b[1;32m-> 1639\u001b[0m         \u001b[38;5;28;01mraise\u001b[39;00m exc\n\u001b[0;32m   1641\u001b[0m \u001b[38;5;28;01mif\u001b[39;00m inflight:\n\u001b[0;32m   1642\u001b[0m     \u001b[38;5;66;03m# if we got here means we timed out\u001b[39;00m\n\u001b[0;32m   1643\u001b[0m     \u001b[38;5;28;01mwhile\u001b[39;00m inflight:\n\u001b[0;32m   1644\u001b[0m         \u001b[38;5;66;03m# cancel all pending tasks\u001b[39;00m\n",
      "File \u001b[1;32md:\\git\\plinio_assistant\\.conda\\Lib\\concurrent\\futures\\thread.py:58\u001b[0m, in \u001b[0;36m_WorkItem.run\u001b[1;34m(self)\u001b[0m\n\u001b[0;32m     55\u001b[0m     \u001b[38;5;28;01mreturn\u001b[39;00m\n\u001b[0;32m     57\u001b[0m \u001b[38;5;28;01mtry\u001b[39;00m:\n\u001b[1;32m---> 58\u001b[0m     result \u001b[38;5;241m=\u001b[39m \u001b[38;5;28;43mself\u001b[39;49m\u001b[38;5;241;43m.\u001b[39;49m\u001b[43mfn\u001b[49m\u001b[43m(\u001b[49m\u001b[38;5;241;43m*\u001b[39;49m\u001b[38;5;28;43mself\u001b[39;49m\u001b[38;5;241;43m.\u001b[39;49m\u001b[43margs\u001b[49m\u001b[43m,\u001b[49m\u001b[43m \u001b[49m\u001b[38;5;241;43m*\u001b[39;49m\u001b[38;5;241;43m*\u001b[39;49m\u001b[38;5;28;43mself\u001b[39;49m\u001b[38;5;241;43m.\u001b[39;49m\u001b[43mkwargs\u001b[49m\u001b[43m)\u001b[49m\n\u001b[0;32m     59\u001b[0m \u001b[38;5;28;01mexcept\u001b[39;00m \u001b[38;5;167;01mBaseException\u001b[39;00m \u001b[38;5;28;01mas\u001b[39;00m exc:\n\u001b[0;32m     60\u001b[0m     \u001b[38;5;28mself\u001b[39m\u001b[38;5;241m.\u001b[39mfuture\u001b[38;5;241m.\u001b[39mset_exception(exc)\n",
      "File \u001b[1;32md:\\git\\plinio_assistant\\.conda\\Lib\\site-packages\\langgraph\\pregel\\retry.py:72\u001b[0m, in \u001b[0;36mrun_with_retry\u001b[1;34m(task, retry_policy)\u001b[0m\n\u001b[0;32m     70\u001b[0m task\u001b[38;5;241m.\u001b[39mwrites\u001b[38;5;241m.\u001b[39mclear()\n\u001b[0;32m     71\u001b[0m \u001b[38;5;66;03m# run the task\u001b[39;00m\n\u001b[1;32m---> 72\u001b[0m \u001b[43mtask\u001b[49m\u001b[38;5;241;43m.\u001b[39;49m\u001b[43mproc\u001b[49m\u001b[38;5;241;43m.\u001b[39;49m\u001b[43minvoke\u001b[49m\u001b[43m(\u001b[49m\u001b[43mtask\u001b[49m\u001b[38;5;241;43m.\u001b[39;49m\u001b[43minput\u001b[49m\u001b[43m,\u001b[49m\u001b[43m \u001b[49m\u001b[43mtask\u001b[49m\u001b[38;5;241;43m.\u001b[39;49m\u001b[43mconfig\u001b[49m\u001b[43m)\u001b[49m\n\u001b[0;32m     73\u001b[0m \u001b[38;5;66;03m# if successful, end\u001b[39;00m\n\u001b[0;32m     74\u001b[0m \u001b[38;5;28;01mbreak\u001b[39;00m\n",
      "File \u001b[1;32md:\\git\\plinio_assistant\\.conda\\Lib\\site-packages\\langchain_core\\runnables\\base.py:2505\u001b[0m, in \u001b[0;36mRunnableSequence.invoke\u001b[1;34m(self, input, config, **kwargs)\u001b[0m\n\u001b[0;32m   2501\u001b[0m config \u001b[38;5;241m=\u001b[39m patch_config(\n\u001b[0;32m   2502\u001b[0m     config, callbacks\u001b[38;5;241m=\u001b[39mrun_manager\u001b[38;5;241m.\u001b[39mget_child(\u001b[38;5;124mf\u001b[39m\u001b[38;5;124m\"\u001b[39m\u001b[38;5;124mseq:step:\u001b[39m\u001b[38;5;132;01m{\u001b[39;00mi\u001b[38;5;241m+\u001b[39m\u001b[38;5;241m1\u001b[39m\u001b[38;5;132;01m}\u001b[39;00m\u001b[38;5;124m\"\u001b[39m)\n\u001b[0;32m   2503\u001b[0m )\n\u001b[0;32m   2504\u001b[0m \u001b[38;5;28;01mif\u001b[39;00m i \u001b[38;5;241m==\u001b[39m \u001b[38;5;241m0\u001b[39m:\n\u001b[1;32m-> 2505\u001b[0m     \u001b[38;5;28minput\u001b[39m \u001b[38;5;241m=\u001b[39m \u001b[43mstep\u001b[49m\u001b[38;5;241;43m.\u001b[39;49m\u001b[43minvoke\u001b[49m\u001b[43m(\u001b[49m\u001b[38;5;28;43minput\u001b[39;49m\u001b[43m,\u001b[49m\u001b[43m \u001b[49m\u001b[43mconfig\u001b[49m\u001b[43m,\u001b[49m\u001b[43m \u001b[49m\u001b[38;5;241;43m*\u001b[39;49m\u001b[38;5;241;43m*\u001b[39;49m\u001b[43mkwargs\u001b[49m\u001b[43m)\u001b[49m\n\u001b[0;32m   2506\u001b[0m \u001b[38;5;28;01melse\u001b[39;00m:\n\u001b[0;32m   2507\u001b[0m     \u001b[38;5;28minput\u001b[39m \u001b[38;5;241m=\u001b[39m step\u001b[38;5;241m.\u001b[39minvoke(\u001b[38;5;28minput\u001b[39m, config)\n",
      "File \u001b[1;32md:\\git\\plinio_assistant\\.conda\\Lib\\site-packages\\langgraph\\utils.py:95\u001b[0m, in \u001b[0;36mRunnableCallable.invoke\u001b[1;34m(self, input, config, **kwargs)\u001b[0m\n\u001b[0;32m     93\u001b[0m     \u001b[38;5;28;01mif\u001b[39;00m accepts_config(\u001b[38;5;28mself\u001b[39m\u001b[38;5;241m.\u001b[39mfunc):\n\u001b[0;32m     94\u001b[0m         kwargs[\u001b[38;5;124m\"\u001b[39m\u001b[38;5;124mconfig\u001b[39m\u001b[38;5;124m\"\u001b[39m] \u001b[38;5;241m=\u001b[39m config\n\u001b[1;32m---> 95\u001b[0m     ret \u001b[38;5;241m=\u001b[39m \u001b[43mcontext\u001b[49m\u001b[38;5;241;43m.\u001b[39;49m\u001b[43mrun\u001b[49m\u001b[43m(\u001b[49m\u001b[38;5;28;43mself\u001b[39;49m\u001b[38;5;241;43m.\u001b[39;49m\u001b[43mfunc\u001b[49m\u001b[43m,\u001b[49m\u001b[43m \u001b[49m\u001b[38;5;28;43minput\u001b[39;49m\u001b[43m,\u001b[49m\u001b[43m \u001b[49m\u001b[38;5;241;43m*\u001b[39;49m\u001b[38;5;241;43m*\u001b[39;49m\u001b[43mkwargs\u001b[49m\u001b[43m)\u001b[49m\n\u001b[0;32m     96\u001b[0m \u001b[38;5;28;01mif\u001b[39;00m \u001b[38;5;28misinstance\u001b[39m(ret, Runnable) \u001b[38;5;129;01mand\u001b[39;00m \u001b[38;5;28mself\u001b[39m\u001b[38;5;241m.\u001b[39mrecurse:\n\u001b[0;32m     97\u001b[0m     \u001b[38;5;28;01mreturn\u001b[39;00m ret\u001b[38;5;241m.\u001b[39minvoke(\u001b[38;5;28minput\u001b[39m, config)\n",
      "File \u001b[1;32md:\\git\\plinio_assistant\\.conda\\Lib\\site-packages\\langgraph\\prebuilt\\tool_node.py:85\u001b[0m, in \u001b[0;36mToolNode._func\u001b[1;34m(self, input, config)\u001b[0m\n\u001b[0;32m     80\u001b[0m     \u001b[38;5;28;01mreturn\u001b[39;00m ToolMessage(\n\u001b[0;32m     81\u001b[0m         content\u001b[38;5;241m=\u001b[39mstr_output(output), name\u001b[38;5;241m=\u001b[39mcall[\u001b[38;5;124m\"\u001b[39m\u001b[38;5;124mname\u001b[39m\u001b[38;5;124m\"\u001b[39m], tool_call_id\u001b[38;5;241m=\u001b[39mcall[\u001b[38;5;124m\"\u001b[39m\u001b[38;5;124mid\u001b[39m\u001b[38;5;124m\"\u001b[39m]\n\u001b[0;32m     82\u001b[0m     )\n\u001b[0;32m     84\u001b[0m \u001b[38;5;28;01mwith\u001b[39;00m get_executor_for_config(config) \u001b[38;5;28;01mas\u001b[39;00m executor:\n\u001b[1;32m---> 85\u001b[0m     outputs \u001b[38;5;241m=\u001b[39m [\u001b[38;5;241m*\u001b[39mexecutor\u001b[38;5;241m.\u001b[39mmap(run_one, message\u001b[38;5;241m.\u001b[39mtool_calls)]\n\u001b[0;32m     86\u001b[0m     \u001b[38;5;28;01mif\u001b[39;00m output_type \u001b[38;5;241m==\u001b[39m \u001b[38;5;124m\"\u001b[39m\u001b[38;5;124mlist\u001b[39m\u001b[38;5;124m\"\u001b[39m:\n\u001b[0;32m     87\u001b[0m         \u001b[38;5;28;01mreturn\u001b[39;00m outputs\n",
      "File \u001b[1;32md:\\git\\plinio_assistant\\.conda\\Lib\\concurrent\\futures\\_base.py:619\u001b[0m, in \u001b[0;36mExecutor.map.<locals>.result_iterator\u001b[1;34m()\u001b[0m\n\u001b[0;32m    616\u001b[0m \u001b[38;5;28;01mwhile\u001b[39;00m fs:\n\u001b[0;32m    617\u001b[0m     \u001b[38;5;66;03m# Careful not to keep a reference to the popped future\u001b[39;00m\n\u001b[0;32m    618\u001b[0m     \u001b[38;5;28;01mif\u001b[39;00m timeout \u001b[38;5;129;01mis\u001b[39;00m \u001b[38;5;28;01mNone\u001b[39;00m:\n\u001b[1;32m--> 619\u001b[0m         \u001b[38;5;28;01myield\u001b[39;00m \u001b[43m_result_or_cancel\u001b[49m\u001b[43m(\u001b[49m\u001b[43mfs\u001b[49m\u001b[38;5;241;43m.\u001b[39;49m\u001b[43mpop\u001b[49m\u001b[43m(\u001b[49m\u001b[43m)\u001b[49m\u001b[43m)\u001b[49m\n\u001b[0;32m    620\u001b[0m     \u001b[38;5;28;01melse\u001b[39;00m:\n\u001b[0;32m    621\u001b[0m         \u001b[38;5;28;01myield\u001b[39;00m _result_or_cancel(fs\u001b[38;5;241m.\u001b[39mpop(), end_time \u001b[38;5;241m-\u001b[39m time\u001b[38;5;241m.\u001b[39mmonotonic())\n",
      "File \u001b[1;32md:\\git\\plinio_assistant\\.conda\\Lib\\concurrent\\futures\\_base.py:317\u001b[0m, in \u001b[0;36m_result_or_cancel\u001b[1;34m(***failed resolving arguments***)\u001b[0m\n\u001b[0;32m    315\u001b[0m \u001b[38;5;28;01mtry\u001b[39;00m:\n\u001b[0;32m    316\u001b[0m     \u001b[38;5;28;01mtry\u001b[39;00m:\n\u001b[1;32m--> 317\u001b[0m         \u001b[38;5;28;01mreturn\u001b[39;00m \u001b[43mfut\u001b[49m\u001b[38;5;241;43m.\u001b[39;49m\u001b[43mresult\u001b[49m\u001b[43m(\u001b[49m\u001b[43mtimeout\u001b[49m\u001b[43m)\u001b[49m\n\u001b[0;32m    318\u001b[0m     \u001b[38;5;28;01mfinally\u001b[39;00m:\n\u001b[0;32m    319\u001b[0m         fut\u001b[38;5;241m.\u001b[39mcancel()\n",
      "File \u001b[1;32md:\\git\\plinio_assistant\\.conda\\Lib\\concurrent\\futures\\_base.py:456\u001b[0m, in \u001b[0;36mFuture.result\u001b[1;34m(self, timeout)\u001b[0m\n\u001b[0;32m    454\u001b[0m     \u001b[38;5;28;01mraise\u001b[39;00m CancelledError()\n\u001b[0;32m    455\u001b[0m \u001b[38;5;28;01melif\u001b[39;00m \u001b[38;5;28mself\u001b[39m\u001b[38;5;241m.\u001b[39m_state \u001b[38;5;241m==\u001b[39m FINISHED:\n\u001b[1;32m--> 456\u001b[0m     \u001b[38;5;28;01mreturn\u001b[39;00m \u001b[38;5;28;43mself\u001b[39;49m\u001b[38;5;241;43m.\u001b[39;49m\u001b[43m__get_result\u001b[49m\u001b[43m(\u001b[49m\u001b[43m)\u001b[49m\n\u001b[0;32m    457\u001b[0m \u001b[38;5;28;01melse\u001b[39;00m:\n\u001b[0;32m    458\u001b[0m     \u001b[38;5;28;01mraise\u001b[39;00m \u001b[38;5;167;01mTimeoutError\u001b[39;00m()\n",
      "File \u001b[1;32md:\\git\\plinio_assistant\\.conda\\Lib\\concurrent\\futures\\_base.py:401\u001b[0m, in \u001b[0;36mFuture.__get_result\u001b[1;34m(self)\u001b[0m\n\u001b[0;32m    399\u001b[0m \u001b[38;5;28;01mif\u001b[39;00m \u001b[38;5;28mself\u001b[39m\u001b[38;5;241m.\u001b[39m_exception:\n\u001b[0;32m    400\u001b[0m     \u001b[38;5;28;01mtry\u001b[39;00m:\n\u001b[1;32m--> 401\u001b[0m         \u001b[38;5;28;01mraise\u001b[39;00m \u001b[38;5;28mself\u001b[39m\u001b[38;5;241m.\u001b[39m_exception\n\u001b[0;32m    402\u001b[0m     \u001b[38;5;28;01mfinally\u001b[39;00m:\n\u001b[0;32m    403\u001b[0m         \u001b[38;5;66;03m# Break a reference cycle with the exception in self._exception\u001b[39;00m\n\u001b[0;32m    404\u001b[0m         \u001b[38;5;28mself\u001b[39m \u001b[38;5;241m=\u001b[39m \u001b[38;5;28;01mNone\u001b[39;00m\n",
      "File \u001b[1;32md:\\git\\plinio_assistant\\.conda\\Lib\\concurrent\\futures\\thread.py:58\u001b[0m, in \u001b[0;36m_WorkItem.run\u001b[1;34m(self)\u001b[0m\n\u001b[0;32m     55\u001b[0m     \u001b[38;5;28;01mreturn\u001b[39;00m\n\u001b[0;32m     57\u001b[0m \u001b[38;5;28;01mtry\u001b[39;00m:\n\u001b[1;32m---> 58\u001b[0m     result \u001b[38;5;241m=\u001b[39m \u001b[38;5;28;43mself\u001b[39;49m\u001b[38;5;241;43m.\u001b[39;49m\u001b[43mfn\u001b[49m\u001b[43m(\u001b[49m\u001b[38;5;241;43m*\u001b[39;49m\u001b[38;5;28;43mself\u001b[39;49m\u001b[38;5;241;43m.\u001b[39;49m\u001b[43margs\u001b[49m\u001b[43m,\u001b[49m\u001b[43m \u001b[49m\u001b[38;5;241;43m*\u001b[39;49m\u001b[38;5;241;43m*\u001b[39;49m\u001b[38;5;28;43mself\u001b[39;49m\u001b[38;5;241;43m.\u001b[39;49m\u001b[43mkwargs\u001b[49m\u001b[43m)\u001b[49m\n\u001b[0;32m     59\u001b[0m \u001b[38;5;28;01mexcept\u001b[39;00m \u001b[38;5;167;01mBaseException\u001b[39;00m \u001b[38;5;28;01mas\u001b[39;00m exc:\n\u001b[0;32m     60\u001b[0m     \u001b[38;5;28mself\u001b[39m\u001b[38;5;241m.\u001b[39mfuture\u001b[38;5;241m.\u001b[39mset_exception(exc)\n",
      "File \u001b[1;32md:\\git\\plinio_assistant\\.conda\\Lib\\site-packages\\langchain_core\\runnables\\config.py:499\u001b[0m, in \u001b[0;36mContextThreadPoolExecutor.map.<locals>._wrapped_fn\u001b[1;34m(*args)\u001b[0m\n\u001b[0;32m    498\u001b[0m \u001b[38;5;28;01mdef\u001b[39;00m \u001b[38;5;21m_wrapped_fn\u001b[39m(\u001b[38;5;241m*\u001b[39margs: Any) \u001b[38;5;241m-\u001b[39m\u001b[38;5;241m>\u001b[39m T:\n\u001b[1;32m--> 499\u001b[0m     \u001b[38;5;28;01mreturn\u001b[39;00m \u001b[43mcontexts\u001b[49m\u001b[38;5;241;43m.\u001b[39;49m\u001b[43mpop\u001b[49m\u001b[43m(\u001b[49m\u001b[43m)\u001b[49m\u001b[38;5;241;43m.\u001b[39;49m\u001b[43mrun\u001b[49m\u001b[43m(\u001b[49m\u001b[43mfn\u001b[49m\u001b[43m,\u001b[49m\u001b[43m \u001b[49m\u001b[38;5;241;43m*\u001b[39;49m\u001b[43margs\u001b[49m\u001b[43m)\u001b[49m\n",
      "File \u001b[1;32md:\\git\\plinio_assistant\\.conda\\Lib\\site-packages\\langgraph\\prebuilt\\tool_node.py:79\u001b[0m, in \u001b[0;36mToolNode._func.<locals>.run_one\u001b[1;34m(call)\u001b[0m\n\u001b[0;32m     78\u001b[0m \u001b[38;5;28;01mdef\u001b[39;00m \u001b[38;5;21mrun_one\u001b[39m(call: ToolCall):\n\u001b[1;32m---> 79\u001b[0m     output \u001b[38;5;241m=\u001b[39m \u001b[38;5;28;43mself\u001b[39;49m\u001b[38;5;241;43m.\u001b[39;49m\u001b[43mtools_by_name\u001b[49m\u001b[43m[\u001b[49m\u001b[43mcall\u001b[49m\u001b[43m[\u001b[49m\u001b[38;5;124;43m\"\u001b[39;49m\u001b[38;5;124;43mname\u001b[39;49m\u001b[38;5;124;43m\"\u001b[39;49m\u001b[43m]\u001b[49m\u001b[43m]\u001b[49m\u001b[38;5;241;43m.\u001b[39;49m\u001b[43minvoke\u001b[49m\u001b[43m(\u001b[49m\u001b[43mcall\u001b[49m\u001b[43m[\u001b[49m\u001b[38;5;124;43m\"\u001b[39;49m\u001b[38;5;124;43margs\u001b[39;49m\u001b[38;5;124;43m\"\u001b[39;49m\u001b[43m]\u001b[49m\u001b[43m,\u001b[49m\u001b[43m \u001b[49m\u001b[43mconfig\u001b[49m\u001b[43m)\u001b[49m\n\u001b[0;32m     80\u001b[0m     \u001b[38;5;28;01mreturn\u001b[39;00m ToolMessage(\n\u001b[0;32m     81\u001b[0m         content\u001b[38;5;241m=\u001b[39mstr_output(output), name\u001b[38;5;241m=\u001b[39mcall[\u001b[38;5;124m\"\u001b[39m\u001b[38;5;124mname\u001b[39m\u001b[38;5;124m\"\u001b[39m], tool_call_id\u001b[38;5;241m=\u001b[39mcall[\u001b[38;5;124m\"\u001b[39m\u001b[38;5;124mid\u001b[39m\u001b[38;5;124m\"\u001b[39m]\n\u001b[0;32m     82\u001b[0m     )\n",
      "File \u001b[1;32md:\\git\\plinio_assistant\\.conda\\Lib\\site-packages\\langchain_core\\tools.py:260\u001b[0m, in \u001b[0;36mBaseTool.invoke\u001b[1;34m(self, input, config, **kwargs)\u001b[0m\n\u001b[0;32m    253\u001b[0m \u001b[38;5;28;01mdef\u001b[39;00m \u001b[38;5;21minvoke\u001b[39m(\n\u001b[0;32m    254\u001b[0m     \u001b[38;5;28mself\u001b[39m,\n\u001b[0;32m    255\u001b[0m     \u001b[38;5;28minput\u001b[39m: Union[\u001b[38;5;28mstr\u001b[39m, Dict],\n\u001b[0;32m    256\u001b[0m     config: Optional[RunnableConfig] \u001b[38;5;241m=\u001b[39m \u001b[38;5;28;01mNone\u001b[39;00m,\n\u001b[0;32m    257\u001b[0m     \u001b[38;5;241m*\u001b[39m\u001b[38;5;241m*\u001b[39mkwargs: Any,\n\u001b[0;32m    258\u001b[0m ) \u001b[38;5;241m-\u001b[39m\u001b[38;5;241m>\u001b[39m Any:\n\u001b[0;32m    259\u001b[0m     config \u001b[38;5;241m=\u001b[39m ensure_config(config)\n\u001b[1;32m--> 260\u001b[0m     \u001b[38;5;28;01mreturn\u001b[39;00m \u001b[38;5;28;43mself\u001b[39;49m\u001b[38;5;241;43m.\u001b[39;49m\u001b[43mrun\u001b[49m\u001b[43m(\u001b[49m\n\u001b[0;32m    261\u001b[0m \u001b[43m        \u001b[49m\u001b[38;5;28;43minput\u001b[39;49m\u001b[43m,\u001b[49m\n\u001b[0;32m    262\u001b[0m \u001b[43m        \u001b[49m\u001b[43mcallbacks\u001b[49m\u001b[38;5;241;43m=\u001b[39;49m\u001b[43mconfig\u001b[49m\u001b[38;5;241;43m.\u001b[39;49m\u001b[43mget\u001b[49m\u001b[43m(\u001b[49m\u001b[38;5;124;43m\"\u001b[39;49m\u001b[38;5;124;43mcallbacks\u001b[39;49m\u001b[38;5;124;43m\"\u001b[39;49m\u001b[43m)\u001b[49m\u001b[43m,\u001b[49m\n\u001b[0;32m    263\u001b[0m \u001b[43m        \u001b[49m\u001b[43mtags\u001b[49m\u001b[38;5;241;43m=\u001b[39;49m\u001b[43mconfig\u001b[49m\u001b[38;5;241;43m.\u001b[39;49m\u001b[43mget\u001b[49m\u001b[43m(\u001b[49m\u001b[38;5;124;43m\"\u001b[39;49m\u001b[38;5;124;43mtags\u001b[39;49m\u001b[38;5;124;43m\"\u001b[39;49m\u001b[43m)\u001b[49m\u001b[43m,\u001b[49m\n\u001b[0;32m    264\u001b[0m \u001b[43m        \u001b[49m\u001b[43mmetadata\u001b[49m\u001b[38;5;241;43m=\u001b[39;49m\u001b[43mconfig\u001b[49m\u001b[38;5;241;43m.\u001b[39;49m\u001b[43mget\u001b[49m\u001b[43m(\u001b[49m\u001b[38;5;124;43m\"\u001b[39;49m\u001b[38;5;124;43mmetadata\u001b[39;49m\u001b[38;5;124;43m\"\u001b[39;49m\u001b[43m)\u001b[49m\u001b[43m,\u001b[49m\n\u001b[0;32m    265\u001b[0m \u001b[43m        \u001b[49m\u001b[43mrun_name\u001b[49m\u001b[38;5;241;43m=\u001b[39;49m\u001b[43mconfig\u001b[49m\u001b[38;5;241;43m.\u001b[39;49m\u001b[43mget\u001b[49m\u001b[43m(\u001b[49m\u001b[38;5;124;43m\"\u001b[39;49m\u001b[38;5;124;43mrun_name\u001b[39;49m\u001b[38;5;124;43m\"\u001b[39;49m\u001b[43m)\u001b[49m\u001b[43m,\u001b[49m\n\u001b[0;32m    266\u001b[0m \u001b[43m        \u001b[49m\u001b[43mrun_id\u001b[49m\u001b[38;5;241;43m=\u001b[39;49m\u001b[43mconfig\u001b[49m\u001b[38;5;241;43m.\u001b[39;49m\u001b[43mpop\u001b[49m\u001b[43m(\u001b[49m\u001b[38;5;124;43m\"\u001b[39;49m\u001b[38;5;124;43mrun_id\u001b[39;49m\u001b[38;5;124;43m\"\u001b[39;49m\u001b[43m,\u001b[49m\u001b[43m \u001b[49m\u001b[38;5;28;43;01mNone\u001b[39;49;00m\u001b[43m)\u001b[49m\u001b[43m,\u001b[49m\n\u001b[0;32m    267\u001b[0m \u001b[43m        \u001b[49m\u001b[43mconfig\u001b[49m\u001b[38;5;241;43m=\u001b[39;49m\u001b[43mconfig\u001b[49m\u001b[43m,\u001b[49m\n\u001b[0;32m    268\u001b[0m \u001b[43m        \u001b[49m\u001b[38;5;241;43m*\u001b[39;49m\u001b[38;5;241;43m*\u001b[39;49m\u001b[43mkwargs\u001b[49m\u001b[43m,\u001b[49m\n\u001b[0;32m    269\u001b[0m \u001b[43m    \u001b[49m\u001b[43m)\u001b[49m\n",
      "File \u001b[1;32md:\\git\\plinio_assistant\\.conda\\Lib\\site-packages\\langchain_core\\tools.py:452\u001b[0m, in \u001b[0;36mBaseTool.run\u001b[1;34m(self, tool_input, verbose, start_color, color, callbacks, tags, metadata, run_name, run_id, config, **kwargs)\u001b[0m\n\u001b[0;32m    450\u001b[0m \u001b[38;5;28;01mexcept\u001b[39;00m (\u001b[38;5;167;01mException\u001b[39;00m, \u001b[38;5;167;01mKeyboardInterrupt\u001b[39;00m) \u001b[38;5;28;01mas\u001b[39;00m e:\n\u001b[0;32m    451\u001b[0m     run_manager\u001b[38;5;241m.\u001b[39mon_tool_error(e)\n\u001b[1;32m--> 452\u001b[0m     \u001b[38;5;28;01mraise\u001b[39;00m e\n\u001b[0;32m    453\u001b[0m \u001b[38;5;28;01melse\u001b[39;00m:\n\u001b[0;32m    454\u001b[0m     run_manager\u001b[38;5;241m.\u001b[39mon_tool_end(observation, color\u001b[38;5;241m=\u001b[39mcolor, name\u001b[38;5;241m=\u001b[39m\u001b[38;5;28mself\u001b[39m\u001b[38;5;241m.\u001b[39mname, \u001b[38;5;241m*\u001b[39m\u001b[38;5;241m*\u001b[39mkwargs)\n",
      "File \u001b[1;32md:\\git\\plinio_assistant\\.conda\\Lib\\site-packages\\langchain_core\\tools.py:409\u001b[0m, in \u001b[0;36mBaseTool.run\u001b[1;34m(self, tool_input, verbose, start_color, color, callbacks, tags, metadata, run_name, run_id, config, **kwargs)\u001b[0m\n\u001b[0;32m    406\u001b[0m     parsed_input \u001b[38;5;241m=\u001b[39m \u001b[38;5;28mself\u001b[39m\u001b[38;5;241m.\u001b[39m_parse_input(tool_input)\n\u001b[0;32m    407\u001b[0m     tool_args, tool_kwargs \u001b[38;5;241m=\u001b[39m \u001b[38;5;28mself\u001b[39m\u001b[38;5;241m.\u001b[39m_to_args_and_kwargs(parsed_input)\n\u001b[0;32m    408\u001b[0m     observation \u001b[38;5;241m=\u001b[39m (\n\u001b[1;32m--> 409\u001b[0m         \u001b[43mcontext\u001b[49m\u001b[38;5;241;43m.\u001b[39;49m\u001b[43mrun\u001b[49m\u001b[43m(\u001b[49m\n\u001b[0;32m    410\u001b[0m \u001b[43m            \u001b[49m\u001b[38;5;28;43mself\u001b[39;49m\u001b[38;5;241;43m.\u001b[39;49m\u001b[43m_run\u001b[49m\u001b[43m,\u001b[49m\u001b[43m \u001b[49m\u001b[38;5;241;43m*\u001b[39;49m\u001b[43mtool_args\u001b[49m\u001b[43m,\u001b[49m\u001b[43m \u001b[49m\u001b[43mrun_manager\u001b[49m\u001b[38;5;241;43m=\u001b[39;49m\u001b[43mrun_manager\u001b[49m\u001b[43m,\u001b[49m\u001b[43m \u001b[49m\u001b[38;5;241;43m*\u001b[39;49m\u001b[38;5;241;43m*\u001b[39;49m\u001b[43mtool_kwargs\u001b[49m\n\u001b[0;32m    411\u001b[0m \u001b[43m        \u001b[49m\u001b[43m)\u001b[49m\n\u001b[0;32m    412\u001b[0m         \u001b[38;5;28;01mif\u001b[39;00m new_arg_supported\n\u001b[0;32m    413\u001b[0m         \u001b[38;5;28;01melse\u001b[39;00m context\u001b[38;5;241m.\u001b[39mrun(\u001b[38;5;28mself\u001b[39m\u001b[38;5;241m.\u001b[39m_run, \u001b[38;5;241m*\u001b[39mtool_args, \u001b[38;5;241m*\u001b[39m\u001b[38;5;241m*\u001b[39mtool_kwargs)\n\u001b[0;32m    414\u001b[0m     )\n\u001b[0;32m    415\u001b[0m \u001b[38;5;28;01mexcept\u001b[39;00m ValidationError \u001b[38;5;28;01mas\u001b[39;00m e:\n\u001b[0;32m    416\u001b[0m     \u001b[38;5;28;01mif\u001b[39;00m \u001b[38;5;129;01mnot\u001b[39;00m \u001b[38;5;28mself\u001b[39m\u001b[38;5;241m.\u001b[39mhandle_validation_error:\n",
      "File \u001b[1;32md:\\git\\plinio_assistant\\.conda\\Lib\\site-packages\\langchain_core\\tools.py:750\u001b[0m, in \u001b[0;36mStructuredTool._run\u001b[1;34m(self, run_manager, *args, **kwargs)\u001b[0m\n\u001b[0;32m    741\u001b[0m \u001b[38;5;28;01mif\u001b[39;00m \u001b[38;5;28mself\u001b[39m\u001b[38;5;241m.\u001b[39mfunc:\n\u001b[0;32m    742\u001b[0m     new_argument_supported \u001b[38;5;241m=\u001b[39m signature(\u001b[38;5;28mself\u001b[39m\u001b[38;5;241m.\u001b[39mfunc)\u001b[38;5;241m.\u001b[39mparameters\u001b[38;5;241m.\u001b[39mget(\u001b[38;5;124m\"\u001b[39m\u001b[38;5;124mcallbacks\u001b[39m\u001b[38;5;124m\"\u001b[39m)\n\u001b[0;32m    743\u001b[0m     \u001b[38;5;28;01mreturn\u001b[39;00m (\n\u001b[0;32m    744\u001b[0m         \u001b[38;5;28mself\u001b[39m\u001b[38;5;241m.\u001b[39mfunc(\n\u001b[0;32m    745\u001b[0m             \u001b[38;5;241m*\u001b[39margs,\n\u001b[0;32m    746\u001b[0m             callbacks\u001b[38;5;241m=\u001b[39mrun_manager\u001b[38;5;241m.\u001b[39mget_child() \u001b[38;5;28;01mif\u001b[39;00m run_manager \u001b[38;5;28;01melse\u001b[39;00m \u001b[38;5;28;01mNone\u001b[39;00m,\n\u001b[0;32m    747\u001b[0m             \u001b[38;5;241m*\u001b[39m\u001b[38;5;241m*\u001b[39mkwargs,\n\u001b[0;32m    748\u001b[0m         )\n\u001b[0;32m    749\u001b[0m         \u001b[38;5;28;01mif\u001b[39;00m new_argument_supported\n\u001b[1;32m--> 750\u001b[0m         \u001b[38;5;28;01melse\u001b[39;00m \u001b[38;5;28;43mself\u001b[39;49m\u001b[38;5;241;43m.\u001b[39;49m\u001b[43mfunc\u001b[49m\u001b[43m(\u001b[49m\u001b[38;5;241;43m*\u001b[39;49m\u001b[43margs\u001b[49m\u001b[43m,\u001b[49m\u001b[43m \u001b[49m\u001b[38;5;241;43m*\u001b[39;49m\u001b[38;5;241;43m*\u001b[39;49m\u001b[43mkwargs\u001b[49m\u001b[43m)\u001b[49m\n\u001b[0;32m    751\u001b[0m     )\n\u001b[0;32m    752\u001b[0m \u001b[38;5;28;01mraise\u001b[39;00m \u001b[38;5;167;01mNotImplementedError\u001b[39;00m(\u001b[38;5;124m\"\u001b[39m\u001b[38;5;124mTool does not support sync\u001b[39m\u001b[38;5;124m\"\u001b[39m)\n",
      "Cell \u001b[1;32mIn[73], line 11\u001b[0m, in \u001b[0;36mcreate_tasks\u001b[1;34m(records)\u001b[0m\n\u001b[0;32m      9\u001b[0m api \u001b[38;5;241m=\u001b[39m Api(os\u001b[38;5;241m.\u001b[39menviron[\u001b[38;5;124m'\u001b[39m\u001b[38;5;124mAIRTABLE_ACCESS_TOKEN\u001b[39m\u001b[38;5;124m'\u001b[39m])\n\u001b[0;32m     10\u001b[0m table \u001b[38;5;241m=\u001b[39m api\u001b[38;5;241m.\u001b[39mtable(os\u001b[38;5;241m.\u001b[39menviron[\u001b[38;5;124m'\u001b[39m\u001b[38;5;124mAIRTABLE_BASE_ID\u001b[39m\u001b[38;5;124m'\u001b[39m], \u001b[38;5;124m'\u001b[39m\u001b[38;5;124mTasks\u001b[39m\u001b[38;5;124m'\u001b[39m)\n\u001b[1;32m---> 11\u001b[0m \u001b[38;5;28;01mreturn\u001b[39;00m \u001b[43mtable\u001b[49m\u001b[38;5;241;43m.\u001b[39;49m\u001b[43mbatch_create\u001b[49m\u001b[43m(\u001b[49m\u001b[43mrecords\u001b[49m\u001b[38;5;241;43m=\u001b[39;49m\u001b[43mrecords\u001b[49m\u001b[43m)\u001b[49m\n",
      "File \u001b[1;32md:\\git\\plinio_assistant\\.conda\\Lib\\site-packages\\pyairtable\\api\\table.py:349\u001b[0m, in \u001b[0;36mTable.batch_create\u001b[1;34m(self, records, typecast, return_fields_by_field_id)\u001b[0m\n\u001b[0;32m    347\u001b[0m \u001b[38;5;28;01mfor\u001b[39;00m chunk \u001b[38;5;129;01min\u001b[39;00m \u001b[38;5;28mself\u001b[39m\u001b[38;5;241m.\u001b[39mapi\u001b[38;5;241m.\u001b[39mchunked(records):\n\u001b[0;32m    348\u001b[0m     new_records \u001b[38;5;241m=\u001b[39m [{\u001b[38;5;124m\"\u001b[39m\u001b[38;5;124mfields\u001b[39m\u001b[38;5;124m\"\u001b[39m: fields} \u001b[38;5;28;01mfor\u001b[39;00m fields \u001b[38;5;129;01min\u001b[39;00m chunk]\n\u001b[1;32m--> 349\u001b[0m     response \u001b[38;5;241m=\u001b[39m \u001b[38;5;28;43mself\u001b[39;49m\u001b[38;5;241;43m.\u001b[39;49m\u001b[43mapi\u001b[49m\u001b[38;5;241;43m.\u001b[39;49m\u001b[43mpost\u001b[49m\u001b[43m(\u001b[49m\n\u001b[0;32m    350\u001b[0m \u001b[43m        \u001b[49m\u001b[43murl\u001b[49m\u001b[38;5;241;43m=\u001b[39;49m\u001b[38;5;28;43mself\u001b[39;49m\u001b[38;5;241;43m.\u001b[39;49m\u001b[43murl\u001b[49m\u001b[43m,\u001b[49m\n\u001b[0;32m    351\u001b[0m \u001b[43m        \u001b[49m\u001b[43mjson\u001b[49m\u001b[38;5;241;43m=\u001b[39;49m\u001b[43m{\u001b[49m\n\u001b[0;32m    352\u001b[0m \u001b[43m            \u001b[49m\u001b[38;5;124;43m\"\u001b[39;49m\u001b[38;5;124;43mrecords\u001b[39;49m\u001b[38;5;124;43m\"\u001b[39;49m\u001b[43m:\u001b[49m\u001b[43m \u001b[49m\u001b[43mnew_records\u001b[49m\u001b[43m,\u001b[49m\n\u001b[0;32m    353\u001b[0m \u001b[43m            \u001b[49m\u001b[38;5;124;43m\"\u001b[39;49m\u001b[38;5;124;43mtypecast\u001b[39;49m\u001b[38;5;124;43m\"\u001b[39;49m\u001b[43m:\u001b[49m\u001b[43m \u001b[49m\u001b[43mtypecast\u001b[49m\u001b[43m,\u001b[49m\n\u001b[0;32m    354\u001b[0m \u001b[43m            \u001b[49m\u001b[38;5;124;43m\"\u001b[39;49m\u001b[38;5;124;43mreturnFieldsByFieldId\u001b[39;49m\u001b[38;5;124;43m\"\u001b[39;49m\u001b[43m:\u001b[49m\u001b[43m \u001b[49m\u001b[43mreturn_fields_by_field_id\u001b[49m\u001b[43m,\u001b[49m\n\u001b[0;32m    355\u001b[0m \u001b[43m        \u001b[49m\u001b[43m}\u001b[49m\u001b[43m,\u001b[49m\n\u001b[0;32m    356\u001b[0m \u001b[43m    \u001b[49m\u001b[43m)\u001b[49m\n\u001b[0;32m    357\u001b[0m     inserted_records \u001b[38;5;241m+\u001b[39m\u001b[38;5;241m=\u001b[39m assert_typed_dicts(RecordDict, response[\u001b[38;5;124m\"\u001b[39m\u001b[38;5;124mrecords\u001b[39m\u001b[38;5;124m\"\u001b[39m])\n\u001b[0;32m    359\u001b[0m \u001b[38;5;28;01mreturn\u001b[39;00m inserted_records\n",
      "File \u001b[1;32md:\\git\\plinio_assistant\\.conda\\Lib\\site-packages\\pyairtable\\api\\api.py:245\u001b[0m, in \u001b[0;36mApi.request\u001b[1;34m(self, method, url, fallback, options, params, json)\u001b[0m\n\u001b[0;32m    239\u001b[0m request_params \u001b[38;5;241m=\u001b[39m {\n\u001b[0;32m    240\u001b[0m     \u001b[38;5;241m*\u001b[39m\u001b[38;5;241m*\u001b[39moptions_to_params(options \u001b[38;5;129;01mor\u001b[39;00m {}),\n\u001b[0;32m    241\u001b[0m     \u001b[38;5;241m*\u001b[39m\u001b[38;5;241m*\u001b[39m(params \u001b[38;5;129;01mor\u001b[39;00m {}),\n\u001b[0;32m    242\u001b[0m }\n\u001b[0;32m    244\u001b[0m \u001b[38;5;66;03m# Build a requests.PreparedRequest so we can examine how long the URL is.\u001b[39;00m\n\u001b[1;32m--> 245\u001b[0m prepared \u001b[38;5;241m=\u001b[39m \u001b[38;5;28;43mself\u001b[39;49m\u001b[38;5;241;43m.\u001b[39;49m\u001b[43msession\u001b[49m\u001b[38;5;241;43m.\u001b[39;49m\u001b[43mprepare_request\u001b[49m\u001b[43m(\u001b[49m\n\u001b[0;32m    246\u001b[0m \u001b[43m    \u001b[49m\u001b[43mrequests\u001b[49m\u001b[38;5;241;43m.\u001b[39;49m\u001b[43mRequest\u001b[49m\u001b[43m(\u001b[49m\n\u001b[0;32m    247\u001b[0m \u001b[43m        \u001b[49m\u001b[43mmethod\u001b[49m\u001b[43m,\u001b[49m\n\u001b[0;32m    248\u001b[0m \u001b[43m        \u001b[49m\u001b[43murl\u001b[49m\u001b[38;5;241;43m=\u001b[39;49m\u001b[43murl\u001b[49m\u001b[43m,\u001b[49m\n\u001b[0;32m    249\u001b[0m \u001b[43m        \u001b[49m\u001b[43mparams\u001b[49m\u001b[38;5;241;43m=\u001b[39;49m\u001b[43mrequest_params\u001b[49m\u001b[43m,\u001b[49m\n\u001b[0;32m    250\u001b[0m \u001b[43m        \u001b[49m\u001b[43mjson\u001b[49m\u001b[38;5;241;43m=\u001b[39;49m\u001b[43mjson\u001b[49m\u001b[43m,\u001b[49m\n\u001b[0;32m    251\u001b[0m \u001b[43m    \u001b[49m\u001b[43m)\u001b[49m\n\u001b[0;32m    252\u001b[0m \u001b[43m\u001b[49m\u001b[43m)\u001b[49m\n\u001b[0;32m    254\u001b[0m \u001b[38;5;66;03m# If our URL is too long, move *most* (not all) query params into a POST body.\u001b[39;00m\n\u001b[0;32m    255\u001b[0m \u001b[38;5;28;01mif\u001b[39;00m (\n\u001b[0;32m    256\u001b[0m     fallback\n\u001b[0;32m    257\u001b[0m     \u001b[38;5;129;01mand\u001b[39;00m method\u001b[38;5;241m.\u001b[39mupper() \u001b[38;5;241m==\u001b[39m \u001b[38;5;124m\"\u001b[39m\u001b[38;5;124mGET\u001b[39m\u001b[38;5;124m\"\u001b[39m\n\u001b[0;32m    258\u001b[0m     \u001b[38;5;129;01mand\u001b[39;00m \u001b[38;5;28mlen\u001b[39m(\u001b[38;5;28mstr\u001b[39m(prepared\u001b[38;5;241m.\u001b[39murl)) \u001b[38;5;241m>\u001b[39m\u001b[38;5;241m=\u001b[39m \u001b[38;5;28mself\u001b[39m\u001b[38;5;241m.\u001b[39mMAX_URL_LENGTH\n\u001b[0;32m    259\u001b[0m ):\n",
      "File \u001b[1;32md:\\git\\plinio_assistant\\.conda\\Lib\\site-packages\\requests\\sessions.py:484\u001b[0m, in \u001b[0;36mSession.prepare_request\u001b[1;34m(self, request)\u001b[0m\n\u001b[0;32m    481\u001b[0m     auth \u001b[38;5;241m=\u001b[39m get_netrc_auth(request\u001b[38;5;241m.\u001b[39murl)\n\u001b[0;32m    483\u001b[0m p \u001b[38;5;241m=\u001b[39m PreparedRequest()\n\u001b[1;32m--> 484\u001b[0m \u001b[43mp\u001b[49m\u001b[38;5;241;43m.\u001b[39;49m\u001b[43mprepare\u001b[49m\u001b[43m(\u001b[49m\n\u001b[0;32m    485\u001b[0m \u001b[43m    \u001b[49m\u001b[43mmethod\u001b[49m\u001b[38;5;241;43m=\u001b[39;49m\u001b[43mrequest\u001b[49m\u001b[38;5;241;43m.\u001b[39;49m\u001b[43mmethod\u001b[49m\u001b[38;5;241;43m.\u001b[39;49m\u001b[43mupper\u001b[49m\u001b[43m(\u001b[49m\u001b[43m)\u001b[49m\u001b[43m,\u001b[49m\n\u001b[0;32m    486\u001b[0m \u001b[43m    \u001b[49m\u001b[43murl\u001b[49m\u001b[38;5;241;43m=\u001b[39;49m\u001b[43mrequest\u001b[49m\u001b[38;5;241;43m.\u001b[39;49m\u001b[43murl\u001b[49m\u001b[43m,\u001b[49m\n\u001b[0;32m    487\u001b[0m \u001b[43m    \u001b[49m\u001b[43mfiles\u001b[49m\u001b[38;5;241;43m=\u001b[39;49m\u001b[43mrequest\u001b[49m\u001b[38;5;241;43m.\u001b[39;49m\u001b[43mfiles\u001b[49m\u001b[43m,\u001b[49m\n\u001b[0;32m    488\u001b[0m \u001b[43m    \u001b[49m\u001b[43mdata\u001b[49m\u001b[38;5;241;43m=\u001b[39;49m\u001b[43mrequest\u001b[49m\u001b[38;5;241;43m.\u001b[39;49m\u001b[43mdata\u001b[49m\u001b[43m,\u001b[49m\n\u001b[0;32m    489\u001b[0m \u001b[43m    \u001b[49m\u001b[43mjson\u001b[49m\u001b[38;5;241;43m=\u001b[39;49m\u001b[43mrequest\u001b[49m\u001b[38;5;241;43m.\u001b[39;49m\u001b[43mjson\u001b[49m\u001b[43m,\u001b[49m\n\u001b[0;32m    490\u001b[0m \u001b[43m    \u001b[49m\u001b[43mheaders\u001b[49m\u001b[38;5;241;43m=\u001b[39;49m\u001b[43mmerge_setting\u001b[49m\u001b[43m(\u001b[49m\n\u001b[0;32m    491\u001b[0m \u001b[43m        \u001b[49m\u001b[43mrequest\u001b[49m\u001b[38;5;241;43m.\u001b[39;49m\u001b[43mheaders\u001b[49m\u001b[43m,\u001b[49m\u001b[43m \u001b[49m\u001b[38;5;28;43mself\u001b[39;49m\u001b[38;5;241;43m.\u001b[39;49m\u001b[43mheaders\u001b[49m\u001b[43m,\u001b[49m\u001b[43m \u001b[49m\u001b[43mdict_class\u001b[49m\u001b[38;5;241;43m=\u001b[39;49m\u001b[43mCaseInsensitiveDict\u001b[49m\n\u001b[0;32m    492\u001b[0m \u001b[43m    \u001b[49m\u001b[43m)\u001b[49m\u001b[43m,\u001b[49m\n\u001b[0;32m    493\u001b[0m \u001b[43m    \u001b[49m\u001b[43mparams\u001b[49m\u001b[38;5;241;43m=\u001b[39;49m\u001b[43mmerge_setting\u001b[49m\u001b[43m(\u001b[49m\u001b[43mrequest\u001b[49m\u001b[38;5;241;43m.\u001b[39;49m\u001b[43mparams\u001b[49m\u001b[43m,\u001b[49m\u001b[43m \u001b[49m\u001b[38;5;28;43mself\u001b[39;49m\u001b[38;5;241;43m.\u001b[39;49m\u001b[43mparams\u001b[49m\u001b[43m)\u001b[49m\u001b[43m,\u001b[49m\n\u001b[0;32m    494\u001b[0m \u001b[43m    \u001b[49m\u001b[43mauth\u001b[49m\u001b[38;5;241;43m=\u001b[39;49m\u001b[43mmerge_setting\u001b[49m\u001b[43m(\u001b[49m\u001b[43mauth\u001b[49m\u001b[43m,\u001b[49m\u001b[43m \u001b[49m\u001b[38;5;28;43mself\u001b[39;49m\u001b[38;5;241;43m.\u001b[39;49m\u001b[43mauth\u001b[49m\u001b[43m)\u001b[49m\u001b[43m,\u001b[49m\n\u001b[0;32m    495\u001b[0m \u001b[43m    \u001b[49m\u001b[43mcookies\u001b[49m\u001b[38;5;241;43m=\u001b[39;49m\u001b[43mmerged_cookies\u001b[49m\u001b[43m,\u001b[49m\n\u001b[0;32m    496\u001b[0m \u001b[43m    \u001b[49m\u001b[43mhooks\u001b[49m\u001b[38;5;241;43m=\u001b[39;49m\u001b[43mmerge_hooks\u001b[49m\u001b[43m(\u001b[49m\u001b[43mrequest\u001b[49m\u001b[38;5;241;43m.\u001b[39;49m\u001b[43mhooks\u001b[49m\u001b[43m,\u001b[49m\u001b[43m \u001b[49m\u001b[38;5;28;43mself\u001b[39;49m\u001b[38;5;241;43m.\u001b[39;49m\u001b[43mhooks\u001b[49m\u001b[43m)\u001b[49m\u001b[43m,\u001b[49m\n\u001b[0;32m    497\u001b[0m \u001b[43m\u001b[49m\u001b[43m)\u001b[49m\n\u001b[0;32m    498\u001b[0m \u001b[38;5;28;01mreturn\u001b[39;00m p\n",
      "File \u001b[1;32md:\\git\\plinio_assistant\\.conda\\Lib\\site-packages\\requests\\models.py:370\u001b[0m, in \u001b[0;36mPreparedRequest.prepare\u001b[1;34m(self, method, url, headers, files, data, params, auth, cookies, hooks, json)\u001b[0m\n\u001b[0;32m    368\u001b[0m \u001b[38;5;28mself\u001b[39m\u001b[38;5;241m.\u001b[39mprepare_headers(headers)\n\u001b[0;32m    369\u001b[0m \u001b[38;5;28mself\u001b[39m\u001b[38;5;241m.\u001b[39mprepare_cookies(cookies)\n\u001b[1;32m--> 370\u001b[0m \u001b[38;5;28;43mself\u001b[39;49m\u001b[38;5;241;43m.\u001b[39;49m\u001b[43mprepare_body\u001b[49m\u001b[43m(\u001b[49m\u001b[43mdata\u001b[49m\u001b[43m,\u001b[49m\u001b[43m \u001b[49m\u001b[43mfiles\u001b[49m\u001b[43m,\u001b[49m\u001b[43m \u001b[49m\u001b[43mjson\u001b[49m\u001b[43m)\u001b[49m\n\u001b[0;32m    371\u001b[0m \u001b[38;5;28mself\u001b[39m\u001b[38;5;241m.\u001b[39mprepare_auth(auth, url)\n\u001b[0;32m    373\u001b[0m \u001b[38;5;66;03m# Note that prepare_auth must be last to enable authentication schemes\u001b[39;00m\n\u001b[0;32m    374\u001b[0m \u001b[38;5;66;03m# such as OAuth to work on a fully prepared request.\u001b[39;00m\n\u001b[0;32m    375\u001b[0m \n\u001b[0;32m    376\u001b[0m \u001b[38;5;66;03m# This MUST go after prepare_auth. Authenticators could add a hook\u001b[39;00m\n",
      "File \u001b[1;32md:\\git\\plinio_assistant\\.conda\\Lib\\site-packages\\requests\\models.py:510\u001b[0m, in \u001b[0;36mPreparedRequest.prepare_body\u001b[1;34m(self, data, files, json)\u001b[0m\n\u001b[0;32m    507\u001b[0m content_type \u001b[38;5;241m=\u001b[39m \u001b[38;5;124m\"\u001b[39m\u001b[38;5;124mapplication/json\u001b[39m\u001b[38;5;124m\"\u001b[39m\n\u001b[0;32m    509\u001b[0m \u001b[38;5;28;01mtry\u001b[39;00m:\n\u001b[1;32m--> 510\u001b[0m     body \u001b[38;5;241m=\u001b[39m \u001b[43mcomplexjson\u001b[49m\u001b[38;5;241;43m.\u001b[39;49m\u001b[43mdumps\u001b[49m\u001b[43m(\u001b[49m\u001b[43mjson\u001b[49m\u001b[43m,\u001b[49m\u001b[43m \u001b[49m\u001b[43mallow_nan\u001b[49m\u001b[38;5;241;43m=\u001b[39;49m\u001b[38;5;28;43;01mFalse\u001b[39;49;00m\u001b[43m)\u001b[49m\n\u001b[0;32m    511\u001b[0m \u001b[38;5;28;01mexcept\u001b[39;00m \u001b[38;5;167;01mValueError\u001b[39;00m \u001b[38;5;28;01mas\u001b[39;00m ve:\n\u001b[0;32m    512\u001b[0m     \u001b[38;5;28;01mraise\u001b[39;00m InvalidJSONError(ve, request\u001b[38;5;241m=\u001b[39m\u001b[38;5;28mself\u001b[39m)\n",
      "File \u001b[1;32md:\\git\\plinio_assistant\\.conda\\Lib\\json\\__init__.py:238\u001b[0m, in \u001b[0;36mdumps\u001b[1;34m(obj, skipkeys, ensure_ascii, check_circular, allow_nan, cls, indent, separators, default, sort_keys, **kw)\u001b[0m\n\u001b[0;32m    232\u001b[0m \u001b[38;5;28;01mif\u001b[39;00m \u001b[38;5;28mcls\u001b[39m \u001b[38;5;129;01mis\u001b[39;00m \u001b[38;5;28;01mNone\u001b[39;00m:\n\u001b[0;32m    233\u001b[0m     \u001b[38;5;28mcls\u001b[39m \u001b[38;5;241m=\u001b[39m JSONEncoder\n\u001b[0;32m    234\u001b[0m \u001b[38;5;28;01mreturn\u001b[39;00m \u001b[38;5;28;43mcls\u001b[39;49m\u001b[43m(\u001b[49m\n\u001b[0;32m    235\u001b[0m \u001b[43m    \u001b[49m\u001b[43mskipkeys\u001b[49m\u001b[38;5;241;43m=\u001b[39;49m\u001b[43mskipkeys\u001b[49m\u001b[43m,\u001b[49m\u001b[43m \u001b[49m\u001b[43mensure_ascii\u001b[49m\u001b[38;5;241;43m=\u001b[39;49m\u001b[43mensure_ascii\u001b[49m\u001b[43m,\u001b[49m\n\u001b[0;32m    236\u001b[0m \u001b[43m    \u001b[49m\u001b[43mcheck_circular\u001b[49m\u001b[38;5;241;43m=\u001b[39;49m\u001b[43mcheck_circular\u001b[49m\u001b[43m,\u001b[49m\u001b[43m \u001b[49m\u001b[43mallow_nan\u001b[49m\u001b[38;5;241;43m=\u001b[39;49m\u001b[43mallow_nan\u001b[49m\u001b[43m,\u001b[49m\u001b[43m \u001b[49m\u001b[43mindent\u001b[49m\u001b[38;5;241;43m=\u001b[39;49m\u001b[43mindent\u001b[49m\u001b[43m,\u001b[49m\n\u001b[0;32m    237\u001b[0m \u001b[43m    \u001b[49m\u001b[43mseparators\u001b[49m\u001b[38;5;241;43m=\u001b[39;49m\u001b[43mseparators\u001b[49m\u001b[43m,\u001b[49m\u001b[43m \u001b[49m\u001b[43mdefault\u001b[49m\u001b[38;5;241;43m=\u001b[39;49m\u001b[43mdefault\u001b[49m\u001b[43m,\u001b[49m\u001b[43m \u001b[49m\u001b[43msort_keys\u001b[49m\u001b[38;5;241;43m=\u001b[39;49m\u001b[43msort_keys\u001b[49m\u001b[43m,\u001b[49m\n\u001b[1;32m--> 238\u001b[0m \u001b[43m    \u001b[49m\u001b[38;5;241;43m*\u001b[39;49m\u001b[38;5;241;43m*\u001b[39;49m\u001b[43mkw\u001b[49m\u001b[43m)\u001b[49m\u001b[38;5;241;43m.\u001b[39;49m\u001b[43mencode\u001b[49m\u001b[43m(\u001b[49m\u001b[43mobj\u001b[49m\u001b[43m)\u001b[49m\n",
      "File \u001b[1;32md:\\git\\plinio_assistant\\.conda\\Lib\\json\\encoder.py:200\u001b[0m, in \u001b[0;36mJSONEncoder.encode\u001b[1;34m(self, o)\u001b[0m\n\u001b[0;32m    196\u001b[0m         \u001b[38;5;28;01mreturn\u001b[39;00m encode_basestring(o)\n\u001b[0;32m    197\u001b[0m \u001b[38;5;66;03m# This doesn't pass the iterator directly to ''.join() because the\u001b[39;00m\n\u001b[0;32m    198\u001b[0m \u001b[38;5;66;03m# exceptions aren't as detailed.  The list call should be roughly\u001b[39;00m\n\u001b[0;32m    199\u001b[0m \u001b[38;5;66;03m# equivalent to the PySequence_Fast that ''.join() would do.\u001b[39;00m\n\u001b[1;32m--> 200\u001b[0m chunks \u001b[38;5;241m=\u001b[39m \u001b[38;5;28;43mself\u001b[39;49m\u001b[38;5;241;43m.\u001b[39;49m\u001b[43miterencode\u001b[49m\u001b[43m(\u001b[49m\u001b[43mo\u001b[49m\u001b[43m,\u001b[49m\u001b[43m \u001b[49m\u001b[43m_one_shot\u001b[49m\u001b[38;5;241;43m=\u001b[39;49m\u001b[38;5;28;43;01mTrue\u001b[39;49;00m\u001b[43m)\u001b[49m\n\u001b[0;32m    201\u001b[0m \u001b[38;5;28;01mif\u001b[39;00m \u001b[38;5;129;01mnot\u001b[39;00m \u001b[38;5;28misinstance\u001b[39m(chunks, (\u001b[38;5;28mlist\u001b[39m, \u001b[38;5;28mtuple\u001b[39m)):\n\u001b[0;32m    202\u001b[0m     chunks \u001b[38;5;241m=\u001b[39m \u001b[38;5;28mlist\u001b[39m(chunks)\n",
      "File \u001b[1;32md:\\git\\plinio_assistant\\.conda\\Lib\\json\\encoder.py:258\u001b[0m, in \u001b[0;36mJSONEncoder.iterencode\u001b[1;34m(self, o, _one_shot)\u001b[0m\n\u001b[0;32m    253\u001b[0m \u001b[38;5;28;01melse\u001b[39;00m:\n\u001b[0;32m    254\u001b[0m     _iterencode \u001b[38;5;241m=\u001b[39m _make_iterencode(\n\u001b[0;32m    255\u001b[0m         markers, \u001b[38;5;28mself\u001b[39m\u001b[38;5;241m.\u001b[39mdefault, _encoder, \u001b[38;5;28mself\u001b[39m\u001b[38;5;241m.\u001b[39mindent, floatstr,\n\u001b[0;32m    256\u001b[0m         \u001b[38;5;28mself\u001b[39m\u001b[38;5;241m.\u001b[39mkey_separator, \u001b[38;5;28mself\u001b[39m\u001b[38;5;241m.\u001b[39mitem_separator, \u001b[38;5;28mself\u001b[39m\u001b[38;5;241m.\u001b[39msort_keys,\n\u001b[0;32m    257\u001b[0m         \u001b[38;5;28mself\u001b[39m\u001b[38;5;241m.\u001b[39mskipkeys, _one_shot)\n\u001b[1;32m--> 258\u001b[0m \u001b[38;5;28;01mreturn\u001b[39;00m \u001b[43m_iterencode\u001b[49m\u001b[43m(\u001b[49m\u001b[43mo\u001b[49m\u001b[43m,\u001b[49m\u001b[43m \u001b[49m\u001b[38;5;241;43m0\u001b[39;49m\u001b[43m)\u001b[49m\n",
      "File \u001b[1;32md:\\git\\plinio_assistant\\.conda\\Lib\\json\\encoder.py:180\u001b[0m, in \u001b[0;36mJSONEncoder.default\u001b[1;34m(self, o)\u001b[0m\n\u001b[0;32m    161\u001b[0m \u001b[38;5;28;01mdef\u001b[39;00m \u001b[38;5;21mdefault\u001b[39m(\u001b[38;5;28mself\u001b[39m, o):\n\u001b[0;32m    162\u001b[0m \u001b[38;5;250m    \u001b[39m\u001b[38;5;124;03m\"\"\"Implement this method in a subclass such that it returns\u001b[39;00m\n\u001b[0;32m    163\u001b[0m \u001b[38;5;124;03m    a serializable object for ``o``, or calls the base implementation\u001b[39;00m\n\u001b[0;32m    164\u001b[0m \u001b[38;5;124;03m    (to raise a ``TypeError``).\u001b[39;00m\n\u001b[1;32m   (...)\u001b[0m\n\u001b[0;32m    178\u001b[0m \n\u001b[0;32m    179\u001b[0m \u001b[38;5;124;03m    \"\"\"\u001b[39;00m\n\u001b[1;32m--> 180\u001b[0m     \u001b[38;5;28;01mraise\u001b[39;00m \u001b[38;5;167;01mTypeError\u001b[39;00m(\u001b[38;5;124mf\u001b[39m\u001b[38;5;124m'\u001b[39m\u001b[38;5;124mObject of type \u001b[39m\u001b[38;5;132;01m{\u001b[39;00mo\u001b[38;5;241m.\u001b[39m\u001b[38;5;18m__class__\u001b[39m\u001b[38;5;241m.\u001b[39m\u001b[38;5;18m__name__\u001b[39m\u001b[38;5;132;01m}\u001b[39;00m\u001b[38;5;124m \u001b[39m\u001b[38;5;124m'\u001b[39m\n\u001b[0;32m    181\u001b[0m                     \u001b[38;5;124mf\u001b[39m\u001b[38;5;124m'\u001b[39m\u001b[38;5;124mis not JSON serializable\u001b[39m\u001b[38;5;124m'\u001b[39m)\n",
      "\u001b[1;31mTypeError\u001b[0m: Object of type TaskRecord is not JSON serializable"
     ]
    }
   ],
   "source": [
    "# Let's see\n",
    "user_input = HumanMessage(\"I have to create a ppt presentation, as well as calling my wife.\") # Pretty easy, theoretically. \n",
    "\n",
    "for event in tool_graph.stream({\"messages\": user_input}):\n",
    "    for value in event.values():\n",
    "        if isinstance(value[\"messages\"], BaseMessage): # Single message case.\n",
    "            print(\"Assistant:\", value[\"messages\"].content)\n",
    "        elif isinstance(value[\"messages\"][-1], BaseMessage): # Multi-message case.\n",
    "            print(\"Assistant:\", value[\"messages\"][-1].content)"
   ]
  },
  {
   "cell_type": "code",
   "execution_count": 94,
   "metadata": {},
   "outputs": [],
   "source": [
    "# Now the problem is pyairtable's API trying to parse the input.\n",
    "# Let's try some ChatGPT fixes.\n",
    "import json\n",
    "\n",
    "@tool(args_schema=CreateTasksInput)\n",
    "def create_tasks(records: CreateTasksInput) -> List[dict]:\n",
    "    \"\"\"\n",
    "    Used to create new tasks (i.e.: new 'to-do' style records).\n",
    "    \"\"\"\n",
    "    api = Api(os.environ['AIRTABLE_ACCESS_TOKEN'])\n",
    "    table = api.table(os.environ['AIRTABLE_BASE_ID'], 'Tasks')\n",
    "    \n",
    "    # Convert TaskRecord instances to dictionaries\n",
    "    dict_records = [record.dict() for record in records] # Not quite sure this .dict() method won't just run into a string.\n",
    "\n",
    "    # Since this is the CREATE tasks, all statuses should be 'A Iniciar'\n",
    "    for item in dict_records:\n",
    "        item['Status'] = 'A iniciar'\n",
    "    \n",
    "    return table.batch_create(records=dict_records)"
   ]
  },
  {
   "cell_type": "code",
   "execution_count": 95,
   "metadata": {},
   "outputs": [],
   "source": [
    "tool_graph_builder = StateGraph(State)\n",
    "toolset = [tavily_tool, read_tool, create_tasks] # New addition\n",
    "llm = ChatOpenAI(model='gpt-4o')\n",
    "llm_with_tools = llm.bind_tools(tools=toolset) # It does expect a list.\n",
    "tool_graph_builder.add_node('chatbot', chatbot_with_tools)\n",
    "tool_node = ToolNode(tools=toolset) # https://langchain-ai.github.io/langgraph/reference/prebuilt/#toolnode\n",
    "tool_graph_builder.add_node('tools', tool_node)\n",
    "tool_graph_builder.add_conditional_edges('chatbot', route_tools)\n",
    "tool_graph_builder.add_edge('tools', 'chatbot')\n",
    "# Now for boiler plate compiling\n",
    "tool_graph_builder.set_entry_point('chatbot')\n",
    "tool_graph = tool_graph_builder.compile()"
   ]
  },
  {
   "cell_type": "code",
   "execution_count": 96,
   "metadata": {},
   "outputs": [
    {
     "name": "stdout",
     "output_type": "stream",
     "text": [
      "Assistant: \n",
      "Assistant: [{\"id\": \"recjWAmq1AjyeDyKI\", \"createdTime\": \"2024-07-02T17:07:43.000Z\", \"fields\": {\"unique_id\": 107, \"Task\": \"Create a PowerPoint presentation\", \"Status\": \"A iniciar\", \"Calculation\": \"recjWAmq1AjyeDyKI\"}}, {\"id\": \"reccR5McLXYC3hf21\", \"createdTime\": \"2024-07-02T17:07:43.000Z\", \"fields\": {\"unique_id\": 108, \"Task\": \"Call my wife\", \"Status\": \"A iniciar\", \"Calculation\": \"reccR5McLXYC3hf21\"}}]\n",
      "Assistant: I've added both tasks to your to-do list:\n",
      "\n",
      "1. **Create a PowerPoint presentation**\n",
      "2. **Call your wife**\n",
      "\n",
      "Feel free to let me know if there's anything else I can assist you with!\n"
     ]
    }
   ],
   "source": [
    "# Let's see\n",
    "user_input = HumanMessage(\"I have to create a ppt presentation, as well as calling my wife.\") # Pretty easy, theoretically. \n",
    "\n",
    "for event in tool_graph.stream({\"messages\": user_input}):\n",
    "    for value in event.values():\n",
    "        if isinstance(value[\"messages\"], BaseMessage): # Single message case.\n",
    "            print(\"Assistant:\", value[\"messages\"].content)\n",
    "        elif isinstance(value[\"messages\"][-1], BaseMessage): # Multi-message case.\n",
    "            print(\"Assistant:\", value[\"messages\"][-1].content)"
   ]
  },
  {
   "cell_type": "code",
   "execution_count": 97,
   "metadata": {},
   "outputs": [],
   "source": [
    "# Great, it worked!\n",
    "# There's still some complexity in the Airtable interface, but I'll need more complex graph structures as well."
   ]
  },
  {
   "cell_type": "code",
   "execution_count": 98,
   "metadata": {},
   "outputs": [],
   "source": [
    "# On to part 3 of the introduction notebook: Memory.\n",
    "# Basically keeping the context.\n",
    "\n",
    "# It does this by checkpointing. Here I'll also probably deviate from the example, since it uses Sqlite in memory,\n",
    "# and I'm not yet sure how I'll end up implementing it.\n",
    "\n",
    "# Checkpoints are basically versioning control for graph runs. Pretty OP.\n",
    "\n",
    "# I'm still kind of reading the docs, and noticing this is something I won't fully grasp. I don't like this very much."
   ]
  }
 ],
 "metadata": {
  "kernelspec": {
   "display_name": "Python 3",
   "language": "python",
   "name": "python3"
  },
  "language_info": {
   "codemirror_mode": {
    "name": "ipython",
    "version": 3
   },
   "file_extension": ".py",
   "mimetype": "text/x-python",
   "name": "python",
   "nbconvert_exporter": "python",
   "pygments_lexer": "ipython3",
   "version": "3.11.9"
  }
 },
 "nbformat": 4,
 "nbformat_minor": 2
}
